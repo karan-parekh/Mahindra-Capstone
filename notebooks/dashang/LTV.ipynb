{
 "cells": [
  {
   "cell_type": "markdown",
   "metadata": {},
   "source": [
    "## Capstone Project : Mahindra First Choice\n"
   ]
  },
  {
   "cell_type": "markdown",
   "metadata": {},
   "source": [
    "### Problem Statement\n",
    "Mahindra First Choice Services (MFCS) is a company of Mahindra Group and is India’s leading chain of multi-brand car workshops with over 335+ workshops present in 267+ towns & 24 states. It has serviced over 10,50,000 cars. The company aims to establish countrywide network of over 400 workshops by March 2018.\n",
    "Mahindra would now like to leverage the data that they have and address the key issues they have. Read along to know how you can help them improve their business.\n",
    "The dataset consist of three aspects:\n",
    "* Customer data: where the details of the customer like the car owned, state and place of residence, order type, etc are present. Data dimension is of 534000 Customer entries\n",
    "* Invoice data: where information related to customer visits and transactions are recorded, whether a customer as insurance claims, bifurcation of the amount \n",
    " paid, for what type of service did the customer came for, etc…\n",
    "* Material Inventory: where information related to what kind of service did the customer took and what kind of material was used to service, Labor information and the cost for the service, Plant and plant name where the customer took the service.\n"
   ]
  },
  {
   "cell_type": "markdown",
   "metadata": {},
   "source": [
    "### Objective\n",
    "\n",
    "### Geolocation Based Customer Analysis:\n",
    "The idea is to explore how various factors like car make & model, time and type of service etc. vary with location. Since the servicing industry is local in nature, this kind of an analysis could possibly render some really interesting business insights.\n",
    "Furthermore, this analysis will enable us to formulate more concrete machine learning problems.\n",
    "From the data at hand it is possible to extract insights about customer behaviour especially the following questions can be addressed\n",
    "\n",
    "#### Problem Statement-1\n",
    "Identifying the ownership pattern of cars throughout the country. This also captures the problem wherein information regarding the spending patterns can be identified Expected Business Outcome: Mahindra First Choice Services will be benefited in multiple ways. Knowing the ownership pattern targeted marketing campaigns could be carried out. Knowing the spending patterns services could be suited to the particular spending pattern.\n",
    "\n",
    "#### Problem Statement-2\n",
    "Identify the type of order each state receives and present it as an interactive visualization. Expected Business Outcome: This could potentially give information about how Mahindra First Choice needs to be prepared to tackle various seasonal cases\n",
    "\n",
    "### Market Segmentation:\n",
    "Market segmentation is the process of dividing a market of potential customers into internally homogeneous and mutually heterogeneous groups or segments, based on different characteristics captured in the data. Groups created through such a segmentation exercise many times reveal behavioral patterns which are different from generally accepted segments by the business. The exercise is broadly known as “clustering” and is aimed at finding the consumers who will respond similarly to various stimuli by detecting underlying behavior patterns.\n",
    "Though clustering falls under a Machine Learning problem category called unsupervised learning, which requires extensive efforts, it is possible to carry out a visual analysis in a relatively short timespan.\n",
    "\n",
    "#### Problem Statement: \n",
    "Customer Lifetime value prediction - Based on Customer segments, predict the revenue that can be extracted from each segment over a life of the car -Regression/Time Series.\n"
   ]
  },
  {
   "cell_type": "markdown",
   "metadata": {},
   "source": [
    "## Start of Notebook"
   ]
  },
  {
   "cell_type": "markdown",
   "metadata": {},
   "source": [
    "#### Why are we doing this\n",
    "- To Help Mahindra improve its business from analysing the data given like max. car model coming for repair location-wise, top sales garage etc\n",
    "- To Identify more profitable area or expansion in other regions"
   ]
  },
  {
   "cell_type": "markdown",
   "metadata": {},
   "source": [
    "#### Stakeholders:\n",
    "- Marketing Head of Mahindra First [For Marketing Campaign]\n",
    "- Operational Head/State Head of Mahindra First [For knowing In-Outs operation in Garage]\n",
    "- Project Manager [i.e. Our Consulting Firm Manager - To which Mahindra First Company are first point of contact with for Analysis]"
   ]
  },
  {
   "cell_type": "markdown",
   "metadata": {},
   "source": [
    "## Start of Notebook"
   ]
  },
  {
   "cell_type": "markdown",
   "metadata": {},
   "source": [
    "## Table Of Contents\n",
    "\n",
    "### 1. <a href=\"#Importing-Libraries\">Libraries Imported </a> \n",
    "### 2. <a href=\"#Import-DataSet\">Import DataSet </a>\n",
    "### 3. <a href=\"#EDA\">EDA </a> "
   ]
  },
  {
   "cell_type": "markdown",
   "metadata": {},
   "source": [
    "### Importing Libraries"
   ]
  },
  {
   "cell_type": "code",
   "execution_count": 12,
   "metadata": {},
   "outputs": [],
   "source": [
    "import pandas as pd\n",
    "import numpy as np\n",
    "import os\n",
    "import matplotlib.pyplot as plt\n",
    "from sklearn.impute import SimpleImputer\n",
    "import plotly\n",
    "import plotly.graph_objects as go\n",
    "import re\n",
    "import pgeocode"
   ]
  },
  {
   "cell_type": "code",
   "execution_count": 13,
   "metadata": {},
   "outputs": [],
   "source": [
    " # Some tweaks for displaying large rows\n",
    "pd.set_option('display.max_rows', 500)\n",
    "pd.set_option('display.max_columns', 500)\n",
    "pd.set_option('display.width', 1000)"
   ]
  },
  {
   "cell_type": "code",
   "execution_count": 14,
   "metadata": {},
   "outputs": [],
   "source": [
    "# If DataSet lies in another Directory\n",
    "#os.getcwd()\n",
    "os.chdir(\"C:\\\\Users\\\\Dashang\\\\Documents\\\\GreyAtom_Capstone_MahindraFirst\\\\\") "
   ]
  },
  {
   "cell_type": "markdown",
   "metadata": {},
   "source": [
    "### Import DataSet"
   ]
  },
  {
   "cell_type": "code",
   "execution_count": 9,
   "metadata": {},
   "outputs": [],
   "source": [
    "invoice = pd.read_csv(\"invoice_final.csv\")   ## Pre-Cleaned DataSet"
   ]
  },
  {
   "cell_type": "code",
   "execution_count": 10,
   "metadata": {},
   "outputs": [
    {
     "data": {
      "text/html": [
       "<div>\n",
       "<style scoped>\n",
       "    .dataframe tbody tr th:only-of-type {\n",
       "        vertical-align: middle;\n",
       "    }\n",
       "\n",
       "    .dataframe tbody tr th {\n",
       "        vertical-align: top;\n",
       "    }\n",
       "\n",
       "    .dataframe thead th {\n",
       "        text-align: right;\n",
       "    }\n",
       "</style>\n",
       "<table border=\"1\" class=\"dataframe\">\n",
       "  <thead>\n",
       "    <tr style=\"text-align: right;\">\n",
       "      <th></th>\n",
       "      <th>model</th>\n",
       "      <th>customer_type</th>\n",
       "      <th>customer_no</th>\n",
       "      <th>gate_pass_time</th>\n",
       "      <th>invoice_no</th>\n",
       "      <th>job_card_no</th>\n",
       "      <th>km_reading</th>\n",
       "      <th>labour_total</th>\n",
       "      <th>make</th>\n",
       "      <th>order_type</th>\n",
       "      <th>pin_code</th>\n",
       "      <th>plant_code</th>\n",
       "      <th>plant_name</th>\n",
       "      <th>regn_no</th>\n",
       "      <th>total_amt</th>\n",
       "      <th>user_id</th>\n",
       "      <th>pin_city</th>\n",
       "      <th>pin_district</th>\n",
       "      <th>pin_location</th>\n",
       "      <th>latitude</th>\n",
       "      <th>longitude</th>\n",
       "      <th>state</th>\n",
       "      <th>zones</th>\n",
       "      <th>invoice_datetime</th>\n",
       "      <th>jobcard_datetime</th>\n",
       "      <th>Service_Time</th>\n",
       "      <th>model_type</th>\n",
       "    </tr>\n",
       "  </thead>\n",
       "  <tbody>\n",
       "    <tr>\n",
       "      <th>0</th>\n",
       "      <td>spark</td>\n",
       "      <td>retail</td>\n",
       "      <td>67849</td>\n",
       "      <td>0:00:00</td>\n",
       "      <td>7005200002</td>\n",
       "      <td>168303</td>\n",
       "      <td>49317</td>\n",
       "      <td>1203.14</td>\n",
       "      <td>general motors</td>\n",
       "      <td>paid service</td>\n",
       "      <td>400601</td>\n",
       "      <td>bc01</td>\n",
       "      <td>thane</td>\n",
       "      <td>ka19ma1291</td>\n",
       "      <td>4051.95</td>\n",
       "      <td>bc01fs1</td>\n",
       "      <td>Thane</td>\n",
       "      <td>Maharashtra</td>\n",
       "      <td>Thane Bazar, Thane H.O, Thane R.S.</td>\n",
       "      <td>19.1941</td>\n",
       "      <td>73.0002</td>\n",
       "      <td>maharashtra</td>\n",
       "      <td>west zone</td>\n",
       "      <td>01/02/15 11:30</td>\n",
       "      <td>12/13/2014 14:29</td>\n",
       "      <td>19 days 21:00:53.000000000</td>\n",
       "      <td>hatchback</td>\n",
       "    </tr>\n",
       "    <tr>\n",
       "      <th>1</th>\n",
       "      <td>indica</td>\n",
       "      <td>retail</td>\n",
       "      <td>84419</td>\n",
       "      <td>0:00:00</td>\n",
       "      <td>7005200003</td>\n",
       "      <td>173997</td>\n",
       "      <td>78584</td>\n",
       "      <td>804.26</td>\n",
       "      <td>tata motors</td>\n",
       "      <td>smc value package</td>\n",
       "      <td>400603</td>\n",
       "      <td>bc01</td>\n",
       "      <td>thane</td>\n",
       "      <td>mh43r3046</td>\n",
       "      <td>1001.29</td>\n",
       "      <td>bc01sa2</td>\n",
       "      <td>Thane</td>\n",
       "      <td>Maharashtra</td>\n",
       "      <td>Thane East, Kopri Colony</td>\n",
       "      <td>19.1941</td>\n",
       "      <td>73.0002</td>\n",
       "      <td>maharashtra</td>\n",
       "      <td>west zone</td>\n",
       "      <td>01/03/15 10:07</td>\n",
       "      <td>01/02/15 14:12</td>\n",
       "      <td>0 days 19:55:14.000000000</td>\n",
       "      <td>hatchback</td>\n",
       "    </tr>\n",
       "    <tr>\n",
       "      <th>2</th>\n",
       "      <td>zen</td>\n",
       "      <td>retail</td>\n",
       "      <td>81055</td>\n",
       "      <td>0:00:00</td>\n",
       "      <td>7005200004</td>\n",
       "      <td>173889</td>\n",
       "      <td>33985</td>\n",
       "      <td>180.19</td>\n",
       "      <td>maruti suzuki</td>\n",
       "      <td>running repairs</td>\n",
       "      <td>400607</td>\n",
       "      <td>bc01</td>\n",
       "      <td>thane</td>\n",
       "      <td>ap09ax0582</td>\n",
       "      <td>233.14</td>\n",
       "      <td>bc01sa2</td>\n",
       "      <td>Thane</td>\n",
       "      <td>Maharashtra</td>\n",
       "      <td>Chitalsar Manpada, Sandozbaugh</td>\n",
       "      <td>19.1941</td>\n",
       "      <td>73.0002</td>\n",
       "      <td>maharashtra</td>\n",
       "      <td>west zone</td>\n",
       "      <td>01/03/15 11:12</td>\n",
       "      <td>01/02/15 11:40</td>\n",
       "      <td>0 days 23:32:13.000000000</td>\n",
       "      <td>hatchback</td>\n",
       "    </tr>\n",
       "    <tr>\n",
       "      <th>3</th>\n",
       "      <td>indica</td>\n",
       "      <td>retail</td>\n",
       "      <td>84419</td>\n",
       "      <td>0:00:00</td>\n",
       "      <td>7005200005</td>\n",
       "      <td>174158</td>\n",
       "      <td>78584</td>\n",
       "      <td>0.00</td>\n",
       "      <td>tata motors</td>\n",
       "      <td>smc redemption</td>\n",
       "      <td>400603</td>\n",
       "      <td>bc01</td>\n",
       "      <td>thane</td>\n",
       "      <td>mh43r3046</td>\n",
       "      <td>0.00</td>\n",
       "      <td>bc01sa2</td>\n",
       "      <td>Thane</td>\n",
       "      <td>Maharashtra</td>\n",
       "      <td>Thane East, Kopri Colony</td>\n",
       "      <td>19.1941</td>\n",
       "      <td>73.0002</td>\n",
       "      <td>maharashtra</td>\n",
       "      <td>west zone</td>\n",
       "      <td>01/03/15 11:40</td>\n",
       "      <td>01/03/15 10:12</td>\n",
       "      <td>0 days 01:28:12.000000000</td>\n",
       "      <td>hatchback</td>\n",
       "    </tr>\n",
       "    <tr>\n",
       "      <th>4</th>\n",
       "      <td>santro xing</td>\n",
       "      <td>retail</td>\n",
       "      <td>18980</td>\n",
       "      <td>0:00:00</td>\n",
       "      <td>7005200006</td>\n",
       "      <td>173860</td>\n",
       "      <td>50057</td>\n",
       "      <td>1202.97</td>\n",
       "      <td>hyundai</td>\n",
       "      <td>paid service</td>\n",
       "      <td>400603</td>\n",
       "      <td>bc01</td>\n",
       "      <td>thane</td>\n",
       "      <td>mh04cd9768</td>\n",
       "      <td>2747.12</td>\n",
       "      <td>bc01sa2</td>\n",
       "      <td>Thane</td>\n",
       "      <td>Maharashtra</td>\n",
       "      <td>Thane East, Kopri Colony</td>\n",
       "      <td>19.1941</td>\n",
       "      <td>73.0002</td>\n",
       "      <td>maharashtra</td>\n",
       "      <td>west zone</td>\n",
       "      <td>01/03/15 12:07</td>\n",
       "      <td>01/02/15 10:45</td>\n",
       "      <td>1 days 01:21:35.000000000</td>\n",
       "      <td>hatchback</td>\n",
       "    </tr>\n",
       "  </tbody>\n",
       "</table>\n",
       "</div>"
      ],
      "text/plain": [
       "         model customer_type customer_no gate_pass_time  invoice_no  job_card_no  km_reading  labour_total            make         order_type  pin_code plant_code plant_name     regn_no  total_amt  user_id pin_city pin_district                        pin_location  latitude  longitude        state      zones invoice_datetime  jobcard_datetime                Service_Time model_type\n",
       "0        spark        retail       67849        0:00:00  7005200002       168303       49317       1203.14  general motors       paid service    400601       bc01      thane  ka19ma1291    4051.95  bc01fs1    Thane  Maharashtra  Thane Bazar, Thane H.O, Thane R.S.   19.1941    73.0002  maharashtra  west zone   01/02/15 11:30  12/13/2014 14:29  19 days 21:00:53.000000000  hatchback\n",
       "1       indica        retail       84419        0:00:00  7005200003       173997       78584        804.26     tata motors  smc value package    400603       bc01      thane   mh43r3046    1001.29  bc01sa2    Thane  Maharashtra            Thane East, Kopri Colony   19.1941    73.0002  maharashtra  west zone   01/03/15 10:07    01/02/15 14:12   0 days 19:55:14.000000000  hatchback\n",
       "2          zen        retail       81055        0:00:00  7005200004       173889       33985        180.19   maruti suzuki    running repairs    400607       bc01      thane  ap09ax0582     233.14  bc01sa2    Thane  Maharashtra      Chitalsar Manpada, Sandozbaugh   19.1941    73.0002  maharashtra  west zone   01/03/15 11:12    01/02/15 11:40   0 days 23:32:13.000000000  hatchback\n",
       "3       indica        retail       84419        0:00:00  7005200005       174158       78584          0.00     tata motors     smc redemption    400603       bc01      thane   mh43r3046       0.00  bc01sa2    Thane  Maharashtra            Thane East, Kopri Colony   19.1941    73.0002  maharashtra  west zone   01/03/15 11:40    01/03/15 10:12   0 days 01:28:12.000000000  hatchback\n",
       "4  santro xing        retail       18980        0:00:00  7005200006       173860       50057       1202.97         hyundai       paid service    400603       bc01      thane  mh04cd9768    2747.12  bc01sa2    Thane  Maharashtra            Thane East, Kopri Colony   19.1941    73.0002  maharashtra  west zone   01/03/15 12:07    01/02/15 10:45   1 days 01:21:35.000000000  hatchback"
      ]
     },
     "execution_count": 10,
     "metadata": {},
     "output_type": "execute_result"
    }
   ],
   "source": [
    "invoice.head()"
   ]
  },
  {
   "cell_type": "markdown",
   "metadata": {},
   "source": [
    "###  Considering LTV as per yearly basis , since 2015 year data is appropriate with Data Cleaning Strategies . Filtering 2015 data since it is appropriate"
   ]
  },
  {
   "cell_type": "code",
   "execution_count": null,
   "metadata": {},
   "outputs": [],
   "source": []
  }
 ],
 "metadata": {
  "kernelspec": {
   "display_name": "Python 3.7.4 64-bit ('ProgramData': virtualenv)",
   "language": "python",
   "name": "python37464bitprogramdatavirtualenv2f5dd8a4644a47eca8624813dcf23a92"
  },
  "language_info": {
   "codemirror_mode": {
    "name": "ipython",
    "version": 3
   },
   "file_extension": ".py",
   "mimetype": "text/x-python",
   "name": "python",
   "nbconvert_exporter": "python",
   "pygments_lexer": "ipython3",
   "version": "3.7.4"
  }
 },
 "nbformat": 4,
 "nbformat_minor": 4
}
