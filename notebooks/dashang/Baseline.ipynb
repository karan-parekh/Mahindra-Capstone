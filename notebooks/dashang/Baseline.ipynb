{
 "cells": [
  {
   "cell_type": "markdown",
   "metadata": {},
   "source": [
    "## Capstone Project : Mahindra First Choice\n"
   ]
  },
  {
   "cell_type": "markdown",
   "metadata": {},
   "source": [
    "### Problem Statement\n",
    "Mahindra First Choice Services (MFCS) is a company of Mahindra Group and is India’s leading chain of multi-brand car workshops with over 335+ workshops present in 267+ towns & 24 states. It has serviced over 10,50,000 cars. The company aims to establish countrywide network of over 400 workshops by March 2018.\n",
    "Mahindra would now like to leverage the data that they have and address the key issues they have. Read along to know how you can help them improve their business.\n",
    "The dataset consist of three aspects:\n",
    "* Customer data: where the details of the customer like the car owned, state and place of residence, order type, etc are present. Data dimension is of 534000 Customer entries\n",
    "* Invoice data: where information related to customer visits and transactions are recorded, whether a customer as insurance claims, bifurcation of the amount \n",
    " paid, for what type of service did the customer came for, etc…\n",
    "* Material Inventory: where information related to what kind of service did the customer took and what kind of material was used to service, Labor information and the cost for the service, Plant and plant name where the customer took the service.\n"
   ]
  },
  {
   "cell_type": "markdown",
   "metadata": {},
   "source": [
    "### Objective\n",
    "\n",
    "### Geolocation Based Customer Analysis:\n",
    "The idea is to explore how various factors like car make & model, time and type of service etc. vary with location. Since the servicing industry is local in nature, this kind of an analysis could possibly render some really interesting business insights.\n",
    "Furthermore, this analysis will enable us to formulate more concrete machine learning problems.\n",
    "From the data at hand it is possible to extract insights about customer behaviour especially the following questions can be addressed\n",
    "\n",
    "#### Problem Statement-1\n",
    "Identifying the ownership pattern of cars throughout the country. This also captures the problem wherein information regarding the spending patterns can be identified Expected Business Outcome: Mahindra First Choice Services will be benefited in multiple ways. Knowing the ownership pattern targeted marketing campaigns could be carried out. Knowing the spending patterns services could be suited to the particular spending pattern.\n",
    "\n",
    "#### Problem Statement-2\n",
    "Identify the type of order each state receives and present it as an interactive visualization. Expected Business Outcome: This could potentially give information about how Mahindra First Choice needs to be prepared to tackle various seasonal cases\n",
    "\n",
    "### Market Segmentation:\n",
    "Market segmentation is the process of dividing a market of potential customers into internally homogeneous and mutually heterogeneous groups or segments, based on different characteristics captured in the data. Groups created through such a segmentation exercise many times reveal behavioral patterns which are different from generally accepted segments by the business. The exercise is broadly known as “clustering” and is aimed at finding the consumers who will respond similarly to various stimuli by detecting underlying behavior patterns.\n",
    "Though clustering falls under a Machine Learning problem category called unsupervised learning, which requires extensive efforts, it is possible to carry out a visual analysis in a relatively short timespan.\n",
    "\n",
    "#### Problem Statement: \n",
    "Customer Lifetime value prediction - Based on Customer segments, predict the revenue that can be extracted from each segment over a life of the car -Regression/Time Series.\n"
   ]
  },
  {
   "cell_type": "markdown",
   "metadata": {},
   "source": [
    "## Start of Notebook"
   ]
  },
  {
   "cell_type": "markdown",
   "metadata": {},
   "source": [
    "#### Why are we doing this\n",
    "- To Help Mahindra improve its business from analysing the data given like max. car model coming for repair location-wise, top sales garage etc\n",
    "- To Identify more profitable area or expansion in other regions"
   ]
  },
  {
   "cell_type": "markdown",
   "metadata": {},
   "source": [
    "#### Stakeholders:\n",
    "- Marketing Head of Mahindra First [For Marketing Campaign]\n",
    "- Operational Head/State Head of Mahindra First [For knowing In-Outs operation in Garage]\n",
    "- Project Manager [i.e. Our Consulting Firm Manager - To which Mahindra First Company are first point of contact with for Analysis]"
   ]
  },
  {
   "cell_type": "code",
   "execution_count": 1,
   "metadata": {},
   "outputs": [],
   "source": [
    "import pandas as pd\n",
    "import numpy as np\n",
    "import os\n",
    "import matplotlib.pyplot as plt\n",
    "from sklearn.impute import SimpleImputer\n",
    "import plotly\n",
    "import plotly.graph_objects as go\n",
    "import re\n",
    "import pgeocode"
   ]
  },
  {
   "cell_type": "code",
   "execution_count": 35,
   "metadata": {},
   "outputs": [],
   "source": []
  },
  {
   "cell_type": "code",
   "execution_count": null,
   "metadata": {},
   "outputs": [],
   "source": []
  },
  {
   "cell_type": "code",
   "execution_count": null,
   "metadata": {},
   "outputs": [],
   "source": []
  },
  {
   "cell_type": "code",
   "execution_count": 2,
   "metadata": {},
   "outputs": [],
   "source": [
    "pd.set_option('display.max_rows', 500)\n",
    "pd.set_option('display.max_columns', 500)\n",
    "pd.set_option('display.width', 1000)"
   ]
  },
  {
   "cell_type": "code",
   "execution_count": 3,
   "metadata": {},
   "outputs": [],
   "source": [
    "# If DataSet lies in another Directory\n",
    "#os.getcwd()\n",
    "os.chdir(\"C:\\\\Users\\\\Dashang\\\\Documents\\\\GreyAtom_Capstone_MahindraFirst\\\\\") "
   ]
  },
  {
   "cell_type": "code",
   "execution_count": 4,
   "metadata": {},
   "outputs": [],
   "source": [
    "customer = pd.read_excel(\"Customer_Data.xlsx\",index=False)"
   ]
  },
  {
   "cell_type": "code",
   "execution_count": null,
   "metadata": {},
   "outputs": [],
   "source": []
  },
  {
   "cell_type": "code",
   "execution_count": 4,
   "metadata": {},
   "outputs": [],
   "source": [
    "def clean_column_name(df):\n",
    "    \n",
    "    # Map the lowering function to all column names\n",
    "    df.columns = df.columns.str.strip().str.lower().str.replace(' ', '_').str.replace('(', '').str.replace('/', '').str.replace(')', '').str.replace('%', '').str.replace('.', '')\n",
    "        \n",
    "    return df"
   ]
  },
  {
   "cell_type": "code",
   "execution_count": null,
   "metadata": {},
   "outputs": [],
   "source": []
  },
  {
   "cell_type": "markdown",
   "metadata": {},
   "source": [
    "### Cleaning Customer DataSet"
   ]
  },
  {
   "cell_type": "markdown",
   "metadata": {},
   "source": [
    "### Notes in EDA:\n",
    "\n",
    "#### For Customer DataSet\n",
    "\n",
    "- It is seen that column <b>Marital Status </b>, <b>Occupation</b>, <b>Date of Birth</b>, <b>Death Date</b> has more than <b>97% of null values</b>. Its hard to Impute values in it.\n",
    "- Column <b>Title</b> is of less significance i.e its just salutation hence dropping the same. We treat customer as customer whether is male or female. No Gender Inequality or Professional Inequality.\n",
    "- Column <b>Partner_Type</b> and <b>Data Origin</b> has less null value hence using Imputer Library to Impute Missing Values using 'Most-Frequent Strategy."
   ]
  },
  {
   "cell_type": "code",
   "execution_count": 6,
   "metadata": {},
   "outputs": [],
   "source": [
    "def CleanCustomerDf(df):\n",
    "    \n",
    "    df = df.drop(['marital_status','occupation','date_of_birth','death_date','title'],axis=1)\n",
    "    imp = SimpleImputer(missing_values=np.nan, strategy=\"most_frequent\")\n",
    "    df.data_origin=imp.fit_transform(df[[\"data_origin\"]]).ravel()\n",
    "    df.partner_type=imp.fit_transform(df[[\"partner_type\"]]).ravel()\n",
    "    \n",
    "    return df"
   ]
  },
  {
   "cell_type": "code",
   "execution_count": null,
   "metadata": {},
   "outputs": [],
   "source": []
  },
  {
   "cell_type": "code",
   "execution_count": 7,
   "metadata": {},
   "outputs": [
    {
     "data": {
      "text/plain": [
       "Business Partner     0.000000\n",
       "Customer No.         0.000000\n",
       "Partner Type         0.014046\n",
       "Data Origin          0.024490\n",
       "Title                8.338525\n",
       "Marital Status      97.112209\n",
       "Occupation          97.378533\n",
       "Date of Birth       97.579132\n",
       "Death date          99.880613\n",
       "dtype: float64"
      ]
     },
     "execution_count": 7,
     "metadata": {},
     "output_type": "execute_result"
    }
   ],
   "source": [
    "customer.isnull().sum() / customer.shape[0] * 100.00"
   ]
  },
  {
   "cell_type": "code",
   "execution_count": 8,
   "metadata": {},
   "outputs": [],
   "source": [
    "customer = clean_column_name(customer)\n",
    "customer = CleanCustomerDf(customer)"
   ]
  },
  {
   "cell_type": "code",
   "execution_count": 9,
   "metadata": {},
   "outputs": [
    {
     "data": {
      "text/plain": [
       "business_partner    0.0\n",
       "customer_no         0.0\n",
       "partner_type        0.0\n",
       "data_origin         0.0\n",
       "dtype: float64"
      ]
     },
     "execution_count": 9,
     "metadata": {},
     "output_type": "execute_result"
    }
   ],
   "source": [
    "customer.isnull().sum() / customer.shape[0] * 100.00"
   ]
  },
  {
   "cell_type": "code",
   "execution_count": 10,
   "metadata": {},
   "outputs": [],
   "source": [
    "customer.to_csv('customer_cleaned.csv', index=False)"
   ]
  },
  {
   "cell_type": "markdown",
   "metadata": {},
   "source": [
    "### Cleaning JTD (inventory) DataSet"
   ]
  },
  {
   "cell_type": "markdown",
   "metadata": {},
   "source": [
    "### Notes in EDA:\n",
    "\n",
    "#### For JTD (Inventory) DataSet\n",
    "\n",
    "- Column <b>material</b>, <b>Labor Value Number</b> and <b>description</b> has been filled with 'Not Mentioned' to counter Nan \n",
    "- Column <b>Target Quantity UOM </b> has small fraction of missing values. Filtering item_category with value 'G2TX' shows order quantity also as Nan so unable to determine Target Quantity UOM hence using Imputer Library to Impute Missing Values using 'Most-Frequent Strategy.\n"
   ]
  },
  {
   "cell_type": "code",
   "execution_count": 11,
   "metadata": {},
   "outputs": [
    {
     "name": "stderr",
     "output_type": "stream",
     "text": [
      "C:\\ProgramData\\Anaconda3\\lib\\site-packages\\numpy\\lib\\arraysetops.py:569: FutureWarning: elementwise comparison failed; returning scalar instead, but in the future will perform elementwise comparison\n",
      "  mask |= (ar1 == a)\n"
     ]
    }
   ],
   "source": [
    "jtd = pd.read_csv(\"JTD.csv\",index_col=0)"
   ]
  },
  {
   "cell_type": "code",
   "execution_count": 12,
   "metadata": {},
   "outputs": [],
   "source": [
    "def CleanJtdDf(df):\n",
    "    \n",
    "    df['material']=df['material'].fillna('Not_Mentioned')\n",
    "    df['labor_value_number']=df['labor_value_number'].fillna('Not_Mentioned')\n",
    "    df['description']=df['description'].fillna('Not_Mentioned')\n",
    "    \n",
    "    #Impute based on Most Frequent\n",
    "    #imp = SimpleImputer(missing_values=np.nan, strategy=\"most_frequent\")\n",
    "    #df.target_quantity_uom=imp.fit_transform(df[[\"target_quantity_uom\"]]).ravel()\n",
    "    \n",
    "    #OR\n",
    "    df['target_quantity_uom']=df['target_quantity_uom'].fillna('EA')\n",
    "    \n",
    "    return df"
   ]
  },
  {
   "cell_type": "code",
   "execution_count": 13,
   "metadata": {},
   "outputs": [
    {
     "data": {
      "text/plain": [
       "DBM Order               0.000000\n",
       "Order Item              0.000000\n",
       "Material                0.918750\n",
       "Labor Value Number     67.159778\n",
       "Description             0.918750\n",
       "Item Category           0.000000\n",
       "Order Quantity          0.000000\n",
       "Target quantity UoM     0.918750\n",
       "Net value               0.000000\n",
       "dtype: float64"
      ]
     },
     "execution_count": 13,
     "metadata": {},
     "output_type": "execute_result"
    }
   ],
   "source": [
    "jtd.isnull().sum() / jtd.shape[0] * 100.00"
   ]
  },
  {
   "cell_type": "code",
   "execution_count": 36,
   "metadata": {},
   "outputs": [
    {
     "ename": "NameError",
     "evalue": "name 'jtd' is not defined",
     "output_type": "error",
     "traceback": [
      "\u001b[1;31m---------------------------------------------------------------------------\u001b[0m",
      "\u001b[1;31mNameError\u001b[0m                                 Traceback (most recent call last)",
      "\u001b[1;32m<ipython-input-36-d76755184c65>\u001b[0m in \u001b[0;36m<module>\u001b[1;34m\u001b[0m\n\u001b[1;32m----> 1\u001b[1;33m \u001b[0mjtd\u001b[0m\u001b[1;33m.\u001b[0m\u001b[0mhead\u001b[0m\u001b[1;33m(\u001b[0m\u001b[1;33m)\u001b[0m\u001b[1;33m\u001b[0m\u001b[1;33m\u001b[0m\u001b[0m\n\u001b[0m",
      "\u001b[1;31mNameError\u001b[0m: name 'jtd' is not defined"
     ]
    }
   ],
   "source": [
    "jtd.head()"
   ]
  },
  {
   "cell_type": "code",
   "execution_count": 15,
   "metadata": {},
   "outputs": [],
   "source": [
    "jtd = clean_column_name(jtd)\n",
    "jtd = CleanJtdDf(jtd)"
   ]
  },
  {
   "cell_type": "code",
   "execution_count": 16,
   "metadata": {},
   "outputs": [
    {
     "data": {
      "text/plain": [
       "dbm_order              0.0\n",
       "order_item             0.0\n",
       "material               0.0\n",
       "labor_value_number     0.0\n",
       "description            0.0\n",
       "item_category          0.0\n",
       "order_quantity         0.0\n",
       "target_quantity_uom    0.0\n",
       "net_value              0.0\n",
       "dtype: float64"
      ]
     },
     "execution_count": 16,
     "metadata": {},
     "output_type": "execute_result"
    }
   ],
   "source": [
    "jtd.isnull().sum() / jtd.shape[0] * 100.00"
   ]
  },
  {
   "cell_type": "code",
   "execution_count": 17,
   "metadata": {},
   "outputs": [],
   "source": [
    "jtd.to_csv('jtd_cleaned.csv', index=False)"
   ]
  },
  {
   "cell_type": "code",
   "execution_count": null,
   "metadata": {},
   "outputs": [],
   "source": [
    "jtd.head()"
   ]
  },
  {
   "cell_type": "code",
   "execution_count": null,
   "metadata": {},
   "outputs": [],
   "source": []
  },
  {
   "cell_type": "code",
   "execution_count": 16,
   "metadata": {},
   "outputs": [],
   "source": []
  },
  {
   "cell_type": "markdown",
   "metadata": {},
   "source": [
    "### Cleaning Invoice DataSet"
   ]
  },
  {
   "cell_type": "markdown",
   "metadata": {},
   "source": [
    "### Notes in EDA:\n",
    "\n",
    "#### For Invoice DataSet\n",
    "\n",
    "- Column <b>material</b>, <b>Labor Value Number</b> and <b>description</b> has been filled with 'Not Mentioned' to counter Nan \n",
    "- Column <b>Target Quantity UOM </b> has small fraction of missing values. Filtering item_category with value 'G2TX' shows order quantity also as Nan so unable to determine Target Quantity UOM hence using Imputer Library to Impute Missing Values using 'Most-Frequent Strategy.\n",
    "- Column <b> Model </b> has null values which are imputed by function which checks make of same model and gives most frequently entry\n",
    "- Some Columns <b> area__locality</b> replaced by 'pgeocode' library data.\n",
    "- Columns <b> Latitude</b> , <b>Longitude</b>, <b>District</b>, <b> State</b> added/replaced by correct data\n",
    "    \n"
   ]
  },
  {
   "cell_type": "code",
   "execution_count": null,
   "metadata": {},
   "outputs": [],
   "source": []
  },
  {
   "cell_type": "code",
   "execution_count": 189,
   "metadata": {},
   "outputs": [],
   "source": [
    "def GetAreaFromPin(pin):\n",
    "    nomi = pgeocode.Nominatim('in')\n",
    "    res=nomi.query_postal_code(pin)\n",
    "    return nomi.place_name\n",
    "    "
   ]
  },
  {
   "cell_type": "code",
   "execution_count": 190,
   "metadata": {},
   "outputs": [],
   "source": [
    "def GetLatFromPin(pin):\n",
    "    nomi = pgeocode.Nominatim('in')\n",
    "    nomi.query_postal_code(pin)\n",
    "    return nomi.latitude\n",
    "    "
   ]
  },
  {
   "cell_type": "code",
   "execution_count": 191,
   "metadata": {},
   "outputs": [],
   "source": [
    "def GetLonFromPin(pin):\n",
    "    nomi = pgeocode.Nominatim('in')\n",
    "    res = nomi.query_postal_code(pin)\n",
    "    return res.longitude\n",
    "    "
   ]
  },
  {
   "cell_type": "code",
   "execution_count": 192,
   "metadata": {},
   "outputs": [],
   "source": [
    "def GetDistrictFromPin(pin):\n",
    "    nomi = pgeocode.Nominatim('in')\n",
    "    res = nomi.query_postal_code(pin)\n",
    "    return res.county_name\n",
    "    "
   ]
  },
  {
   "cell_type": "code",
   "execution_count": 193,
   "metadata": {},
   "outputs": [],
   "source": [
    "def GetStateFromPin(pin):\n",
    "    nomi = pgeocode.Nominatim('in')\n",
    "    res = nomi.query_postal_code(pin)\n",
    "    return res.state_name\n",
    "    "
   ]
  },
  {
   "cell_type": "code",
   "execution_count": 182,
   "metadata": {},
   "outputs": [
    {
     "data": {
      "text/html": [
       "<div>\n",
       "<style scoped>\n",
       "    .dataframe tbody tr th:only-of-type {\n",
       "        vertical-align: middle;\n",
       "    }\n",
       "\n",
       "    .dataframe tbody tr th {\n",
       "        vertical-align: top;\n",
       "    }\n",
       "\n",
       "    .dataframe thead th {\n",
       "        text-align: right;\n",
       "    }\n",
       "</style>\n",
       "<table border=\"1\" class=\"dataframe\">\n",
       "  <thead>\n",
       "    <tr style=\"text-align: right;\">\n",
       "      <th></th>\n",
       "      <th>amt_rcvd_from_custom</th>\n",
       "      <th>amt_rcvd_from_ins_co</th>\n",
       "      <th>area__locality</th>\n",
       "      <th>cgst14</th>\n",
       "      <th>cgst25</th>\n",
       "      <th>cgst6</th>\n",
       "      <th>cgst9</th>\n",
       "      <th>city</th>\n",
       "      <th>cash_cashless_type</th>\n",
       "      <th>claim_no</th>\n",
       "      <th>cust_type</th>\n",
       "      <th>customer_no</th>\n",
       "      <th>district</th>\n",
       "      <th>expiry_date</th>\n",
       "      <th>gate_pass_date</th>\n",
       "      <th>gate_pass_time</th>\n",
       "      <th>igst12</th>\n",
       "      <th>igst18</th>\n",
       "      <th>igst28</th>\n",
       "      <th>igst5</th>\n",
       "      <th>insurance_company</th>\n",
       "      <th>invoice_date</th>\n",
       "      <th>invoice_no</th>\n",
       "      <th>invoice_time</th>\n",
       "      <th>job_card_no</th>\n",
       "      <th>jobcard_date</th>\n",
       "      <th>jobcard_time</th>\n",
       "      <th>kms_reading</th>\n",
       "      <th>labour_total</th>\n",
       "      <th>make</th>\n",
       "      <th>misc_total</th>\n",
       "      <th>model</th>\n",
       "      <th>odn_no</th>\n",
       "      <th>osl_total</th>\n",
       "      <th>order_type</th>\n",
       "      <th>outstanding_amt</th>\n",
       "      <th>parts_total</th>\n",
       "      <th>pin_code</th>\n",
       "      <th>plant</th>\n",
       "      <th>plant_name1</th>\n",
       "      <th>policy_no</th>\n",
       "      <th>print_status</th>\n",
       "      <th>recovrbl_exp</th>\n",
       "      <th>regn_no</th>\n",
       "      <th>sgstugst14</th>\n",
       "      <th>sgstugst25</th>\n",
       "      <th>sgstugst6</th>\n",
       "      <th>sgstugst9</th>\n",
       "      <th>service_advisor_name</th>\n",
       "      <th>tds_amount</th>\n",
       "      <th>technician_name</th>\n",
       "      <th>total_amt_wtd_tax</th>\n",
       "      <th>total_cgst</th>\n",
       "      <th>total_gst</th>\n",
       "      <th>total_igst</th>\n",
       "      <th>total_sgstugst</th>\n",
       "      <th>total_value</th>\n",
       "      <th>user_id</th>\n",
       "    </tr>\n",
       "  </thead>\n",
       "  <tbody>\n",
       "    <tr>\n",
       "      <th>0</th>\n",
       "      <td>0.0</td>\n",
       "      <td>0.0</td>\n",
       "      <td>MAJIWADA</td>\n",
       "      <td>0.0</td>\n",
       "      <td>0.0</td>\n",
       "      <td>0.0</td>\n",
       "      <td>0.0</td>\n",
       "      <td>Thane</td>\n",
       "      <td>NaN</td>\n",
       "      <td>NaN</td>\n",
       "      <td>Retail</td>\n",
       "      <td>67849</td>\n",
       "      <td>Maharashtra</td>\n",
       "      <td>NaN</td>\n",
       "      <td>NaN</td>\n",
       "      <td>00:00:00</td>\n",
       "      <td>0.0</td>\n",
       "      <td>0.0</td>\n",
       "      <td>0.0</td>\n",
       "      <td>0.0</td>\n",
       "      <td>NaN</td>\n",
       "      <td>2015-01-02</td>\n",
       "      <td>7005200002</td>\n",
       "      <td>11:30:36</td>\n",
       "      <td>168303</td>\n",
       "      <td>2014-12-13</td>\n",
       "      <td>14:29:43</td>\n",
       "      <td>49317</td>\n",
       "      <td>1203.14</td>\n",
       "      <td>GENERAL MOTORS</td>\n",
       "      <td>0.00</td>\n",
       "      <td>SPARK</td>\n",
       "      <td>7.005200e+09</td>\n",
       "      <td>500.06</td>\n",
       "      <td>Paid Service</td>\n",
       "      <td>0.0</td>\n",
       "      <td>2348.75</td>\n",
       "      <td>400601</td>\n",
       "      <td>BC01</td>\n",
       "      <td>THANE</td>\n",
       "      <td>NaN</td>\n",
       "      <td>NO</td>\n",
       "      <td>0.0</td>\n",
       "      <td>KA19MA1291</td>\n",
       "      <td>0.0</td>\n",
       "      <td>0.0</td>\n",
       "      <td>0.0</td>\n",
       "      <td>0.0</td>\n",
       "      <td>NaN</td>\n",
       "      <td>0.0</td>\n",
       "      <td>RUPESH</td>\n",
       "      <td>4051.95</td>\n",
       "      <td>0.0</td>\n",
       "      <td>0.0</td>\n",
       "      <td>0.0</td>\n",
       "      <td>0.0</td>\n",
       "      <td>4051.95</td>\n",
       "      <td>BC01FS1</td>\n",
       "    </tr>\n",
       "    <tr>\n",
       "      <th>1</th>\n",
       "      <td>0.0</td>\n",
       "      <td>0.0</td>\n",
       "      <td>THNAE</td>\n",
       "      <td>0.0</td>\n",
       "      <td>0.0</td>\n",
       "      <td>0.0</td>\n",
       "      <td>0.0</td>\n",
       "      <td>THNAE</td>\n",
       "      <td>NaN</td>\n",
       "      <td>NaN</td>\n",
       "      <td>Retail</td>\n",
       "      <td>84419</td>\n",
       "      <td>Maharashtra</td>\n",
       "      <td>NaN</td>\n",
       "      <td>NaN</td>\n",
       "      <td>00:00:00</td>\n",
       "      <td>0.0</td>\n",
       "      <td>0.0</td>\n",
       "      <td>0.0</td>\n",
       "      <td>0.0</td>\n",
       "      <td>NaN</td>\n",
       "      <td>2015-01-03</td>\n",
       "      <td>7005200003</td>\n",
       "      <td>10:07:32</td>\n",
       "      <td>173997</td>\n",
       "      <td>2015-01-02</td>\n",
       "      <td>14:12:18</td>\n",
       "      <td>78584</td>\n",
       "      <td>804.26</td>\n",
       "      <td>TATA MOTORS</td>\n",
       "      <td>197.03</td>\n",
       "      <td>INDICA</td>\n",
       "      <td>7.005200e+09</td>\n",
       "      <td>0.00</td>\n",
       "      <td>SMC Value Package</td>\n",
       "      <td>0.0</td>\n",
       "      <td>0.00</td>\n",
       "      <td>400603</td>\n",
       "      <td>BC01</td>\n",
       "      <td>THANE</td>\n",
       "      <td>NaN</td>\n",
       "      <td>NO</td>\n",
       "      <td>0.0</td>\n",
       "      <td>MH43R3046</td>\n",
       "      <td>0.0</td>\n",
       "      <td>0.0</td>\n",
       "      <td>0.0</td>\n",
       "      <td>0.0</td>\n",
       "      <td>NaN</td>\n",
       "      <td>0.0</td>\n",
       "      <td>PRASHANT</td>\n",
       "      <td>1001.29</td>\n",
       "      <td>0.0</td>\n",
       "      <td>0.0</td>\n",
       "      <td>0.0</td>\n",
       "      <td>0.0</td>\n",
       "      <td>1001.29</td>\n",
       "      <td>BC01SA2</td>\n",
       "    </tr>\n",
       "    <tr>\n",
       "      <th>2</th>\n",
       "      <td>0.0</td>\n",
       "      <td>0.0</td>\n",
       "      <td>THANE</td>\n",
       "      <td>0.0</td>\n",
       "      <td>0.0</td>\n",
       "      <td>0.0</td>\n",
       "      <td>0.0</td>\n",
       "      <td>THANE[W]</td>\n",
       "      <td>NaN</td>\n",
       "      <td>NaN</td>\n",
       "      <td>Retail</td>\n",
       "      <td>81055</td>\n",
       "      <td>Maharashtra</td>\n",
       "      <td>NaN</td>\n",
       "      <td>NaN</td>\n",
       "      <td>00:00:00</td>\n",
       "      <td>0.0</td>\n",
       "      <td>0.0</td>\n",
       "      <td>0.0</td>\n",
       "      <td>0.0</td>\n",
       "      <td>NaN</td>\n",
       "      <td>2015-01-03</td>\n",
       "      <td>7005200004</td>\n",
       "      <td>11:12:57</td>\n",
       "      <td>173889</td>\n",
       "      <td>2015-01-02</td>\n",
       "      <td>11:40:44</td>\n",
       "      <td>33985</td>\n",
       "      <td>180.19</td>\n",
       "      <td>MARUTI SUZUKI</td>\n",
       "      <td>0.00</td>\n",
       "      <td>ZEN</td>\n",
       "      <td>7.005200e+09</td>\n",
       "      <td>0.00</td>\n",
       "      <td>Running Repairs</td>\n",
       "      <td>0.0</td>\n",
       "      <td>52.95</td>\n",
       "      <td>400607</td>\n",
       "      <td>BC01</td>\n",
       "      <td>THANE</td>\n",
       "      <td>NaN</td>\n",
       "      <td>NO</td>\n",
       "      <td>0.0</td>\n",
       "      <td>AP09AX0582</td>\n",
       "      <td>0.0</td>\n",
       "      <td>0.0</td>\n",
       "      <td>0.0</td>\n",
       "      <td>0.0</td>\n",
       "      <td>NaN</td>\n",
       "      <td>0.0</td>\n",
       "      <td>IMRAN</td>\n",
       "      <td>233.14</td>\n",
       "      <td>0.0</td>\n",
       "      <td>0.0</td>\n",
       "      <td>0.0</td>\n",
       "      <td>0.0</td>\n",
       "      <td>233.14</td>\n",
       "      <td>BC01SA2</td>\n",
       "    </tr>\n",
       "    <tr>\n",
       "      <th>3</th>\n",
       "      <td>0.0</td>\n",
       "      <td>0.0</td>\n",
       "      <td>THNAE</td>\n",
       "      <td>0.0</td>\n",
       "      <td>0.0</td>\n",
       "      <td>0.0</td>\n",
       "      <td>0.0</td>\n",
       "      <td>THNAE</td>\n",
       "      <td>NaN</td>\n",
       "      <td>NaN</td>\n",
       "      <td>Retail</td>\n",
       "      <td>84419</td>\n",
       "      <td>Maharashtra</td>\n",
       "      <td>NaN</td>\n",
       "      <td>NaN</td>\n",
       "      <td>00:00:00</td>\n",
       "      <td>0.0</td>\n",
       "      <td>0.0</td>\n",
       "      <td>0.0</td>\n",
       "      <td>0.0</td>\n",
       "      <td>NaN</td>\n",
       "      <td>2015-01-03</td>\n",
       "      <td>7005200005</td>\n",
       "      <td>11:40:44</td>\n",
       "      <td>174158</td>\n",
       "      <td>2015-01-03</td>\n",
       "      <td>10:12:32</td>\n",
       "      <td>78584</td>\n",
       "      <td>0.00</td>\n",
       "      <td>TATA MOTORS</td>\n",
       "      <td>0.00</td>\n",
       "      <td>INDICA</td>\n",
       "      <td>7.005200e+09</td>\n",
       "      <td>0.00</td>\n",
       "      <td>SMC Redemption</td>\n",
       "      <td>0.0</td>\n",
       "      <td>0.00</td>\n",
       "      <td>400603</td>\n",
       "      <td>BC01</td>\n",
       "      <td>THANE</td>\n",
       "      <td>NaN</td>\n",
       "      <td>NO</td>\n",
       "      <td>0.0</td>\n",
       "      <td>MH43R3046</td>\n",
       "      <td>0.0</td>\n",
       "      <td>0.0</td>\n",
       "      <td>0.0</td>\n",
       "      <td>0.0</td>\n",
       "      <td>NaN</td>\n",
       "      <td>0.0</td>\n",
       "      <td>PRASHANT</td>\n",
       "      <td>0.00</td>\n",
       "      <td>0.0</td>\n",
       "      <td>0.0</td>\n",
       "      <td>0.0</td>\n",
       "      <td>0.0</td>\n",
       "      <td>0.00</td>\n",
       "      <td>BC01SA2</td>\n",
       "    </tr>\n",
       "    <tr>\n",
       "      <th>4</th>\n",
       "      <td>0.0</td>\n",
       "      <td>0.0</td>\n",
       "      <td>THANE</td>\n",
       "      <td>0.0</td>\n",
       "      <td>0.0</td>\n",
       "      <td>0.0</td>\n",
       "      <td>0.0</td>\n",
       "      <td>THANE</td>\n",
       "      <td>NaN</td>\n",
       "      <td>NaN</td>\n",
       "      <td>Retail</td>\n",
       "      <td>18980</td>\n",
       "      <td>Maharashtra</td>\n",
       "      <td>NaN</td>\n",
       "      <td>NaN</td>\n",
       "      <td>00:00:00</td>\n",
       "      <td>0.0</td>\n",
       "      <td>0.0</td>\n",
       "      <td>0.0</td>\n",
       "      <td>0.0</td>\n",
       "      <td>NaN</td>\n",
       "      <td>2015-01-03</td>\n",
       "      <td>7005200006</td>\n",
       "      <td>12:07:17</td>\n",
       "      <td>173860</td>\n",
       "      <td>2015-01-02</td>\n",
       "      <td>10:45:42</td>\n",
       "      <td>50057</td>\n",
       "      <td>1202.97</td>\n",
       "      <td>HYUNDAI</td>\n",
       "      <td>100.00</td>\n",
       "      <td>SANTRO XING</td>\n",
       "      <td>7.005200e+09</td>\n",
       "      <td>499.99</td>\n",
       "      <td>Paid Service</td>\n",
       "      <td>0.0</td>\n",
       "      <td>944.16</td>\n",
       "      <td>400603</td>\n",
       "      <td>BC01</td>\n",
       "      <td>THANE</td>\n",
       "      <td>NaN</td>\n",
       "      <td>NO</td>\n",
       "      <td>0.0</td>\n",
       "      <td>MH04CD9768</td>\n",
       "      <td>0.0</td>\n",
       "      <td>0.0</td>\n",
       "      <td>0.0</td>\n",
       "      <td>0.0</td>\n",
       "      <td>NaN</td>\n",
       "      <td>0.0</td>\n",
       "      <td>DAYANAND</td>\n",
       "      <td>2747.12</td>\n",
       "      <td>0.0</td>\n",
       "      <td>0.0</td>\n",
       "      <td>0.0</td>\n",
       "      <td>0.0</td>\n",
       "      <td>2747.12</td>\n",
       "      <td>BC01SA2</td>\n",
       "    </tr>\n",
       "  </tbody>\n",
       "</table>\n",
       "</div>"
      ],
      "text/plain": [
       "   amt_rcvd_from_custom  amt_rcvd_from_ins_co area__locality  cgst14  cgst25  cgst6  cgst9      city cash_cashless_type claim_no cust_type customer_no     district expiry_date gate_pass_date gate_pass_time  igst12  igst18  igst28  igst5 insurance_company invoice_date  invoice_no invoice_time  job_card_no jobcard_date jobcard_time  kms_reading  labour_total            make  misc_total        model        odn_no  osl_total         order_type  outstanding_amt  parts_total  pin_code plant plant_name1 policy_no print_status  recovrbl_exp     regn_no  sgstugst14  sgstugst25  sgstugst6  sgstugst9  service_advisor_name  tds_amount technician_name  total_amt_wtd_tax  total_cgst  total_gst  total_igst  total_sgstugst  total_value  user_id\n",
       "0                   0.0                   0.0       MAJIWADA     0.0     0.0    0.0    0.0     Thane                NaN      NaN    Retail       67849  Maharashtra         NaN            NaN       00:00:00     0.0     0.0     0.0    0.0               NaN   2015-01-02  7005200002     11:30:36       168303   2014-12-13     14:29:43        49317       1203.14  GENERAL MOTORS        0.00        SPARK  7.005200e+09     500.06       Paid Service              0.0      2348.75    400601  BC01       THANE       NaN           NO           0.0  KA19MA1291         0.0         0.0        0.0        0.0                   NaN         0.0          RUPESH            4051.95         0.0        0.0         0.0             0.0      4051.95  BC01FS1\n",
       "1                   0.0                   0.0          THNAE     0.0     0.0    0.0    0.0     THNAE                NaN      NaN    Retail       84419  Maharashtra         NaN            NaN       00:00:00     0.0     0.0     0.0    0.0               NaN   2015-01-03  7005200003     10:07:32       173997   2015-01-02     14:12:18        78584        804.26     TATA MOTORS      197.03       INDICA  7.005200e+09       0.00  SMC Value Package              0.0         0.00    400603  BC01       THANE       NaN           NO           0.0   MH43R3046         0.0         0.0        0.0        0.0                   NaN         0.0        PRASHANT            1001.29         0.0        0.0         0.0             0.0      1001.29  BC01SA2\n",
       "2                   0.0                   0.0          THANE     0.0     0.0    0.0    0.0  THANE[W]                NaN      NaN    Retail       81055  Maharashtra         NaN            NaN       00:00:00     0.0     0.0     0.0    0.0               NaN   2015-01-03  7005200004     11:12:57       173889   2015-01-02     11:40:44        33985        180.19   MARUTI SUZUKI        0.00          ZEN  7.005200e+09       0.00    Running Repairs              0.0        52.95    400607  BC01       THANE       NaN           NO           0.0  AP09AX0582         0.0         0.0        0.0        0.0                   NaN         0.0           IMRAN             233.14         0.0        0.0         0.0             0.0       233.14  BC01SA2\n",
       "3                   0.0                   0.0          THNAE     0.0     0.0    0.0    0.0     THNAE                NaN      NaN    Retail       84419  Maharashtra         NaN            NaN       00:00:00     0.0     0.0     0.0    0.0               NaN   2015-01-03  7005200005     11:40:44       174158   2015-01-03     10:12:32        78584          0.00     TATA MOTORS        0.00       INDICA  7.005200e+09       0.00     SMC Redemption              0.0         0.00    400603  BC01       THANE       NaN           NO           0.0   MH43R3046         0.0         0.0        0.0        0.0                   NaN         0.0        PRASHANT               0.00         0.0        0.0         0.0             0.0         0.00  BC01SA2\n",
       "4                   0.0                   0.0          THANE     0.0     0.0    0.0    0.0     THANE                NaN      NaN    Retail       18980  Maharashtra         NaN            NaN       00:00:00     0.0     0.0     0.0    0.0               NaN   2015-01-03  7005200006     12:07:17       173860   2015-01-02     10:45:42        50057       1202.97         HYUNDAI      100.00  SANTRO XING  7.005200e+09     499.99       Paid Service              0.0       944.16    400603  BC01       THANE       NaN           NO           0.0  MH04CD9768         0.0         0.0        0.0        0.0                   NaN         0.0        DAYANAND            2747.12         0.0        0.0         0.0             0.0      2747.12  BC01SA2"
      ]
     },
     "execution_count": 182,
     "metadata": {},
     "output_type": "execute_result"
    }
   ],
   "source": [
    "invoice.head()"
   ]
  },
  {
   "cell_type": "code",
   "execution_count": null,
   "metadata": {},
   "outputs": [],
   "source": []
  },
  {
   "cell_type": "code",
   "execution_count": 183,
   "metadata": {},
   "outputs": [],
   "source": [
    "def GetModelFromOtherData(make):\n",
    "    result = invoice[(invoice['make']==make) & (invoice['model'].notna())]\n",
    "    return result['model'].value_counts().index[0]"
   ]
  },
  {
   "cell_type": "code",
   "execution_count": 184,
   "metadata": {},
   "outputs": [
    {
     "name": "stderr",
     "output_type": "stream",
     "text": [
      "C:\\ProgramData\\Anaconda3\\lib\\site-packages\\IPython\\core\\interactiveshell.py:3058: DtypeWarning: Columns (9,10,14,15,21,41,51) have mixed types.Specify dtype option on import or set low_memory=False.\n",
      "  interactivity=interactivity, compiler=compiler, result=result)\n"
     ]
    }
   ],
   "source": [
    "invoice = pd.read_csv(\"Final_Invoice.csv\",index_col=0)"
   ]
  },
  {
   "cell_type": "code",
   "execution_count": null,
   "metadata": {},
   "outputs": [],
   "source": []
  },
  {
   "cell_type": "code",
   "execution_count": 185,
   "metadata": {},
   "outputs": [],
   "source": [
    "nomi = pgeocode.Nominatim('in')"
   ]
  },
  {
   "cell_type": "code",
   "execution_count": 194,
   "metadata": {},
   "outputs": [],
   "source": [
    "def CleanInvoice(df):\n",
    "    \n",
    "    #dropping gstcomponents just keeping final price\n",
    "    df=df.drop(['odn_no','tds_amount','total_value','amt_rcvd_from_custom','amt_rcvd_from_ins_co','cgst14','cgst25','cgst6','cgst9','igst12','igst18','igst28','igst5','sgstugst14','sgstugst25','sgstugst6','sgstugst9','total_cgst','total_gst','total_igst','total_sgstugst'],axis=1) \n",
    "    \n",
    "    #Remove Column having null values greater than 55%\n",
    "    df=df.drop(['cash_cashless_type','claim_no','expiry_date','gate_pass_date','insurance_company','policy_no','service_advisor_name'],axis=1)\n",
    "    \n",
    "    \n",
    "    df = df.apply(lambda x: x.str.lower() if(x.dtype == 'object') else x)\n",
    "    \n",
    "    #filling Null values\n",
    "    df['outstanding_amt']= df['outstanding_amt'].fillna(0)\n",
    "    df['regn_no'] = df['regn_no'].fillna('none')\n",
    "    df['technician_name']=df['technician_name'].fillna('NoName')\n",
    "    \n",
    "        \n",
    "    #getting area\n",
    "    df['area__locality'] = df['pincode'].apply(lambda x: GetAreaFromPin(x) )\n",
    "    #getting latitude\n",
    "    df['latitude'] = df['pincode'].apply(lambda x: GetLatFromPin(x) )\n",
    "    #getting longitude\n",
    "    df['longitude'] = df['pincode'].apply(lambda x: GetLonFromPin(x) )\n",
    "    \n",
    "    #correcting District\n",
    "    df['District'] = df['pincode'].apply(lambda x: GetDistrictFromPin(x) )\n",
    "    \n",
    "    #correcting State\n",
    "    df['State'] = df['pincode'].apply(lambda x: GetStateFromPin(x) )\n",
    "    \n",
    "    \n",
    "    #fill model\n",
    "    df['model'] = df['make'].apply(lambda x: GetModelFromOtherData(x) )\n",
    "    \n",
    "    return df"
   ]
  },
  {
   "cell_type": "code",
   "execution_count": null,
   "metadata": {},
   "outputs": [],
   "source": []
  },
  {
   "cell_type": "code",
   "execution_count": 187,
   "metadata": {
    "scrolled": false
   },
   "outputs": [
    {
     "data": {
      "text/plain": [
       "Amt Rcvd From Custom     40.073205\n",
       "Amt Rcvd From Ins Co     40.073205\n",
       "Area / Locality           4.852594\n",
       "CGST(14%)                40.073205\n",
       "CGST(2.5%)               40.073205\n",
       "CGST(6%)                 40.073205\n",
       "CGST(9%)                 40.073205\n",
       "CITY                      0.000203\n",
       "Cash /Cashless Type      94.430384\n",
       "Claim No.                99.024200\n",
       "Cust Type                 0.000000\n",
       "Customer No.              0.000000\n",
       "District                  0.000000\n",
       "Expiry Date              95.484386\n",
       "Gate Pass Date           91.689247\n",
       "Gate Pass Time            0.000000\n",
       "IGST(12%)                40.073205\n",
       "IGST(18%)                40.073205\n",
       "IGST(28%)                40.073205\n",
       "IGST(5%)                 40.073205\n",
       "Insurance Company        95.208140\n",
       "Invoice Date              0.000000\n",
       "Invoice No                0.000000\n",
       "Invoice Time              0.000000\n",
       "Job Card No               0.000000\n",
       "JobCard Date              0.000000\n",
       "JobCard Time              0.000000\n",
       "KMs Reading               0.000000\n",
       "Labour Total              0.000000\n",
       "Make                      0.000000\n",
       "Misc Total                0.000000\n",
       "Model                     0.309762\n",
       "ODN No.                  40.073205\n",
       "OSL Total                 0.000000\n",
       "Order Type                0.000000\n",
       "Outstanding Amt          40.073205\n",
       "Parts Total               0.000000\n",
       "Pin code                  0.000000\n",
       "Plant                     0.000000\n",
       "Plant Name1               0.000000\n",
       "Policy no.               96.570888\n",
       "Print Status              0.000000\n",
       "Recovrbl Exp              0.000000\n",
       "Regn No                   0.003250\n",
       "SGST/UGST(14%)           40.073205\n",
       "SGST/UGST(2.5%)          40.073205\n",
       "SGST/UGST(6%)            40.073205\n",
       "SGST/UGST(9%)            40.073205\n",
       "Service Advisor Name    100.000000\n",
       "TDS amount               40.073205\n",
       "Technician Name          48.106290\n",
       "Total Amt Wtd Tax.        0.000000\n",
       "Total CGST               40.073205\n",
       "Total GST                40.073205\n",
       "Total IGST               40.073205\n",
       "Total SGST/UGST          40.073205\n",
       "Total Value              40.073205\n",
       "User ID                   0.000000\n",
       "dtype: float64"
      ]
     },
     "execution_count": 187,
     "metadata": {},
     "output_type": "execute_result"
    }
   ],
   "source": [
    "invoice.isnull().sum() / invoice.shape[0] * 100.00"
   ]
  },
  {
   "cell_type": "code",
   "execution_count": 195,
   "metadata": {},
   "outputs": [
    {
     "ename": "KeyError",
     "evalue": "'pincode'",
     "output_type": "error",
     "traceback": [
      "\u001b[1;31m---------------------------------------------------------------------------\u001b[0m",
      "\u001b[1;31mKeyError\u001b[0m                                  Traceback (most recent call last)",
      "\u001b[1;32mC:\\ProgramData\\Anaconda3\\lib\\site-packages\\pandas\\core\\indexes\\base.py\u001b[0m in \u001b[0;36mget_loc\u001b[1;34m(self, key, method, tolerance)\u001b[0m\n\u001b[0;32m   2645\u001b[0m             \u001b[1;32mtry\u001b[0m\u001b[1;33m:\u001b[0m\u001b[1;33m\u001b[0m\u001b[1;33m\u001b[0m\u001b[0m\n\u001b[1;32m-> 2646\u001b[1;33m                 \u001b[1;32mreturn\u001b[0m \u001b[0mself\u001b[0m\u001b[1;33m.\u001b[0m\u001b[0m_engine\u001b[0m\u001b[1;33m.\u001b[0m\u001b[0mget_loc\u001b[0m\u001b[1;33m(\u001b[0m\u001b[0mkey\u001b[0m\u001b[1;33m)\u001b[0m\u001b[1;33m\u001b[0m\u001b[1;33m\u001b[0m\u001b[0m\n\u001b[0m\u001b[0;32m   2647\u001b[0m             \u001b[1;32mexcept\u001b[0m \u001b[0mKeyError\u001b[0m\u001b[1;33m:\u001b[0m\u001b[1;33m\u001b[0m\u001b[1;33m\u001b[0m\u001b[0m\n",
      "\u001b[1;32mpandas\\_libs\\index.pyx\u001b[0m in \u001b[0;36mpandas._libs.index.IndexEngine.get_loc\u001b[1;34m()\u001b[0m\n",
      "\u001b[1;32mpandas\\_libs\\index.pyx\u001b[0m in \u001b[0;36mpandas._libs.index.IndexEngine.get_loc\u001b[1;34m()\u001b[0m\n",
      "\u001b[1;32mpandas\\_libs\\hashtable_class_helper.pxi\u001b[0m in \u001b[0;36mpandas._libs.hashtable.PyObjectHashTable.get_item\u001b[1;34m()\u001b[0m\n",
      "\u001b[1;32mpandas\\_libs\\hashtable_class_helper.pxi\u001b[0m in \u001b[0;36mpandas._libs.hashtable.PyObjectHashTable.get_item\u001b[1;34m()\u001b[0m\n",
      "\u001b[1;31mKeyError\u001b[0m: 'pincode'",
      "\nDuring handling of the above exception, another exception occurred:\n",
      "\u001b[1;31mKeyError\u001b[0m                                  Traceback (most recent call last)",
      "\u001b[1;32m<ipython-input-195-28a93b9d33c4>\u001b[0m in \u001b[0;36m<module>\u001b[1;34m\u001b[0m\n\u001b[0;32m      1\u001b[0m \u001b[0minvoice\u001b[0m \u001b[1;33m=\u001b[0m \u001b[0mclean_column_name\u001b[0m\u001b[1;33m(\u001b[0m\u001b[0minvoice\u001b[0m\u001b[1;33m)\u001b[0m\u001b[1;33m\u001b[0m\u001b[1;33m\u001b[0m\u001b[0m\n\u001b[1;32m----> 2\u001b[1;33m \u001b[0minvoice\u001b[0m \u001b[1;33m=\u001b[0m \u001b[0mCleanInvoice\u001b[0m\u001b[1;33m(\u001b[0m\u001b[0minvoice\u001b[0m\u001b[1;33m)\u001b[0m\u001b[1;33m\u001b[0m\u001b[1;33m\u001b[0m\u001b[0m\n\u001b[0m",
      "\u001b[1;32m<ipython-input-194-3cea4ee9a6fa>\u001b[0m in \u001b[0;36mCleanInvoice\u001b[1;34m(df)\u001b[0m\n\u001b[0;32m     17\u001b[0m \u001b[1;33m\u001b[0m\u001b[0m\n\u001b[0;32m     18\u001b[0m     \u001b[1;31m#getting area\u001b[0m\u001b[1;33m\u001b[0m\u001b[1;33m\u001b[0m\u001b[1;33m\u001b[0m\u001b[0m\n\u001b[1;32m---> 19\u001b[1;33m     \u001b[0mdf\u001b[0m\u001b[1;33m[\u001b[0m\u001b[1;34m'area__locality'\u001b[0m\u001b[1;33m]\u001b[0m \u001b[1;33m=\u001b[0m \u001b[0mdf\u001b[0m\u001b[1;33m[\u001b[0m\u001b[1;34m'pincode'\u001b[0m\u001b[1;33m]\u001b[0m\u001b[1;33m.\u001b[0m\u001b[0mapply\u001b[0m\u001b[1;33m(\u001b[0m\u001b[1;32mlambda\u001b[0m \u001b[0mx\u001b[0m\u001b[1;33m:\u001b[0m \u001b[0mGetAreaFromPin\u001b[0m\u001b[1;33m(\u001b[0m\u001b[0mx\u001b[0m\u001b[1;33m)\u001b[0m \u001b[1;33m)\u001b[0m\u001b[1;33m\u001b[0m\u001b[1;33m\u001b[0m\u001b[0m\n\u001b[0m\u001b[0;32m     20\u001b[0m     \u001b[1;31m#getting latitude\u001b[0m\u001b[1;33m\u001b[0m\u001b[1;33m\u001b[0m\u001b[1;33m\u001b[0m\u001b[0m\n\u001b[0;32m     21\u001b[0m     \u001b[0mdf\u001b[0m\u001b[1;33m[\u001b[0m\u001b[1;34m'latitude'\u001b[0m\u001b[1;33m]\u001b[0m \u001b[1;33m=\u001b[0m \u001b[0mdf\u001b[0m\u001b[1;33m[\u001b[0m\u001b[1;34m'pincode'\u001b[0m\u001b[1;33m]\u001b[0m\u001b[1;33m.\u001b[0m\u001b[0mapply\u001b[0m\u001b[1;33m(\u001b[0m\u001b[1;32mlambda\u001b[0m \u001b[0mx\u001b[0m\u001b[1;33m:\u001b[0m \u001b[0mGetLatFromPin\u001b[0m\u001b[1;33m(\u001b[0m\u001b[0mx\u001b[0m\u001b[1;33m)\u001b[0m \u001b[1;33m)\u001b[0m\u001b[1;33m\u001b[0m\u001b[1;33m\u001b[0m\u001b[0m\n",
      "\u001b[1;32mC:\\ProgramData\\Anaconda3\\lib\\site-packages\\pandas\\core\\frame.py\u001b[0m in \u001b[0;36m__getitem__\u001b[1;34m(self, key)\u001b[0m\n\u001b[0;32m   2798\u001b[0m             \u001b[1;32mif\u001b[0m \u001b[0mself\u001b[0m\u001b[1;33m.\u001b[0m\u001b[0mcolumns\u001b[0m\u001b[1;33m.\u001b[0m\u001b[0mnlevels\u001b[0m \u001b[1;33m>\u001b[0m \u001b[1;36m1\u001b[0m\u001b[1;33m:\u001b[0m\u001b[1;33m\u001b[0m\u001b[1;33m\u001b[0m\u001b[0m\n\u001b[0;32m   2799\u001b[0m                 \u001b[1;32mreturn\u001b[0m \u001b[0mself\u001b[0m\u001b[1;33m.\u001b[0m\u001b[0m_getitem_multilevel\u001b[0m\u001b[1;33m(\u001b[0m\u001b[0mkey\u001b[0m\u001b[1;33m)\u001b[0m\u001b[1;33m\u001b[0m\u001b[1;33m\u001b[0m\u001b[0m\n\u001b[1;32m-> 2800\u001b[1;33m             \u001b[0mindexer\u001b[0m \u001b[1;33m=\u001b[0m \u001b[0mself\u001b[0m\u001b[1;33m.\u001b[0m\u001b[0mcolumns\u001b[0m\u001b[1;33m.\u001b[0m\u001b[0mget_loc\u001b[0m\u001b[1;33m(\u001b[0m\u001b[0mkey\u001b[0m\u001b[1;33m)\u001b[0m\u001b[1;33m\u001b[0m\u001b[1;33m\u001b[0m\u001b[0m\n\u001b[0m\u001b[0;32m   2801\u001b[0m             \u001b[1;32mif\u001b[0m \u001b[0mis_integer\u001b[0m\u001b[1;33m(\u001b[0m\u001b[0mindexer\u001b[0m\u001b[1;33m)\u001b[0m\u001b[1;33m:\u001b[0m\u001b[1;33m\u001b[0m\u001b[1;33m\u001b[0m\u001b[0m\n\u001b[0;32m   2802\u001b[0m                 \u001b[0mindexer\u001b[0m \u001b[1;33m=\u001b[0m \u001b[1;33m[\u001b[0m\u001b[0mindexer\u001b[0m\u001b[1;33m]\u001b[0m\u001b[1;33m\u001b[0m\u001b[1;33m\u001b[0m\u001b[0m\n",
      "\u001b[1;32mC:\\ProgramData\\Anaconda3\\lib\\site-packages\\pandas\\core\\indexes\\base.py\u001b[0m in \u001b[0;36mget_loc\u001b[1;34m(self, key, method, tolerance)\u001b[0m\n\u001b[0;32m   2646\u001b[0m                 \u001b[1;32mreturn\u001b[0m \u001b[0mself\u001b[0m\u001b[1;33m.\u001b[0m\u001b[0m_engine\u001b[0m\u001b[1;33m.\u001b[0m\u001b[0mget_loc\u001b[0m\u001b[1;33m(\u001b[0m\u001b[0mkey\u001b[0m\u001b[1;33m)\u001b[0m\u001b[1;33m\u001b[0m\u001b[1;33m\u001b[0m\u001b[0m\n\u001b[0;32m   2647\u001b[0m             \u001b[1;32mexcept\u001b[0m \u001b[0mKeyError\u001b[0m\u001b[1;33m:\u001b[0m\u001b[1;33m\u001b[0m\u001b[1;33m\u001b[0m\u001b[0m\n\u001b[1;32m-> 2648\u001b[1;33m                 \u001b[1;32mreturn\u001b[0m \u001b[0mself\u001b[0m\u001b[1;33m.\u001b[0m\u001b[0m_engine\u001b[0m\u001b[1;33m.\u001b[0m\u001b[0mget_loc\u001b[0m\u001b[1;33m(\u001b[0m\u001b[0mself\u001b[0m\u001b[1;33m.\u001b[0m\u001b[0m_maybe_cast_indexer\u001b[0m\u001b[1;33m(\u001b[0m\u001b[0mkey\u001b[0m\u001b[1;33m)\u001b[0m\u001b[1;33m)\u001b[0m\u001b[1;33m\u001b[0m\u001b[1;33m\u001b[0m\u001b[0m\n\u001b[0m\u001b[0;32m   2649\u001b[0m         \u001b[0mindexer\u001b[0m \u001b[1;33m=\u001b[0m \u001b[0mself\u001b[0m\u001b[1;33m.\u001b[0m\u001b[0mget_indexer\u001b[0m\u001b[1;33m(\u001b[0m\u001b[1;33m[\u001b[0m\u001b[0mkey\u001b[0m\u001b[1;33m]\u001b[0m\u001b[1;33m,\u001b[0m \u001b[0mmethod\u001b[0m\u001b[1;33m=\u001b[0m\u001b[0mmethod\u001b[0m\u001b[1;33m,\u001b[0m \u001b[0mtolerance\u001b[0m\u001b[1;33m=\u001b[0m\u001b[0mtolerance\u001b[0m\u001b[1;33m)\u001b[0m\u001b[1;33m\u001b[0m\u001b[1;33m\u001b[0m\u001b[0m\n\u001b[0;32m   2650\u001b[0m         \u001b[1;32mif\u001b[0m \u001b[0mindexer\u001b[0m\u001b[1;33m.\u001b[0m\u001b[0mndim\u001b[0m \u001b[1;33m>\u001b[0m \u001b[1;36m1\u001b[0m \u001b[1;32mor\u001b[0m \u001b[0mindexer\u001b[0m\u001b[1;33m.\u001b[0m\u001b[0msize\u001b[0m \u001b[1;33m>\u001b[0m \u001b[1;36m1\u001b[0m\u001b[1;33m:\u001b[0m\u001b[1;33m\u001b[0m\u001b[1;33m\u001b[0m\u001b[0m\n",
      "\u001b[1;32mpandas\\_libs\\index.pyx\u001b[0m in \u001b[0;36mpandas._libs.index.IndexEngine.get_loc\u001b[1;34m()\u001b[0m\n",
      "\u001b[1;32mpandas\\_libs\\index.pyx\u001b[0m in \u001b[0;36mpandas._libs.index.IndexEngine.get_loc\u001b[1;34m()\u001b[0m\n",
      "\u001b[1;32mpandas\\_libs\\hashtable_class_helper.pxi\u001b[0m in \u001b[0;36mpandas._libs.hashtable.PyObjectHashTable.get_item\u001b[1;34m()\u001b[0m\n",
      "\u001b[1;32mpandas\\_libs\\hashtable_class_helper.pxi\u001b[0m in \u001b[0;36mpandas._libs.hashtable.PyObjectHashTable.get_item\u001b[1;34m()\u001b[0m\n",
      "\u001b[1;31mKeyError\u001b[0m: 'pincode'"
     ]
    }
   ],
   "source": [
    "invoice = clean_column_name(invoice)\n",
    "invoice = CleanInvoice(invoice)"
   ]
  },
  {
   "cell_type": "code",
   "execution_count": null,
   "metadata": {},
   "outputs": [],
   "source": [
    "invoice.isnull().sum() / invoice.shape[0] * 100.00"
   ]
  },
  {
   "cell_type": "code",
   "execution_count": null,
   "metadata": {},
   "outputs": [],
   "source": []
  },
  {
   "cell_type": "code",
   "execution_count": 17,
   "metadata": {},
   "outputs": [],
   "source": [
    "plant = pd.read_excel(\"Plant Master.xlsx\",index=False)"
   ]
  },
  {
   "cell_type": "code",
   "execution_count": 21,
   "metadata": {},
   "outputs": [
    {
     "data": {
      "text/html": [
       "<div>\n",
       "<style scoped>\n",
       "    .dataframe tbody tr th:only-of-type {\n",
       "        vertical-align: middle;\n",
       "    }\n",
       "\n",
       "    .dataframe tbody tr th {\n",
       "        vertical-align: top;\n",
       "    }\n",
       "\n",
       "    .dataframe thead th {\n",
       "        text-align: right;\n",
       "    }\n",
       "</style>\n",
       "<table border=\"1\" class=\"dataframe\">\n",
       "  <thead>\n",
       "    <tr style=\"text-align: right;\">\n",
       "      <th></th>\n",
       "      <th>Plant</th>\n",
       "      <th>Name 1</th>\n",
       "      <th>Valuation Area</th>\n",
       "      <th>Customer no. - plant</th>\n",
       "      <th>Vendor number plant</th>\n",
       "      <th>Factory calendar</th>\n",
       "      <th>Name 2</th>\n",
       "      <th>House number and street</th>\n",
       "      <th>PO Box</th>\n",
       "      <th>Postal Code</th>\n",
       "      <th>City</th>\n",
       "      <th>Sales organization</th>\n",
       "      <th>State</th>\n",
       "    </tr>\n",
       "  </thead>\n",
       "  <tbody>\n",
       "    <tr>\n",
       "      <th>0</th>\n",
       "      <td>BC07</td>\n",
       "      <td>NERKUNDRAM</td>\n",
       "      <td>BC07</td>\n",
       "      <td>PLBC07</td>\n",
       "      <td>PLBC07</td>\n",
       "      <td>IN</td>\n",
       "      <td>NaN</td>\n",
       "      <td>No.117 Poonamallee High Road,</td>\n",
       "      <td>600107.0</td>\n",
       "      <td>600107</td>\n",
       "      <td>Chennai</td>\n",
       "      <td>MFCS</td>\n",
       "      <td>Tamil Nadu</td>\n",
       "    </tr>\n",
       "    <tr>\n",
       "      <th>1</th>\n",
       "      <td>BC30</td>\n",
       "      <td>SAS NAGAR - MOHALI</td>\n",
       "      <td>BC30</td>\n",
       "      <td>PLBC30</td>\n",
       "      <td>PLBC30</td>\n",
       "      <td>IN</td>\n",
       "      <td>NaN</td>\n",
       "      <td>C-118, Phase 07,</td>\n",
       "      <td>160055.0</td>\n",
       "      <td>160055</td>\n",
       "      <td>Mohali</td>\n",
       "      <td>MFCS</td>\n",
       "      <td>Punjab</td>\n",
       "    </tr>\n",
       "    <tr>\n",
       "      <th>2</th>\n",
       "      <td>X001</td>\n",
       "      <td>X001 - AUTO PLANET WHEELS</td>\n",
       "      <td>X001</td>\n",
       "      <td>PLX001</td>\n",
       "      <td>NaN</td>\n",
       "      <td>IN</td>\n",
       "      <td>Thane</td>\n",
       "      <td>Unit No.3, Kothari Compound,</td>\n",
       "      <td>400610.0</td>\n",
       "      <td>400610</td>\n",
       "      <td>Thane</td>\n",
       "      <td>MFCA</td>\n",
       "      <td>Maharashtra</td>\n",
       "    </tr>\n",
       "    <tr>\n",
       "      <th>3</th>\n",
       "      <td>X002</td>\n",
       "      <td>X002 - BHANDARI INDUSTRIES PVT</td>\n",
       "      <td>X002</td>\n",
       "      <td>PLX002</td>\n",
       "      <td>NaN</td>\n",
       "      <td>IN</td>\n",
       "      <td>Ghaziabad</td>\n",
       "      <td>18/1, C Site 4, Sahibabad</td>\n",
       "      <td>201010.0</td>\n",
       "      <td>201010</td>\n",
       "      <td>Ghaziabad</td>\n",
       "      <td>MFCA</td>\n",
       "      <td>Uttar Pradesh</td>\n",
       "    </tr>\n",
       "    <tr>\n",
       "      <th>4</th>\n",
       "      <td>X003</td>\n",
       "      <td>X003 - Om Sri Satya Sai Automo</td>\n",
       "      <td>X003</td>\n",
       "      <td>PLX003</td>\n",
       "      <td>NaN</td>\n",
       "      <td>IN</td>\n",
       "      <td>Bengaluru</td>\n",
       "      <td>#75, Sy.No. 83/2, Panathur Mai</td>\n",
       "      <td>560087.0</td>\n",
       "      <td>560087</td>\n",
       "      <td>Bengaluru</td>\n",
       "      <td>MFCB</td>\n",
       "      <td>Karnataka</td>\n",
       "    </tr>\n",
       "  </tbody>\n",
       "</table>\n",
       "</div>"
      ],
      "text/plain": [
       "  Plant                          Name 1 Valuation Area Customer no. - plant Vendor number plant Factory calendar     Name 2         House number and street    PO Box  Postal Code       City Sales organization          State\n",
       "0  BC07                      NERKUNDRAM           BC07               PLBC07              PLBC07               IN        NaN   No.117 Poonamallee High Road,  600107.0       600107    Chennai               MFCS     Tamil Nadu\n",
       "1  BC30              SAS NAGAR - MOHALI           BC30               PLBC30              PLBC30               IN        NaN                C-118, Phase 07,  160055.0       160055     Mohali               MFCS         Punjab\n",
       "2  X001       X001 - AUTO PLANET WHEELS           X001               PLX001                 NaN               IN      Thane    Unit No.3, Kothari Compound,  400610.0       400610      Thane               MFCA    Maharashtra\n",
       "3  X002  X002 - BHANDARI INDUSTRIES PVT           X002               PLX002                 NaN               IN  Ghaziabad       18/1, C Site 4, Sahibabad  201010.0       201010  Ghaziabad               MFCA  Uttar Pradesh\n",
       "4  X003  X003 - Om Sri Satya Sai Automo           X003               PLX003                 NaN               IN  Bengaluru  #75, Sy.No. 83/2, Panathur Mai  560087.0       560087  Bengaluru               MFCB      Karnataka"
      ]
     },
     "execution_count": 21,
     "metadata": {},
     "output_type": "execute_result"
    }
   ],
   "source": [
    "plant.head()\n",
    "#plant[plant['Plant'] == \"BC01\"]"
   ]
  },
  {
   "cell_type": "code",
   "execution_count": 128,
   "metadata": {},
   "outputs": [],
   "source": [
    "pindf = pd.read_csv(\"all_india_PO_ver2.csv\")"
   ]
  },
  {
   "cell_type": "code",
   "execution_count": 129,
   "metadata": {},
   "outputs": [
    {
     "data": {
      "text/plain": [
       "'!\"#$%&\\'()*+,-./:;<=>?@[\\\\]^_`{|}~'"
      ]
     },
     "execution_count": 129,
     "metadata": {},
     "output_type": "execute_result"
    }
   ],
   "source": [
    "import string\n",
    "string.punctuation"
   ]
  },
  {
   "cell_type": "code",
   "execution_count": 136,
   "metadata": {},
   "outputs": [],
   "source": [
    "def CleanPinDataSet(df):\n",
    "    \n",
    "    nomi = pgeocode.Nominatim('in')\n",
    "    df=clean_column_name(df)\n",
    "    df = df.apply(lambda x: x.str.lower() if(x.dtype == 'object') else x)\n",
    "    \n",
    "    #Getting Area names\n",
    "#     #df['area']= df['officename'].apply(lambda x: re.sub('([a-z])\\w+',' ',x))\n",
    "#     df['area'] =df['officename'].apply(lambda x: re.sub('[a-z]+[-.]+[a-z]',' ',x))\n",
    "#     df['area'] =df['area'].apply(lambda x: re.sub('[0-9]',' ',x))\n",
    "#     df['area'] = df['area'].apply(lambda x: \"\".join([char.lower() for char in x if char not in string.punctuation]))\n",
    "#     #replacing double whitespace with single \n",
    "#     df['area']= df['area'].apply(lambda x: re.sub(' +', ' ',x))\n",
    "    \n",
    "#     #getting area\n",
    "#     df['area'] = df['pincode'].apply(lambda x: GetAreaFromPin(x) )\n",
    "#     #getting latitude\n",
    "#     df['latitude'] = df['pincode'].apply(lambda x: GetLatFromPin(x) )\n",
    "#     #getting longitude\n",
    "#     df['longitude'] = df['pincode'].apply(lambda x: GetLonFromPin(x) )\n",
    "    \n",
    "#     #correcting District\n",
    "#     df['District'] = df['pincode'].apply(lambda x: GetDistrictFromPin(x) )\n",
    "    \n",
    "#     #correcting State\n",
    "#     df['state'] = df['pincode'].apply(lambda x: GetStateFromPin(x) )\n",
    "    \n",
    "    \n",
    "    \n",
    "    return df"
   ]
  },
  {
   "cell_type": "code",
   "execution_count": 131,
   "metadata": {},
   "outputs": [
    {
     "name": "stdout",
     "output_type": "stream",
     "text": [
      "Index(['officename', 'pincode', 'officeType', 'Deliverystatus', 'divisionname', 'regionname', 'circlename', 'Taluk', 'Districtname', 'statename', 'Telephone', 'Related Suboffice', 'Related Headoffice'], dtype='object')\n",
      "Index(['officename', 'pincode', 'officetype', 'deliverystatus', 'divisionname', 'regionname', 'circlename', 'taluk', 'districtname', 'statename', 'telephone', 'related_suboffice', 'related_headoffice', 'area'], dtype='object')\n"
     ]
    }
   ],
   "source": [
    "print(pindf.columns)\n",
    "pindf = CleanPinDataSet(pindf)\n",
    "print(pindf.columns)"
   ]
  },
  {
   "cell_type": "code",
   "execution_count": null,
   "metadata": {},
   "outputs": [],
   "source": []
  },
  {
   "cell_type": "code",
   "execution_count": 132,
   "metadata": {
    "scrolled": true
   },
   "outputs": [
    {
     "data": {
      "text/plain": [
       "officename            ulhasnagar-4 s.o\n",
       "pincode                         421004\n",
       "officetype                         s.o\n",
       "deliverystatus                delivery\n",
       "divisionname             thane central\n",
       "regionname                      mumbai\n",
       "circlename                 maharashtra\n",
       "taluk                           kalyan\n",
       "districtname                     thane\n",
       "statename                  maharashtra\n",
       "telephone                 0251-2585928\n",
       "related_suboffice                  NaN\n",
       "related_headoffice     kalyan city h.o\n",
       "area                       ulhasnagar \n",
       "Name: 82261, dtype: object"
      ]
     },
     "execution_count": 132,
     "metadata": {},
     "output_type": "execute_result"
    }
   ],
   "source": [
    "pindf.iloc[82261]"
   ]
  },
  {
   "cell_type": "code",
   "execution_count": 134,
   "metadata": {},
   "outputs": [],
   "source": []
  },
  {
   "cell_type": "code",
   "execution_count": 153,
   "metadata": {},
   "outputs": [
    {
     "name": "stdout",
     "output_type": "stream",
     "text": [
      "postal_code                                                  410506\n",
      "country code                                                     IN\n",
      "place_name        Talegaon Dabhade, Adhale BK, Dhamane, Chandkhe...\n",
      "state_name                                              Maharashtra\n",
      "state_code                                                       16\n",
      "county_name                                                    Pune\n",
      "county_code                                                     521\n",
      "community_name                                                Maval\n",
      "community_code                                                  NaN\n",
      "latitude                                                     18.735\n",
      "longitude                                                    73.763\n",
      "accuracy                                                          4\n",
      "Name: 0, dtype: object\n"
     ]
    }
   ],
   "source": [
    "nomi = pgeocode.Nominatim('in')\n",
    "res=nomi.query_postal_code(\"410506\")\n",
    "print(res)"
   ]
  },
  {
   "cell_type": "code",
   "execution_count": 143,
   "metadata": {},
   "outputs": [
    {
     "data": {
      "text/plain": [
       "246"
      ]
     },
     "execution_count": 143,
     "metadata": {},
     "output_type": "execute_result"
    }
   ],
   "source": [
    "len(invoice.model.unique())"
   ]
  },
  {
   "cell_type": "code",
   "execution_count": 144,
   "metadata": {},
   "outputs": [
    {
     "data": {
      "text/plain": [
       "Index(['amt_rcvd_from_custom', 'amt_rcvd_from_ins_co', 'area__locality', 'cgst14', 'cgst25', 'cgst6', 'cgst9', 'city', 'cash_cashless_type', 'claim_no', 'cust_type', 'customer_no', 'district', 'expiry_date', 'gate_pass_date', 'gate_pass_time', 'igst12', 'igst18', 'igst28', 'igst5', 'insurance_company', 'invoice_date', 'invoice_no', 'invoice_time', 'job_card_no', 'jobcard_date', 'jobcard_time', 'kms_reading', 'labour_total', 'make', 'misc_total', 'model', 'odn_no', 'osl_total', 'order_type', 'outstanding_amt', 'parts_total', 'pin_code', 'plant', 'plant_name1', 'policy_no', 'print_status', 'recovrbl_exp', 'regn_no', 'sgstugst14', 'sgstugst25', 'sgstugst6', 'sgstugst9', 'service_advisor_name', 'tds_amount', 'technician_name', 'total_amt_wtd_tax', 'total_cgst', 'total_gst', 'total_igst', 'total_sgstugst', 'total_value', 'user_id'], dtype='object')"
      ]
     },
     "execution_count": 144,
     "metadata": {},
     "output_type": "execute_result"
    }
   ],
   "source": [
    "invoice.columns\n"
   ]
  },
  {
   "cell_type": "code",
   "execution_count": 108,
   "metadata": {},
   "outputs": [
    {
     "data": {
      "text/html": [
       "<div>\n",
       "<style scoped>\n",
       "    .dataframe tbody tr th:only-of-type {\n",
       "        vertical-align: middle;\n",
       "    }\n",
       "\n",
       "    .dataframe tbody tr th {\n",
       "        vertical-align: top;\n",
       "    }\n",
       "\n",
       "    .dataframe thead th {\n",
       "        text-align: right;\n",
       "    }\n",
       "</style>\n",
       "<table border=\"1\" class=\"dataframe\">\n",
       "  <thead>\n",
       "    <tr style=\"text-align: right;\">\n",
       "      <th></th>\n",
       "      <th>officename</th>\n",
       "      <th>pincode</th>\n",
       "      <th>officetype</th>\n",
       "      <th>deliverystatus</th>\n",
       "      <th>divisionname</th>\n",
       "      <th>regionname</th>\n",
       "      <th>circlename</th>\n",
       "      <th>taluk</th>\n",
       "      <th>districtname</th>\n",
       "      <th>statename</th>\n",
       "      <th>telephone</th>\n",
       "      <th>related_suboffice</th>\n",
       "      <th>related_headoffice</th>\n",
       "      <th>area</th>\n",
       "    </tr>\n",
       "  </thead>\n",
       "  <tbody>\n",
       "    <tr>\n",
       "      <th>0</th>\n",
       "      <td>achalapur b.o</td>\n",
       "      <td>504273</td>\n",
       "      <td>b.o</td>\n",
       "      <td>delivery</td>\n",
       "      <td>adilabad</td>\n",
       "      <td>hyderabad</td>\n",
       "      <td>andhra pradesh</td>\n",
       "      <td>asifabad</td>\n",
       "      <td>adilabad</td>\n",
       "      <td>telangana</td>\n",
       "      <td>NaN</td>\n",
       "      <td>rechini s.o</td>\n",
       "      <td>mancherial h.o</td>\n",
       "      <td>achalapur</td>\n",
       "    </tr>\n",
       "    <tr>\n",
       "      <th>1</th>\n",
       "      <td>ada b.o</td>\n",
       "      <td>504293</td>\n",
       "      <td>b.o</td>\n",
       "      <td>delivery</td>\n",
       "      <td>adilabad</td>\n",
       "      <td>hyderabad</td>\n",
       "      <td>andhra pradesh</td>\n",
       "      <td>asifabad</td>\n",
       "      <td>adilabad</td>\n",
       "      <td>telangana</td>\n",
       "      <td>NaN</td>\n",
       "      <td>asifabad s.o</td>\n",
       "      <td>mancherial h.o</td>\n",
       "      <td>ada</td>\n",
       "    </tr>\n",
       "    <tr>\n",
       "      <th>2</th>\n",
       "      <td>adegaon b.o</td>\n",
       "      <td>504307</td>\n",
       "      <td>b.o</td>\n",
       "      <td>delivery</td>\n",
       "      <td>adilabad</td>\n",
       "      <td>hyderabad</td>\n",
       "      <td>andhra pradesh</td>\n",
       "      <td>boath</td>\n",
       "      <td>adilabad</td>\n",
       "      <td>telangana</td>\n",
       "      <td>NaN</td>\n",
       "      <td>echoda s.o</td>\n",
       "      <td>adilabad h.o</td>\n",
       "      <td>adegaon</td>\n",
       "    </tr>\n",
       "    <tr>\n",
       "      <th>3</th>\n",
       "      <td>adilabad collectorate s.o</td>\n",
       "      <td>504001</td>\n",
       "      <td>s.o</td>\n",
       "      <td>non-delivery</td>\n",
       "      <td>adilabad</td>\n",
       "      <td>hyderabad</td>\n",
       "      <td>andhra pradesh</td>\n",
       "      <td>adilabad</td>\n",
       "      <td>adilabad</td>\n",
       "      <td>telangana</td>\n",
       "      <td>08732-226703</td>\n",
       "      <td>NaN</td>\n",
       "      <td>adilabad h.o</td>\n",
       "      <td>adilabad collectorate</td>\n",
       "    </tr>\n",
       "    <tr>\n",
       "      <th>4</th>\n",
       "      <td>adilabad h.o</td>\n",
       "      <td>504001</td>\n",
       "      <td>h.o</td>\n",
       "      <td>delivery</td>\n",
       "      <td>adilabad</td>\n",
       "      <td>hyderabad</td>\n",
       "      <td>andhra pradesh</td>\n",
       "      <td>adilabad</td>\n",
       "      <td>adilabad</td>\n",
       "      <td>telangana</td>\n",
       "      <td>08732-226738</td>\n",
       "      <td>NaN</td>\n",
       "      <td>NaN</td>\n",
       "      <td>adilabad</td>\n",
       "    </tr>\n",
       "  </tbody>\n",
       "</table>\n",
       "</div>"
      ],
      "text/plain": [
       "                  officename  pincode officetype deliverystatus divisionname regionname      circlename     taluk districtname  statename     telephone related_suboffice related_headoffice                     area\n",
       "0              achalapur b.o   504273        b.o       delivery     adilabad  hyderabad  andhra pradesh  asifabad     adilabad  telangana           NaN       rechini s.o     mancherial h.o              achalapur  \n",
       "1                    ada b.o   504293        b.o       delivery     adilabad  hyderabad  andhra pradesh  asifabad     adilabad  telangana           NaN      asifabad s.o     mancherial h.o                    ada  \n",
       "2                adegaon b.o   504307        b.o       delivery     adilabad  hyderabad  andhra pradesh     boath     adilabad  telangana           NaN        echoda s.o       adilabad h.o                adegaon  \n",
       "3  adilabad collectorate s.o   504001        s.o   non-delivery     adilabad  hyderabad  andhra pradesh  adilabad     adilabad  telangana  08732-226703               NaN       adilabad h.o  adilabad collectorate  \n",
       "4               adilabad h.o   504001        h.o       delivery     adilabad  hyderabad  andhra pradesh  adilabad     adilabad  telangana  08732-226738               NaN                NaN               adilabad  "
      ]
     },
     "execution_count": 108,
     "metadata": {},
     "output_type": "execute_result"
    }
   ],
   "source": [
    "pindf.head()"
   ]
  },
  {
   "cell_type": "code",
   "execution_count": 32,
   "metadata": {},
   "outputs": [
    {
     "data": {
      "text/plain": [
       "officename            object\n",
       "pincode                int64\n",
       "officetype            object\n",
       "deliverystatus        object\n",
       "divisionname          object\n",
       "regionname            object\n",
       "circlename            object\n",
       "taluk                 object\n",
       "districtname          object\n",
       "statename             object\n",
       "telephone             object\n",
       "related_suboffice     object\n",
       "related_headoffice    object\n",
       "dtype: object"
      ]
     },
     "execution_count": 32,
     "metadata": {},
     "output_type": "execute_result"
    }
   ],
   "source": [
    "pindf.dtypes\n"
   ]
  },
  {
   "cell_type": "code",
   "execution_count": 27,
   "metadata": {},
   "outputs": [
    {
     "data": {
      "text/html": [
       "<div>\n",
       "<style scoped>\n",
       "    .dataframe tbody tr th:only-of-type {\n",
       "        vertical-align: middle;\n",
       "    }\n",
       "\n",
       "    .dataframe tbody tr th {\n",
       "        vertical-align: top;\n",
       "    }\n",
       "\n",
       "    .dataframe thead th {\n",
       "        text-align: right;\n",
       "    }\n",
       "</style>\n",
       "<table border=\"1\" class=\"dataframe\">\n",
       "  <thead>\n",
       "    <tr style=\"text-align: right;\">\n",
       "      <th></th>\n",
       "      <th>officename</th>\n",
       "      <th>officetype</th>\n",
       "      <th>deliverystatus</th>\n",
       "      <th>divisionname</th>\n",
       "      <th>regionname</th>\n",
       "      <th>circlename</th>\n",
       "      <th>taluk</th>\n",
       "      <th>districtname</th>\n",
       "      <th>statename</th>\n",
       "      <th>telephone</th>\n",
       "      <th>related_suboffice</th>\n",
       "      <th>related_headoffice</th>\n",
       "    </tr>\n",
       "  </thead>\n",
       "  <tbody>\n",
       "    <tr>\n",
       "      <th>0</th>\n",
       "      <td>Achalapur B.O</td>\n",
       "      <td>B.O</td>\n",
       "      <td>Delivery</td>\n",
       "      <td>Adilabad</td>\n",
       "      <td>Hyderabad</td>\n",
       "      <td>Andhra Pradesh</td>\n",
       "      <td>Asifabad</td>\n",
       "      <td>Adilabad</td>\n",
       "      <td>TELANGANA</td>\n",
       "      <td>NaN</td>\n",
       "      <td>Rechini S.O</td>\n",
       "      <td>Mancherial H.O</td>\n",
       "    </tr>\n",
       "    <tr>\n",
       "      <th>1</th>\n",
       "      <td>Ada B.O</td>\n",
       "      <td>B.O</td>\n",
       "      <td>Delivery</td>\n",
       "      <td>Adilabad</td>\n",
       "      <td>Hyderabad</td>\n",
       "      <td>Andhra Pradesh</td>\n",
       "      <td>Asifabad</td>\n",
       "      <td>Adilabad</td>\n",
       "      <td>TELANGANA</td>\n",
       "      <td>NaN</td>\n",
       "      <td>Asifabad S.O</td>\n",
       "      <td>Mancherial H.O</td>\n",
       "    </tr>\n",
       "    <tr>\n",
       "      <th>2</th>\n",
       "      <td>Adegaon B.O</td>\n",
       "      <td>B.O</td>\n",
       "      <td>Delivery</td>\n",
       "      <td>Adilabad</td>\n",
       "      <td>Hyderabad</td>\n",
       "      <td>Andhra Pradesh</td>\n",
       "      <td>Boath</td>\n",
       "      <td>Adilabad</td>\n",
       "      <td>TELANGANA</td>\n",
       "      <td>NaN</td>\n",
       "      <td>Echoda S.O</td>\n",
       "      <td>Adilabad H.O</td>\n",
       "    </tr>\n",
       "    <tr>\n",
       "      <th>3</th>\n",
       "      <td>Adilabad Collectorate S.O</td>\n",
       "      <td>S.O</td>\n",
       "      <td>Non-Delivery</td>\n",
       "      <td>Adilabad</td>\n",
       "      <td>Hyderabad</td>\n",
       "      <td>Andhra Pradesh</td>\n",
       "      <td>Adilabad</td>\n",
       "      <td>Adilabad</td>\n",
       "      <td>TELANGANA</td>\n",
       "      <td>08732-226703</td>\n",
       "      <td>NaN</td>\n",
       "      <td>Adilabad H.O</td>\n",
       "    </tr>\n",
       "    <tr>\n",
       "      <th>4</th>\n",
       "      <td>Adilabad H.O</td>\n",
       "      <td>H.O</td>\n",
       "      <td>Delivery</td>\n",
       "      <td>Adilabad</td>\n",
       "      <td>Hyderabad</td>\n",
       "      <td>Andhra Pradesh</td>\n",
       "      <td>Adilabad</td>\n",
       "      <td>Adilabad</td>\n",
       "      <td>TELANGANA</td>\n",
       "      <td>08732-226738</td>\n",
       "      <td>NaN</td>\n",
       "      <td>NaN</td>\n",
       "    </tr>\n",
       "    <tr>\n",
       "      <th>...</th>\n",
       "      <td>...</td>\n",
       "      <td>...</td>\n",
       "      <td>...</td>\n",
       "      <td>...</td>\n",
       "      <td>...</td>\n",
       "      <td>...</td>\n",
       "      <td>...</td>\n",
       "      <td>...</td>\n",
       "      <td>...</td>\n",
       "      <td>...</td>\n",
       "      <td>...</td>\n",
       "      <td>...</td>\n",
       "    </tr>\n",
       "    <tr>\n",
       "      <th>154792</th>\n",
       "      <td>Uttar Sautanchak B.O</td>\n",
       "      <td>B.O</td>\n",
       "      <td>Delivery</td>\n",
       "      <td>Tamluk</td>\n",
       "      <td>South Bengal</td>\n",
       "      <td>West Bengal</td>\n",
       "      <td>Nandakumar</td>\n",
       "      <td>East Midnapore</td>\n",
       "      <td>WEST BENGAL</td>\n",
       "      <td>NaN</td>\n",
       "      <td>Mirikpur S.O</td>\n",
       "      <td>Tamluk H.O</td>\n",
       "    </tr>\n",
       "    <tr>\n",
       "      <th>154793</th>\n",
       "      <td>Uttarjianda B.O</td>\n",
       "      <td>B.O</td>\n",
       "      <td>Delivery</td>\n",
       "      <td>Tamluk</td>\n",
       "      <td>South Bengal</td>\n",
       "      <td>West Bengal</td>\n",
       "      <td>Panskura-i</td>\n",
       "      <td>East Midnapore</td>\n",
       "      <td>WEST BENGAL</td>\n",
       "      <td>NaN</td>\n",
       "      <td>Bhogpur S.O (East Midnapore)</td>\n",
       "      <td>Tamluk H.O</td>\n",
       "    </tr>\n",
       "    <tr>\n",
       "      <th>154794</th>\n",
       "      <td>Uttarkotebarh B.O</td>\n",
       "      <td>B.O</td>\n",
       "      <td>Delivery</td>\n",
       "      <td>Tamluk</td>\n",
       "      <td>South Bengal</td>\n",
       "      <td>West Bengal</td>\n",
       "      <td>Bhagawanpur</td>\n",
       "      <td>East Midnapore</td>\n",
       "      <td>WEST BENGAL</td>\n",
       "      <td>NaN</td>\n",
       "      <td>Kajlagarh S.O</td>\n",
       "      <td>Tamluk H.O</td>\n",
       "    </tr>\n",
       "    <tr>\n",
       "      <th>154795</th>\n",
       "      <td>Uttarmechogram B.O</td>\n",
       "      <td>B.O</td>\n",
       "      <td>Delivery</td>\n",
       "      <td>Tamluk</td>\n",
       "      <td>South Bengal</td>\n",
       "      <td>West Bengal</td>\n",
       "      <td>Panskura-i</td>\n",
       "      <td>East Midnapore</td>\n",
       "      <td>WEST BENGAL</td>\n",
       "      <td>NaN</td>\n",
       "      <td>Panskura S.O</td>\n",
       "      <td>Tamluk H.O</td>\n",
       "    </tr>\n",
       "    <tr>\n",
       "      <th>154796</th>\n",
       "      <td>Uttarsonamui B.O</td>\n",
       "      <td>B.O</td>\n",
       "      <td>Delivery</td>\n",
       "      <td>Tamluk</td>\n",
       "      <td>South Bengal</td>\n",
       "      <td>West Bengal</td>\n",
       "      <td>Nandakumar</td>\n",
       "      <td>East Midnapore</td>\n",
       "      <td>WEST BENGAL</td>\n",
       "      <td>NaN</td>\n",
       "      <td>Byabattarhat S.O</td>\n",
       "      <td>Tamluk H.O</td>\n",
       "    </tr>\n",
       "  </tbody>\n",
       "</table>\n",
       "<p>154797 rows × 12 columns</p>\n",
       "</div>"
      ],
      "text/plain": [
       "                       officename officetype deliverystatus divisionname    regionname      circlename        taluk    districtname    statename     telephone             related_suboffice related_headoffice\n",
       "0                   Achalapur B.O        B.O       Delivery     Adilabad     Hyderabad  Andhra Pradesh     Asifabad        Adilabad    TELANGANA           NaN                   Rechini S.O     Mancherial H.O\n",
       "1                         Ada B.O        B.O       Delivery     Adilabad     Hyderabad  Andhra Pradesh     Asifabad        Adilabad    TELANGANA           NaN                  Asifabad S.O     Mancherial H.O\n",
       "2                     Adegaon B.O        B.O       Delivery     Adilabad     Hyderabad  Andhra Pradesh        Boath        Adilabad    TELANGANA           NaN                    Echoda S.O       Adilabad H.O\n",
       "3       Adilabad Collectorate S.O        S.O   Non-Delivery     Adilabad     Hyderabad  Andhra Pradesh     Adilabad        Adilabad    TELANGANA  08732-226703                           NaN       Adilabad H.O\n",
       "4                    Adilabad H.O        H.O       Delivery     Adilabad     Hyderabad  Andhra Pradesh     Adilabad        Adilabad    TELANGANA  08732-226738                           NaN                NaN\n",
       "...                           ...        ...            ...          ...           ...             ...          ...             ...          ...           ...                           ...                ...\n",
       "154792       Uttar Sautanchak B.O        B.O       Delivery       Tamluk  South Bengal     West Bengal   Nandakumar  East Midnapore  WEST BENGAL           NaN                  Mirikpur S.O         Tamluk H.O\n",
       "154793            Uttarjianda B.O        B.O       Delivery       Tamluk  South Bengal     West Bengal   Panskura-i  East Midnapore  WEST BENGAL           NaN  Bhogpur S.O (East Midnapore)         Tamluk H.O\n",
       "154794          Uttarkotebarh B.O        B.O       Delivery       Tamluk  South Bengal     West Bengal  Bhagawanpur  East Midnapore  WEST BENGAL           NaN                 Kajlagarh S.O         Tamluk H.O\n",
       "154795         Uttarmechogram B.O        B.O       Delivery       Tamluk  South Bengal     West Bengal   Panskura-i  East Midnapore  WEST BENGAL           NaN                  Panskura S.O         Tamluk H.O\n",
       "154796           Uttarsonamui B.O        B.O       Delivery       Tamluk  South Bengal     West Bengal   Nandakumar  East Midnapore  WEST BENGAL           NaN              Byabattarhat S.O         Tamluk H.O\n",
       "\n",
       "[154797 rows x 12 columns]"
      ]
     },
     "execution_count": 27,
     "metadata": {},
     "output_type": "execute_result"
    }
   ],
   "source": [
    "pindf.select_dtypes(exclude='number')"
   ]
  },
  {
   "cell_type": "code",
   "execution_count": null,
   "metadata": {},
   "outputs": [],
   "source": []
  },
  {
   "cell_type": "markdown",
   "metadata": {},
   "source": [
    "# BELOW AREA IS DIFFERENT"
   ]
  },
  {
   "cell_type": "code",
   "execution_count": null,
   "metadata": {},
   "outputs": [],
   "source": []
  },
  {
   "cell_type": "code",
   "execution_count": 13,
   "metadata": {},
   "outputs": [
    {
     "data": {
      "text/html": [
       "        <script type=\"text/javascript\">\n",
       "        window.PlotlyConfig = {MathJaxConfig: 'local'};\n",
       "        if (window.MathJax) {MathJax.Hub.Config({SVG: {font: \"STIX-Web\"}});}\n",
       "        if (typeof require !== 'undefined') {\n",
       "        require.undef(\"plotly\");\n",
       "        requirejs.config({\n",
       "            paths: {\n",
       "                'plotly': ['https://cdn.plot.ly/plotly-latest.min']\n",
       "            }\n",
       "        });\n",
       "        require(['plotly'], function(Plotly) {\n",
       "            window._Plotly = Plotly;\n",
       "        });\n",
       "        }\n",
       "        </script>\n",
       "        "
      ]
     },
     "metadata": {},
     "output_type": "display_data"
    }
   ],
   "source": [
    "plotly.offline.init_notebook_mode(connected=True)"
   ]
  },
  {
   "cell_type": "code",
   "execution_count": 14,
   "metadata": {},
   "outputs": [
    {
     "data": {
      "application/vnd.plotly.v1+json": {
       "config": {
        "plotlyServerURL": "https://plot.ly"
       },
       "data": [
        {
         "type": "bar",
         "y": [
          "Z001",
          "Z005",
          "Z005",
          "Z005",
          "Z008",
          "Z003",
          "Z005",
          null,
          "Z003",
          "Z005",
          "Z001",
          "Z006",
          "Z005",
          "Z013",
          "Z004",
          "Z001",
          "Z001",
          "Z016",
          "Z005",
          "Z003",
          "Z012",
          "Z005",
          "Z004",
          "Z005",
          "Z005",
          "Z018",
          "Z005",
          "Z006",
          "Z021",
          "Z005",
          "Z005",
          "Z006",
          "Z006",
          "Z005",
          "Z006",
          "Z006",
          "Z005",
          "Z001",
          "Z002",
          "Z005",
          "Z016",
          "Z007",
          "Z005",
          "Z011",
          "Z007",
          "Z016",
          "Z005",
          "Z017",
          "Z006",
          "Z012",
          "Z001",
          "Z020",
          "Z002",
          "Z005",
          "Z005",
          "Z016",
          "Z002",
          "Z016",
          "Z006",
          "Z005",
          "Z017",
          "Z017",
          "Z001",
          "Z005",
          "Z004",
          "Z005",
          "Z005",
          "Z021",
          "Z016",
          "Z006",
          "Z021",
          "Z016",
          "Z002",
          "Z017",
          "Z006",
          "Z017",
          "Z002",
          "Z002",
          "Z005",
          "Z005",
          "Z004",
          "Z005",
          "Z017",
          "Z021",
          "Z005",
          "Z006",
          "Z005",
          "Z002",
          "Z006",
          "Z016",
          "Z005",
          "Z004",
          "Z006",
          "Z016",
          "Z008",
          "Z008",
          "Z019",
          "Z005",
          "Z002",
          "Z013",
          "Z002",
          "Z008",
          "Z004",
          "Z017",
          "Z006",
          "Z016",
          "Z017",
          "Z007",
          "Z005",
          "Z018",
          "Z001",
          "Z019",
          "Z002",
          "Z006",
          "Z005",
          "Z008",
          "Z005",
          "Z020",
          "Z017",
          "Z017",
          "Z005",
          "Z006",
          "Z006",
          "Z002",
          "Z016",
          "Z002",
          "Z017",
          "Z012",
          "Z005",
          "Z005",
          "Z006",
          "Z014",
          "Z005",
          "Z001",
          "Z019",
          "Z001",
          "Z019",
          "Z008",
          "Z008",
          "Z021",
          "Z002",
          "Z005",
          "Z008",
          "Z016",
          "Z002",
          "Z005",
          "Z005",
          "Z017",
          "Z020",
          "Z008",
          "Z017",
          "Z002",
          "Z005",
          "Z005",
          "Z019",
          "Z005",
          "Z002",
          "Z011",
          "Z016",
          "Z019",
          "Z011",
          "Z016",
          "Z007",
          "Z018",
          "Z021",
          "Z005",
          "Z006",
          "Z005",
          "Z006",
          "Z017",
          "Z005",
          "Z002",
          "Z005",
          "Z002",
          "Z005",
          "Z002",
          "Z005",
          "Z016",
          "Z005",
          "Z005",
          "Z001",
          "Z005",
          "Z014",
          "Z010",
          "Z005",
          "Z008",
          "Z005",
          "Z005",
          "Z005",
          "Z012"
         ]
        }
       ],
       "layout": {
        "template": {
         "data": {
          "bar": [
           {
            "error_x": {
             "color": "#2a3f5f"
            },
            "error_y": {
             "color": "#2a3f5f"
            },
            "marker": {
             "line": {
              "color": "#E5ECF6",
              "width": 0.5
             }
            },
            "type": "bar"
           }
          ],
          "barpolar": [
           {
            "marker": {
             "line": {
              "color": "#E5ECF6",
              "width": 0.5
             }
            },
            "type": "barpolar"
           }
          ],
          "carpet": [
           {
            "aaxis": {
             "endlinecolor": "#2a3f5f",
             "gridcolor": "white",
             "linecolor": "white",
             "minorgridcolor": "white",
             "startlinecolor": "#2a3f5f"
            },
            "baxis": {
             "endlinecolor": "#2a3f5f",
             "gridcolor": "white",
             "linecolor": "white",
             "minorgridcolor": "white",
             "startlinecolor": "#2a3f5f"
            },
            "type": "carpet"
           }
          ],
          "choropleth": [
           {
            "colorbar": {
             "outlinewidth": 0,
             "ticks": ""
            },
            "type": "choropleth"
           }
          ],
          "contour": [
           {
            "colorbar": {
             "outlinewidth": 0,
             "ticks": ""
            },
            "colorscale": [
             [
              0,
              "#0d0887"
             ],
             [
              0.1111111111111111,
              "#46039f"
             ],
             [
              0.2222222222222222,
              "#7201a8"
             ],
             [
              0.3333333333333333,
              "#9c179e"
             ],
             [
              0.4444444444444444,
              "#bd3786"
             ],
             [
              0.5555555555555556,
              "#d8576b"
             ],
             [
              0.6666666666666666,
              "#ed7953"
             ],
             [
              0.7777777777777778,
              "#fb9f3a"
             ],
             [
              0.8888888888888888,
              "#fdca26"
             ],
             [
              1,
              "#f0f921"
             ]
            ],
            "type": "contour"
           }
          ],
          "contourcarpet": [
           {
            "colorbar": {
             "outlinewidth": 0,
             "ticks": ""
            },
            "type": "contourcarpet"
           }
          ],
          "heatmap": [
           {
            "colorbar": {
             "outlinewidth": 0,
             "ticks": ""
            },
            "colorscale": [
             [
              0,
              "#0d0887"
             ],
             [
              0.1111111111111111,
              "#46039f"
             ],
             [
              0.2222222222222222,
              "#7201a8"
             ],
             [
              0.3333333333333333,
              "#9c179e"
             ],
             [
              0.4444444444444444,
              "#bd3786"
             ],
             [
              0.5555555555555556,
              "#d8576b"
             ],
             [
              0.6666666666666666,
              "#ed7953"
             ],
             [
              0.7777777777777778,
              "#fb9f3a"
             ],
             [
              0.8888888888888888,
              "#fdca26"
             ],
             [
              1,
              "#f0f921"
             ]
            ],
            "type": "heatmap"
           }
          ],
          "heatmapgl": [
           {
            "colorbar": {
             "outlinewidth": 0,
             "ticks": ""
            },
            "colorscale": [
             [
              0,
              "#0d0887"
             ],
             [
              0.1111111111111111,
              "#46039f"
             ],
             [
              0.2222222222222222,
              "#7201a8"
             ],
             [
              0.3333333333333333,
              "#9c179e"
             ],
             [
              0.4444444444444444,
              "#bd3786"
             ],
             [
              0.5555555555555556,
              "#d8576b"
             ],
             [
              0.6666666666666666,
              "#ed7953"
             ],
             [
              0.7777777777777778,
              "#fb9f3a"
             ],
             [
              0.8888888888888888,
              "#fdca26"
             ],
             [
              1,
              "#f0f921"
             ]
            ],
            "type": "heatmapgl"
           }
          ],
          "histogram": [
           {
            "marker": {
             "colorbar": {
              "outlinewidth": 0,
              "ticks": ""
             }
            },
            "type": "histogram"
           }
          ],
          "histogram2d": [
           {
            "colorbar": {
             "outlinewidth": 0,
             "ticks": ""
            },
            "colorscale": [
             [
              0,
              "#0d0887"
             ],
             [
              0.1111111111111111,
              "#46039f"
             ],
             [
              0.2222222222222222,
              "#7201a8"
             ],
             [
              0.3333333333333333,
              "#9c179e"
             ],
             [
              0.4444444444444444,
              "#bd3786"
             ],
             [
              0.5555555555555556,
              "#d8576b"
             ],
             [
              0.6666666666666666,
              "#ed7953"
             ],
             [
              0.7777777777777778,
              "#fb9f3a"
             ],
             [
              0.8888888888888888,
              "#fdca26"
             ],
             [
              1,
              "#f0f921"
             ]
            ],
            "type": "histogram2d"
           }
          ],
          "histogram2dcontour": [
           {
            "colorbar": {
             "outlinewidth": 0,
             "ticks": ""
            },
            "colorscale": [
             [
              0,
              "#0d0887"
             ],
             [
              0.1111111111111111,
              "#46039f"
             ],
             [
              0.2222222222222222,
              "#7201a8"
             ],
             [
              0.3333333333333333,
              "#9c179e"
             ],
             [
              0.4444444444444444,
              "#bd3786"
             ],
             [
              0.5555555555555556,
              "#d8576b"
             ],
             [
              0.6666666666666666,
              "#ed7953"
             ],
             [
              0.7777777777777778,
              "#fb9f3a"
             ],
             [
              0.8888888888888888,
              "#fdca26"
             ],
             [
              1,
              "#f0f921"
             ]
            ],
            "type": "histogram2dcontour"
           }
          ],
          "mesh3d": [
           {
            "colorbar": {
             "outlinewidth": 0,
             "ticks": ""
            },
            "type": "mesh3d"
           }
          ],
          "parcoords": [
           {
            "line": {
             "colorbar": {
              "outlinewidth": 0,
              "ticks": ""
             }
            },
            "type": "parcoords"
           }
          ],
          "pie": [
           {
            "automargin": true,
            "type": "pie"
           }
          ],
          "scatter": [
           {
            "marker": {
             "colorbar": {
              "outlinewidth": 0,
              "ticks": ""
             }
            },
            "type": "scatter"
           }
          ],
          "scatter3d": [
           {
            "line": {
             "colorbar": {
              "outlinewidth": 0,
              "ticks": ""
             }
            },
            "marker": {
             "colorbar": {
              "outlinewidth": 0,
              "ticks": ""
             }
            },
            "type": "scatter3d"
           }
          ],
          "scattercarpet": [
           {
            "marker": {
             "colorbar": {
              "outlinewidth": 0,
              "ticks": ""
             }
            },
            "type": "scattercarpet"
           }
          ],
          "scattergeo": [
           {
            "marker": {
             "colorbar": {
              "outlinewidth": 0,
              "ticks": ""
             }
            },
            "type": "scattergeo"
           }
          ],
          "scattergl": [
           {
            "marker": {
             "colorbar": {
              "outlinewidth": 0,
              "ticks": ""
             }
            },
            "type": "scattergl"
           }
          ],
          "scattermapbox": [
           {
            "marker": {
             "colorbar": {
              "outlinewidth": 0,
              "ticks": ""
             }
            },
            "type": "scattermapbox"
           }
          ],
          "scatterpolar": [
           {
            "marker": {
             "colorbar": {
              "outlinewidth": 0,
              "ticks": ""
             }
            },
            "type": "scatterpolar"
           }
          ],
          "scatterpolargl": [
           {
            "marker": {
             "colorbar": {
              "outlinewidth": 0,
              "ticks": ""
             }
            },
            "type": "scatterpolargl"
           }
          ],
          "scatterternary": [
           {
            "marker": {
             "colorbar": {
              "outlinewidth": 0,
              "ticks": ""
             }
            },
            "type": "scatterternary"
           }
          ],
          "surface": [
           {
            "colorbar": {
             "outlinewidth": 0,
             "ticks": ""
            },
            "colorscale": [
             [
              0,
              "#0d0887"
             ],
             [
              0.1111111111111111,
              "#46039f"
             ],
             [
              0.2222222222222222,
              "#7201a8"
             ],
             [
              0.3333333333333333,
              "#9c179e"
             ],
             [
              0.4444444444444444,
              "#bd3786"
             ],
             [
              0.5555555555555556,
              "#d8576b"
             ],
             [
              0.6666666666666666,
              "#ed7953"
             ],
             [
              0.7777777777777778,
              "#fb9f3a"
             ],
             [
              0.8888888888888888,
              "#fdca26"
             ],
             [
              1,
              "#f0f921"
             ]
            ],
            "type": "surface"
           }
          ],
          "table": [
           {
            "cells": {
             "fill": {
              "color": "#EBF0F8"
             },
             "line": {
              "color": "white"
             }
            },
            "header": {
             "fill": {
              "color": "#C8D4E3"
             },
             "line": {
              "color": "white"
             }
            },
            "type": "table"
           }
          ]
         },
         "layout": {
          "annotationdefaults": {
           "arrowcolor": "#2a3f5f",
           "arrowhead": 0,
           "arrowwidth": 1
          },
          "coloraxis": {
           "colorbar": {
            "outlinewidth": 0,
            "ticks": ""
           }
          },
          "colorscale": {
           "diverging": [
            [
             0,
             "#8e0152"
            ],
            [
             0.1,
             "#c51b7d"
            ],
            [
             0.2,
             "#de77ae"
            ],
            [
             0.3,
             "#f1b6da"
            ],
            [
             0.4,
             "#fde0ef"
            ],
            [
             0.5,
             "#f7f7f7"
            ],
            [
             0.6,
             "#e6f5d0"
            ],
            [
             0.7,
             "#b8e186"
            ],
            [
             0.8,
             "#7fbc41"
            ],
            [
             0.9,
             "#4d9221"
            ],
            [
             1,
             "#276419"
            ]
           ],
           "sequential": [
            [
             0,
             "#0d0887"
            ],
            [
             0.1111111111111111,
             "#46039f"
            ],
            [
             0.2222222222222222,
             "#7201a8"
            ],
            [
             0.3333333333333333,
             "#9c179e"
            ],
            [
             0.4444444444444444,
             "#bd3786"
            ],
            [
             0.5555555555555556,
             "#d8576b"
            ],
            [
             0.6666666666666666,
             "#ed7953"
            ],
            [
             0.7777777777777778,
             "#fb9f3a"
            ],
            [
             0.8888888888888888,
             "#fdca26"
            ],
            [
             1,
             "#f0f921"
            ]
           ],
           "sequentialminus": [
            [
             0,
             "#0d0887"
            ],
            [
             0.1111111111111111,
             "#46039f"
            ],
            [
             0.2222222222222222,
             "#7201a8"
            ],
            [
             0.3333333333333333,
             "#9c179e"
            ],
            [
             0.4444444444444444,
             "#bd3786"
            ],
            [
             0.5555555555555556,
             "#d8576b"
            ],
            [
             0.6666666666666666,
             "#ed7953"
            ],
            [
             0.7777777777777778,
             "#fb9f3a"
            ],
            [
             0.8888888888888888,
             "#fdca26"
            ],
            [
             1,
             "#f0f921"
            ]
           ]
          },
          "colorway": [
           "#636efa",
           "#EF553B",
           "#00cc96",
           "#ab63fa",
           "#FFA15A",
           "#19d3f3",
           "#FF6692",
           "#B6E880",
           "#FF97FF",
           "#FECB52"
          ],
          "font": {
           "color": "#2a3f5f"
          },
          "geo": {
           "bgcolor": "white",
           "lakecolor": "white",
           "landcolor": "#E5ECF6",
           "showlakes": true,
           "showland": true,
           "subunitcolor": "white"
          },
          "hoverlabel": {
           "align": "left"
          },
          "hovermode": "closest",
          "mapbox": {
           "style": "light"
          },
          "paper_bgcolor": "white",
          "plot_bgcolor": "#E5ECF6",
          "polar": {
           "angularaxis": {
            "gridcolor": "white",
            "linecolor": "white",
            "ticks": ""
           },
           "bgcolor": "#E5ECF6",
           "radialaxis": {
            "gridcolor": "white",
            "linecolor": "white",
            "ticks": ""
           }
          },
          "scene": {
           "xaxis": {
            "backgroundcolor": "#E5ECF6",
            "gridcolor": "white",
            "gridwidth": 2,
            "linecolor": "white",
            "showbackground": true,
            "ticks": "",
            "zerolinecolor": "white"
           },
           "yaxis": {
            "backgroundcolor": "#E5ECF6",
            "gridcolor": "white",
            "gridwidth": 2,
            "linecolor": "white",
            "showbackground": true,
            "ticks": "",
            "zerolinecolor": "white"
           },
           "zaxis": {
            "backgroundcolor": "#E5ECF6",
            "gridcolor": "white",
            "gridwidth": 2,
            "linecolor": "white",
            "showbackground": true,
            "ticks": "",
            "zerolinecolor": "white"
           }
          },
          "shapedefaults": {
           "line": {
            "color": "#2a3f5f"
           }
          },
          "ternary": {
           "aaxis": {
            "gridcolor": "white",
            "linecolor": "white",
            "ticks": ""
           },
           "baxis": {
            "gridcolor": "white",
            "linecolor": "white",
            "ticks": ""
           },
           "bgcolor": "#E5ECF6",
           "caxis": {
            "gridcolor": "white",
            "linecolor": "white",
            "ticks": ""
           }
          },
          "title": {
           "x": 0.05
          },
          "xaxis": {
           "automargin": true,
           "gridcolor": "white",
           "linecolor": "white",
           "ticks": "",
           "title": {
            "standoff": 15
           },
           "zerolinecolor": "white",
           "zerolinewidth": 2
          },
          "yaxis": {
           "automargin": true,
           "gridcolor": "white",
           "linecolor": "white",
           "ticks": "",
           "title": {
            "standoff": 15
           },
           "zerolinecolor": "white",
           "zerolinewidth": 2
          }
         }
        }
       }
      },
      "text/html": [
       "<div>\n",
       "        \n",
       "        \n",
       "            <div id=\"75fa9455-8995-4125-8921-74d792753f76\" class=\"plotly-graph-div\" style=\"height:525px; width:100%;\"></div>\n",
       "            <script type=\"text/javascript\">\n",
       "                require([\"plotly\"], function(Plotly) {\n",
       "                    window.PLOTLYENV=window.PLOTLYENV || {};\n",
       "                    \n",
       "                if (document.getElementById(\"75fa9455-8995-4125-8921-74d792753f76\")) {\n",
       "                    Plotly.newPlot(\n",
       "                        '75fa9455-8995-4125-8921-74d792753f76',\n",
       "                        [{\"type\": \"bar\", \"y\": [\"Z001\", \"Z005\", \"Z005\", \"Z005\", \"Z008\", \"Z003\", \"Z005\", null, \"Z003\", \"Z005\", \"Z001\", \"Z006\", \"Z005\", \"Z013\", \"Z004\", \"Z001\", \"Z001\", \"Z016\", \"Z005\", \"Z003\", \"Z012\", \"Z005\", \"Z004\", \"Z005\", \"Z005\", \"Z018\", \"Z005\", \"Z006\", \"Z021\", \"Z005\", \"Z005\", \"Z006\", \"Z006\", \"Z005\", \"Z006\", \"Z006\", \"Z005\", \"Z001\", \"Z002\", \"Z005\", \"Z016\", \"Z007\", \"Z005\", \"Z011\", \"Z007\", \"Z016\", \"Z005\", \"Z017\", \"Z006\", \"Z012\", \"Z001\", \"Z020\", \"Z002\", \"Z005\", \"Z005\", \"Z016\", \"Z002\", \"Z016\", \"Z006\", \"Z005\", \"Z017\", \"Z017\", \"Z001\", \"Z005\", \"Z004\", \"Z005\", \"Z005\", \"Z021\", \"Z016\", \"Z006\", \"Z021\", \"Z016\", \"Z002\", \"Z017\", \"Z006\", \"Z017\", \"Z002\", \"Z002\", \"Z005\", \"Z005\", \"Z004\", \"Z005\", \"Z017\", \"Z021\", \"Z005\", \"Z006\", \"Z005\", \"Z002\", \"Z006\", \"Z016\", \"Z005\", \"Z004\", \"Z006\", \"Z016\", \"Z008\", \"Z008\", \"Z019\", \"Z005\", \"Z002\", \"Z013\", \"Z002\", \"Z008\", \"Z004\", \"Z017\", \"Z006\", \"Z016\", \"Z017\", \"Z007\", \"Z005\", \"Z018\", \"Z001\", \"Z019\", \"Z002\", \"Z006\", \"Z005\", \"Z008\", \"Z005\", \"Z020\", \"Z017\", \"Z017\", \"Z005\", \"Z006\", \"Z006\", \"Z002\", \"Z016\", \"Z002\", \"Z017\", \"Z012\", \"Z005\", \"Z005\", \"Z006\", \"Z014\", \"Z005\", \"Z001\", \"Z019\", \"Z001\", \"Z019\", \"Z008\", \"Z008\", \"Z021\", \"Z002\", \"Z005\", \"Z008\", \"Z016\", \"Z002\", \"Z005\", \"Z005\", \"Z017\", \"Z020\", \"Z008\", \"Z017\", \"Z002\", \"Z005\", \"Z005\", \"Z019\", \"Z005\", \"Z002\", \"Z011\", \"Z016\", \"Z019\", \"Z011\", \"Z016\", \"Z007\", \"Z018\", \"Z021\", \"Z005\", \"Z006\", \"Z005\", \"Z006\", \"Z017\", \"Z005\", \"Z002\", \"Z005\", \"Z002\", \"Z005\", \"Z002\", \"Z005\", \"Z016\", \"Z005\", \"Z005\", \"Z001\", \"Z005\", \"Z014\", \"Z010\", \"Z005\", \"Z008\", \"Z005\", \"Z005\", \"Z005\", \"Z012\"]}],\n",
       "                        {\"template\": {\"data\": {\"bar\": [{\"error_x\": {\"color\": \"#2a3f5f\"}, \"error_y\": {\"color\": \"#2a3f5f\"}, \"marker\": {\"line\": {\"color\": \"#E5ECF6\", \"width\": 0.5}}, \"type\": \"bar\"}], \"barpolar\": [{\"marker\": {\"line\": {\"color\": \"#E5ECF6\", \"width\": 0.5}}, \"type\": \"barpolar\"}], \"carpet\": [{\"aaxis\": {\"endlinecolor\": \"#2a3f5f\", \"gridcolor\": \"white\", \"linecolor\": \"white\", \"minorgridcolor\": \"white\", \"startlinecolor\": \"#2a3f5f\"}, \"baxis\": {\"endlinecolor\": \"#2a3f5f\", \"gridcolor\": \"white\", \"linecolor\": \"white\", \"minorgridcolor\": \"white\", \"startlinecolor\": \"#2a3f5f\"}, \"type\": \"carpet\"}], \"choropleth\": [{\"colorbar\": {\"outlinewidth\": 0, \"ticks\": \"\"}, \"type\": \"choropleth\"}], \"contour\": [{\"colorbar\": {\"outlinewidth\": 0, \"ticks\": \"\"}, \"colorscale\": [[0.0, \"#0d0887\"], [0.1111111111111111, \"#46039f\"], [0.2222222222222222, \"#7201a8\"], [0.3333333333333333, \"#9c179e\"], [0.4444444444444444, \"#bd3786\"], [0.5555555555555556, \"#d8576b\"], [0.6666666666666666, \"#ed7953\"], [0.7777777777777778, \"#fb9f3a\"], [0.8888888888888888, \"#fdca26\"], [1.0, \"#f0f921\"]], \"type\": \"contour\"}], \"contourcarpet\": [{\"colorbar\": {\"outlinewidth\": 0, \"ticks\": \"\"}, \"type\": \"contourcarpet\"}], \"heatmap\": [{\"colorbar\": {\"outlinewidth\": 0, \"ticks\": \"\"}, \"colorscale\": [[0.0, \"#0d0887\"], [0.1111111111111111, \"#46039f\"], [0.2222222222222222, \"#7201a8\"], [0.3333333333333333, \"#9c179e\"], [0.4444444444444444, \"#bd3786\"], [0.5555555555555556, \"#d8576b\"], [0.6666666666666666, \"#ed7953\"], [0.7777777777777778, \"#fb9f3a\"], [0.8888888888888888, \"#fdca26\"], [1.0, \"#f0f921\"]], \"type\": \"heatmap\"}], \"heatmapgl\": [{\"colorbar\": {\"outlinewidth\": 0, \"ticks\": \"\"}, \"colorscale\": [[0.0, \"#0d0887\"], [0.1111111111111111, \"#46039f\"], [0.2222222222222222, \"#7201a8\"], [0.3333333333333333, \"#9c179e\"], [0.4444444444444444, \"#bd3786\"], [0.5555555555555556, \"#d8576b\"], [0.6666666666666666, \"#ed7953\"], [0.7777777777777778, \"#fb9f3a\"], [0.8888888888888888, \"#fdca26\"], [1.0, \"#f0f921\"]], \"type\": \"heatmapgl\"}], \"histogram\": [{\"marker\": {\"colorbar\": {\"outlinewidth\": 0, \"ticks\": \"\"}}, \"type\": \"histogram\"}], \"histogram2d\": [{\"colorbar\": {\"outlinewidth\": 0, \"ticks\": \"\"}, \"colorscale\": [[0.0, \"#0d0887\"], [0.1111111111111111, \"#46039f\"], [0.2222222222222222, \"#7201a8\"], [0.3333333333333333, \"#9c179e\"], [0.4444444444444444, \"#bd3786\"], [0.5555555555555556, \"#d8576b\"], [0.6666666666666666, \"#ed7953\"], [0.7777777777777778, \"#fb9f3a\"], [0.8888888888888888, \"#fdca26\"], [1.0, \"#f0f921\"]], \"type\": \"histogram2d\"}], \"histogram2dcontour\": [{\"colorbar\": {\"outlinewidth\": 0, \"ticks\": \"\"}, \"colorscale\": [[0.0, \"#0d0887\"], [0.1111111111111111, \"#46039f\"], [0.2222222222222222, \"#7201a8\"], [0.3333333333333333, \"#9c179e\"], [0.4444444444444444, \"#bd3786\"], [0.5555555555555556, \"#d8576b\"], [0.6666666666666666, \"#ed7953\"], [0.7777777777777778, \"#fb9f3a\"], [0.8888888888888888, \"#fdca26\"], [1.0, \"#f0f921\"]], \"type\": \"histogram2dcontour\"}], \"mesh3d\": [{\"colorbar\": {\"outlinewidth\": 0, \"ticks\": \"\"}, \"type\": \"mesh3d\"}], \"parcoords\": [{\"line\": {\"colorbar\": {\"outlinewidth\": 0, \"ticks\": \"\"}}, \"type\": \"parcoords\"}], \"pie\": [{\"automargin\": true, \"type\": \"pie\"}], \"scatter\": [{\"marker\": {\"colorbar\": {\"outlinewidth\": 0, \"ticks\": \"\"}}, \"type\": \"scatter\"}], \"scatter3d\": [{\"line\": {\"colorbar\": {\"outlinewidth\": 0, \"ticks\": \"\"}}, \"marker\": {\"colorbar\": {\"outlinewidth\": 0, \"ticks\": \"\"}}, \"type\": \"scatter3d\"}], \"scattercarpet\": [{\"marker\": {\"colorbar\": {\"outlinewidth\": 0, \"ticks\": \"\"}}, \"type\": \"scattercarpet\"}], \"scattergeo\": [{\"marker\": {\"colorbar\": {\"outlinewidth\": 0, \"ticks\": \"\"}}, \"type\": \"scattergeo\"}], \"scattergl\": [{\"marker\": {\"colorbar\": {\"outlinewidth\": 0, \"ticks\": \"\"}}, \"type\": \"scattergl\"}], \"scattermapbox\": [{\"marker\": {\"colorbar\": {\"outlinewidth\": 0, \"ticks\": \"\"}}, \"type\": \"scattermapbox\"}], \"scatterpolar\": [{\"marker\": {\"colorbar\": {\"outlinewidth\": 0, \"ticks\": \"\"}}, \"type\": \"scatterpolar\"}], \"scatterpolargl\": [{\"marker\": {\"colorbar\": {\"outlinewidth\": 0, \"ticks\": \"\"}}, \"type\": \"scatterpolargl\"}], \"scatterternary\": [{\"marker\": {\"colorbar\": {\"outlinewidth\": 0, \"ticks\": \"\"}}, \"type\": \"scatterternary\"}], \"surface\": [{\"colorbar\": {\"outlinewidth\": 0, \"ticks\": \"\"}, \"colorscale\": [[0.0, \"#0d0887\"], [0.1111111111111111, \"#46039f\"], [0.2222222222222222, \"#7201a8\"], [0.3333333333333333, \"#9c179e\"], [0.4444444444444444, \"#bd3786\"], [0.5555555555555556, \"#d8576b\"], [0.6666666666666666, \"#ed7953\"], [0.7777777777777778, \"#fb9f3a\"], [0.8888888888888888, \"#fdca26\"], [1.0, \"#f0f921\"]], \"type\": \"surface\"}], \"table\": [{\"cells\": {\"fill\": {\"color\": \"#EBF0F8\"}, \"line\": {\"color\": \"white\"}}, \"header\": {\"fill\": {\"color\": \"#C8D4E3\"}, \"line\": {\"color\": \"white\"}}, \"type\": \"table\"}]}, \"layout\": {\"annotationdefaults\": {\"arrowcolor\": \"#2a3f5f\", \"arrowhead\": 0, \"arrowwidth\": 1}, \"coloraxis\": {\"colorbar\": {\"outlinewidth\": 0, \"ticks\": \"\"}}, \"colorscale\": {\"diverging\": [[0, \"#8e0152\"], [0.1, \"#c51b7d\"], [0.2, \"#de77ae\"], [0.3, \"#f1b6da\"], [0.4, \"#fde0ef\"], [0.5, \"#f7f7f7\"], [0.6, \"#e6f5d0\"], [0.7, \"#b8e186\"], [0.8, \"#7fbc41\"], [0.9, \"#4d9221\"], [1, \"#276419\"]], \"sequential\": [[0.0, \"#0d0887\"], [0.1111111111111111, \"#46039f\"], [0.2222222222222222, \"#7201a8\"], [0.3333333333333333, \"#9c179e\"], [0.4444444444444444, \"#bd3786\"], [0.5555555555555556, \"#d8576b\"], [0.6666666666666666, \"#ed7953\"], [0.7777777777777778, \"#fb9f3a\"], [0.8888888888888888, \"#fdca26\"], [1.0, \"#f0f921\"]], \"sequentialminus\": [[0.0, \"#0d0887\"], [0.1111111111111111, \"#46039f\"], [0.2222222222222222, \"#7201a8\"], [0.3333333333333333, \"#9c179e\"], [0.4444444444444444, \"#bd3786\"], [0.5555555555555556, \"#d8576b\"], [0.6666666666666666, \"#ed7953\"], [0.7777777777777778, \"#fb9f3a\"], [0.8888888888888888, \"#fdca26\"], [1.0, \"#f0f921\"]]}, \"colorway\": [\"#636efa\", \"#EF553B\", \"#00cc96\", \"#ab63fa\", \"#FFA15A\", \"#19d3f3\", \"#FF6692\", \"#B6E880\", \"#FF97FF\", \"#FECB52\"], \"font\": {\"color\": \"#2a3f5f\"}, \"geo\": {\"bgcolor\": \"white\", \"lakecolor\": \"white\", \"landcolor\": \"#E5ECF6\", \"showlakes\": true, \"showland\": true, \"subunitcolor\": \"white\"}, \"hoverlabel\": {\"align\": \"left\"}, \"hovermode\": \"closest\", \"mapbox\": {\"style\": \"light\"}, \"paper_bgcolor\": \"white\", \"plot_bgcolor\": \"#E5ECF6\", \"polar\": {\"angularaxis\": {\"gridcolor\": \"white\", \"linecolor\": \"white\", \"ticks\": \"\"}, \"bgcolor\": \"#E5ECF6\", \"radialaxis\": {\"gridcolor\": \"white\", \"linecolor\": \"white\", \"ticks\": \"\"}}, \"scene\": {\"xaxis\": {\"backgroundcolor\": \"#E5ECF6\", \"gridcolor\": \"white\", \"gridwidth\": 2, \"linecolor\": \"white\", \"showbackground\": true, \"ticks\": \"\", \"zerolinecolor\": \"white\"}, \"yaxis\": {\"backgroundcolor\": \"#E5ECF6\", \"gridcolor\": \"white\", \"gridwidth\": 2, \"linecolor\": \"white\", \"showbackground\": true, \"ticks\": \"\", \"zerolinecolor\": \"white\"}, \"zaxis\": {\"backgroundcolor\": \"#E5ECF6\", \"gridcolor\": \"white\", \"gridwidth\": 2, \"linecolor\": \"white\", \"showbackground\": true, \"ticks\": \"\", \"zerolinecolor\": \"white\"}}, \"shapedefaults\": {\"line\": {\"color\": \"#2a3f5f\"}}, \"ternary\": {\"aaxis\": {\"gridcolor\": \"white\", \"linecolor\": \"white\", \"ticks\": \"\"}, \"baxis\": {\"gridcolor\": \"white\", \"linecolor\": \"white\", \"ticks\": \"\"}, \"bgcolor\": \"#E5ECF6\", \"caxis\": {\"gridcolor\": \"white\", \"linecolor\": \"white\", \"ticks\": \"\"}}, \"title\": {\"x\": 0.05}, \"xaxis\": {\"automargin\": true, \"gridcolor\": \"white\", \"linecolor\": \"white\", \"ticks\": \"\", \"title\": {\"standoff\": 15}, \"zerolinecolor\": \"white\", \"zerolinewidth\": 2}, \"yaxis\": {\"automargin\": true, \"gridcolor\": \"white\", \"linecolor\": \"white\", \"ticks\": \"\", \"title\": {\"standoff\": 15}, \"zerolinecolor\": \"white\", \"zerolinewidth\": 2}}}},\n",
       "                        {\"responsive\": true}\n",
       "                    ).then(function(){\n",
       "                            \n",
       "var gd = document.getElementById('75fa9455-8995-4125-8921-74d792753f76');\n",
       "var x = new MutationObserver(function (mutations, observer) {{\n",
       "        var display = window.getComputedStyle(gd).display;\n",
       "        if (!display || display === 'none') {{\n",
       "            console.log([gd, 'removed!']);\n",
       "            Plotly.purge(gd);\n",
       "            observer.disconnect();\n",
       "        }}\n",
       "}});\n",
       "\n",
       "// Listen for the removal of the full notebook cells\n",
       "var notebookContainer = gd.closest('#notebook-container');\n",
       "if (notebookContainer) {{\n",
       "    x.observe(notebookContainer, {childList: true});\n",
       "}}\n",
       "\n",
       "// Listen for the clearing of the current output cell\n",
       "var outputEl = gd.closest('.output');\n",
       "if (outputEl) {{\n",
       "    x.observe(outputEl, {childList: true});\n",
       "}}\n",
       "\n",
       "                        })\n",
       "                };\n",
       "                });\n",
       "            </script>\n",
       "        </div>"
      ]
     },
     "metadata": {},
     "output_type": "display_data"
    }
   ],
   "source": [
    "fig = go.Figure(data=go.Bar(y=customer.data_origin.head(190)))\n",
    "fig.show()"
   ]
  },
  {
   "cell_type": "code",
   "execution_count": 15,
   "metadata": {},
   "outputs": [
    {
     "data": {
      "application/vnd.jupyter.widget-view+json": {
       "model_id": "64ee102cd6b44e71a5682588e6f8ad7c",
       "version_major": 2,
       "version_minor": 0
      },
      "text/plain": [
       "FigureWidget({\n",
       "    'data': [{'type': 'bar',\n",
       "              'uid': '26daca42-b165-44ed-905f-7d65dfc1ef0d',\n",
       "     …"
      ]
     },
     "metadata": {},
     "output_type": "display_data"
    }
   ],
   "source": [
    "import plotly.graph_objects as go\n",
    "fig = go.FigureWidget(data=go.Bar(y=customer.data_origin.head(190)))\n",
    "fig"
   ]
  },
  {
   "cell_type": "code",
   "execution_count": 108,
   "metadata": {},
   "outputs": [],
   "source": [
    "def CleanCustomerDataSet(df):\n",
    "    df=df.drop(['marital_status','occupation','date_of_birth','death_date','titlea'])\n",
    "    \n",
    "    #impute partner_type\n",
    "    df['partner_type'] = df[\"partner_type\"].fillna(1)\n",
    "    \n",
    "    #title not needed\n",
    "    df['title']\n",
    "    "
   ]
  },
  {
   "cell_type": "code",
   "execution_count": null,
   "metadata": {},
   "outputs": [],
   "source": []
  },
  {
   "cell_type": "code",
   "execution_count": null,
   "metadata": {},
   "outputs": [],
   "source": []
  },
  {
   "cell_type": "code",
   "execution_count": 69,
   "metadata": {},
   "outputs": [
    {
     "data": {
      "text/html": [
       "<div>\n",
       "<style scoped>\n",
       "    .dataframe tbody tr th:only-of-type {\n",
       "        vertical-align: middle;\n",
       "    }\n",
       "\n",
       "    .dataframe tbody tr th {\n",
       "        vertical-align: top;\n",
       "    }\n",
       "\n",
       "    .dataframe thead th {\n",
       "        text-align: right;\n",
       "    }\n",
       "</style>\n",
       "<table border=\"1\" class=\"dataframe\">\n",
       "  <thead>\n",
       "    <tr style=\"text-align: right;\">\n",
       "      <th></th>\n",
       "      <th>Amt Rcvd From Custom</th>\n",
       "      <th>Amt Rcvd From Ins Co</th>\n",
       "      <th>Area / Locality</th>\n",
       "      <th>CGST(14%)</th>\n",
       "      <th>CGST(2.5%)</th>\n",
       "      <th>CGST(6%)</th>\n",
       "      <th>CGST(9%)</th>\n",
       "      <th>CITY</th>\n",
       "      <th>Cash /Cashless Type</th>\n",
       "      <th>Claim No.</th>\n",
       "      <th>Cust Type</th>\n",
       "      <th>Customer No.</th>\n",
       "      <th>District</th>\n",
       "      <th>Expiry Date</th>\n",
       "      <th>Gate Pass Date</th>\n",
       "      <th>Gate Pass Time</th>\n",
       "      <th>IGST(12%)</th>\n",
       "      <th>IGST(18%)</th>\n",
       "      <th>IGST(28%)</th>\n",
       "      <th>IGST(5%)</th>\n",
       "      <th>Insurance Company</th>\n",
       "      <th>Invoice Date</th>\n",
       "      <th>Invoice No</th>\n",
       "      <th>Invoice Time</th>\n",
       "      <th>Job Card No</th>\n",
       "      <th>JobCard Date</th>\n",
       "      <th>JobCard Time</th>\n",
       "      <th>KMs Reading</th>\n",
       "      <th>Labour Total</th>\n",
       "      <th>Make</th>\n",
       "      <th>Misc Total</th>\n",
       "      <th>Model</th>\n",
       "      <th>ODN No.</th>\n",
       "      <th>OSL Total</th>\n",
       "      <th>Order Type</th>\n",
       "      <th>Outstanding Amt</th>\n",
       "      <th>Parts Total</th>\n",
       "      <th>Pin code</th>\n",
       "      <th>Plant</th>\n",
       "      <th>Plant Name1</th>\n",
       "      <th>Policy no.</th>\n",
       "      <th>Print Status</th>\n",
       "      <th>Recovrbl Exp</th>\n",
       "      <th>Regn No</th>\n",
       "      <th>SGST/UGST(14%)</th>\n",
       "      <th>SGST/UGST(2.5%)</th>\n",
       "      <th>SGST/UGST(6%)</th>\n",
       "      <th>SGST/UGST(9%)</th>\n",
       "      <th>Service Advisor Name</th>\n",
       "      <th>TDS amount</th>\n",
       "      <th>Technician Name</th>\n",
       "      <th>Total Amt Wtd Tax.</th>\n",
       "      <th>Total CGST</th>\n",
       "      <th>Total GST</th>\n",
       "      <th>Total IGST</th>\n",
       "      <th>Total SGST/UGST</th>\n",
       "      <th>Total Value</th>\n",
       "      <th>User ID</th>\n",
       "    </tr>\n",
       "  </thead>\n",
       "  <tbody>\n",
       "    <tr>\n",
       "      <th>0</th>\n",
       "      <td>0.0</td>\n",
       "      <td>0.0</td>\n",
       "      <td>MAJIWADA</td>\n",
       "      <td>0.0</td>\n",
       "      <td>0.0</td>\n",
       "      <td>0.0</td>\n",
       "      <td>0.0</td>\n",
       "      <td>Thane</td>\n",
       "      <td>NaN</td>\n",
       "      <td>NaN</td>\n",
       "      <td>Retail</td>\n",
       "      <td>67849</td>\n",
       "      <td>Maharashtra</td>\n",
       "      <td>NaN</td>\n",
       "      <td>NaN</td>\n",
       "      <td>00:00:00</td>\n",
       "      <td>0.0</td>\n",
       "      <td>0.0</td>\n",
       "      <td>0.0</td>\n",
       "      <td>0.0</td>\n",
       "      <td>NaN</td>\n",
       "      <td>2015-01-02</td>\n",
       "      <td>7005200002</td>\n",
       "      <td>11:30:36</td>\n",
       "      <td>168303</td>\n",
       "      <td>2014-12-13</td>\n",
       "      <td>14:29:43</td>\n",
       "      <td>49317</td>\n",
       "      <td>1203.14</td>\n",
       "      <td>GENERAL MOTORS</td>\n",
       "      <td>0.00</td>\n",
       "      <td>SPARK</td>\n",
       "      <td>7.005200e+09</td>\n",
       "      <td>500.06</td>\n",
       "      <td>Paid Service</td>\n",
       "      <td>0.0</td>\n",
       "      <td>2348.75</td>\n",
       "      <td>400601</td>\n",
       "      <td>BC01</td>\n",
       "      <td>THANE</td>\n",
       "      <td>NaN</td>\n",
       "      <td>NO</td>\n",
       "      <td>0.0</td>\n",
       "      <td>KA19MA1291</td>\n",
       "      <td>0.0</td>\n",
       "      <td>0.0</td>\n",
       "      <td>0.0</td>\n",
       "      <td>0.0</td>\n",
       "      <td>NaN</td>\n",
       "      <td>0.0</td>\n",
       "      <td>RUPESH</td>\n",
       "      <td>4051.95</td>\n",
       "      <td>0.0</td>\n",
       "      <td>0.0</td>\n",
       "      <td>0.0</td>\n",
       "      <td>0.0</td>\n",
       "      <td>4051.95</td>\n",
       "      <td>BC01FS1</td>\n",
       "    </tr>\n",
       "    <tr>\n",
       "      <th>1</th>\n",
       "      <td>0.0</td>\n",
       "      <td>0.0</td>\n",
       "      <td>THNAE</td>\n",
       "      <td>0.0</td>\n",
       "      <td>0.0</td>\n",
       "      <td>0.0</td>\n",
       "      <td>0.0</td>\n",
       "      <td>THNAE</td>\n",
       "      <td>NaN</td>\n",
       "      <td>NaN</td>\n",
       "      <td>Retail</td>\n",
       "      <td>84419</td>\n",
       "      <td>Maharashtra</td>\n",
       "      <td>NaN</td>\n",
       "      <td>NaN</td>\n",
       "      <td>00:00:00</td>\n",
       "      <td>0.0</td>\n",
       "      <td>0.0</td>\n",
       "      <td>0.0</td>\n",
       "      <td>0.0</td>\n",
       "      <td>NaN</td>\n",
       "      <td>2015-01-03</td>\n",
       "      <td>7005200003</td>\n",
       "      <td>10:07:32</td>\n",
       "      <td>173997</td>\n",
       "      <td>2015-01-02</td>\n",
       "      <td>14:12:18</td>\n",
       "      <td>78584</td>\n",
       "      <td>804.26</td>\n",
       "      <td>TATA MOTORS</td>\n",
       "      <td>197.03</td>\n",
       "      <td>INDICA</td>\n",
       "      <td>7.005200e+09</td>\n",
       "      <td>0.00</td>\n",
       "      <td>SMC Value Package</td>\n",
       "      <td>0.0</td>\n",
       "      <td>0.00</td>\n",
       "      <td>400603</td>\n",
       "      <td>BC01</td>\n",
       "      <td>THANE</td>\n",
       "      <td>NaN</td>\n",
       "      <td>NO</td>\n",
       "      <td>0.0</td>\n",
       "      <td>MH43R3046</td>\n",
       "      <td>0.0</td>\n",
       "      <td>0.0</td>\n",
       "      <td>0.0</td>\n",
       "      <td>0.0</td>\n",
       "      <td>NaN</td>\n",
       "      <td>0.0</td>\n",
       "      <td>PRASHANT</td>\n",
       "      <td>1001.29</td>\n",
       "      <td>0.0</td>\n",
       "      <td>0.0</td>\n",
       "      <td>0.0</td>\n",
       "      <td>0.0</td>\n",
       "      <td>1001.29</td>\n",
       "      <td>BC01SA2</td>\n",
       "    </tr>\n",
       "    <tr>\n",
       "      <th>2</th>\n",
       "      <td>0.0</td>\n",
       "      <td>0.0</td>\n",
       "      <td>THANE</td>\n",
       "      <td>0.0</td>\n",
       "      <td>0.0</td>\n",
       "      <td>0.0</td>\n",
       "      <td>0.0</td>\n",
       "      <td>THANE[W]</td>\n",
       "      <td>NaN</td>\n",
       "      <td>NaN</td>\n",
       "      <td>Retail</td>\n",
       "      <td>81055</td>\n",
       "      <td>Maharashtra</td>\n",
       "      <td>NaN</td>\n",
       "      <td>NaN</td>\n",
       "      <td>00:00:00</td>\n",
       "      <td>0.0</td>\n",
       "      <td>0.0</td>\n",
       "      <td>0.0</td>\n",
       "      <td>0.0</td>\n",
       "      <td>NaN</td>\n",
       "      <td>2015-01-03</td>\n",
       "      <td>7005200004</td>\n",
       "      <td>11:12:57</td>\n",
       "      <td>173889</td>\n",
       "      <td>2015-01-02</td>\n",
       "      <td>11:40:44</td>\n",
       "      <td>33985</td>\n",
       "      <td>180.19</td>\n",
       "      <td>MARUTI SUZUKI</td>\n",
       "      <td>0.00</td>\n",
       "      <td>ZEN</td>\n",
       "      <td>7.005200e+09</td>\n",
       "      <td>0.00</td>\n",
       "      <td>Running Repairs</td>\n",
       "      <td>0.0</td>\n",
       "      <td>52.95</td>\n",
       "      <td>400607</td>\n",
       "      <td>BC01</td>\n",
       "      <td>THANE</td>\n",
       "      <td>NaN</td>\n",
       "      <td>NO</td>\n",
       "      <td>0.0</td>\n",
       "      <td>AP09AX0582</td>\n",
       "      <td>0.0</td>\n",
       "      <td>0.0</td>\n",
       "      <td>0.0</td>\n",
       "      <td>0.0</td>\n",
       "      <td>NaN</td>\n",
       "      <td>0.0</td>\n",
       "      <td>IMRAN</td>\n",
       "      <td>233.14</td>\n",
       "      <td>0.0</td>\n",
       "      <td>0.0</td>\n",
       "      <td>0.0</td>\n",
       "      <td>0.0</td>\n",
       "      <td>233.14</td>\n",
       "      <td>BC01SA2</td>\n",
       "    </tr>\n",
       "    <tr>\n",
       "      <th>3</th>\n",
       "      <td>0.0</td>\n",
       "      <td>0.0</td>\n",
       "      <td>THNAE</td>\n",
       "      <td>0.0</td>\n",
       "      <td>0.0</td>\n",
       "      <td>0.0</td>\n",
       "      <td>0.0</td>\n",
       "      <td>THNAE</td>\n",
       "      <td>NaN</td>\n",
       "      <td>NaN</td>\n",
       "      <td>Retail</td>\n",
       "      <td>84419</td>\n",
       "      <td>Maharashtra</td>\n",
       "      <td>NaN</td>\n",
       "      <td>NaN</td>\n",
       "      <td>00:00:00</td>\n",
       "      <td>0.0</td>\n",
       "      <td>0.0</td>\n",
       "      <td>0.0</td>\n",
       "      <td>0.0</td>\n",
       "      <td>NaN</td>\n",
       "      <td>2015-01-03</td>\n",
       "      <td>7005200005</td>\n",
       "      <td>11:40:44</td>\n",
       "      <td>174158</td>\n",
       "      <td>2015-01-03</td>\n",
       "      <td>10:12:32</td>\n",
       "      <td>78584</td>\n",
       "      <td>0.00</td>\n",
       "      <td>TATA MOTORS</td>\n",
       "      <td>0.00</td>\n",
       "      <td>INDICA</td>\n",
       "      <td>7.005200e+09</td>\n",
       "      <td>0.00</td>\n",
       "      <td>SMC Redemption</td>\n",
       "      <td>0.0</td>\n",
       "      <td>0.00</td>\n",
       "      <td>400603</td>\n",
       "      <td>BC01</td>\n",
       "      <td>THANE</td>\n",
       "      <td>NaN</td>\n",
       "      <td>NO</td>\n",
       "      <td>0.0</td>\n",
       "      <td>MH43R3046</td>\n",
       "      <td>0.0</td>\n",
       "      <td>0.0</td>\n",
       "      <td>0.0</td>\n",
       "      <td>0.0</td>\n",
       "      <td>NaN</td>\n",
       "      <td>0.0</td>\n",
       "      <td>PRASHANT</td>\n",
       "      <td>0.00</td>\n",
       "      <td>0.0</td>\n",
       "      <td>0.0</td>\n",
       "      <td>0.0</td>\n",
       "      <td>0.0</td>\n",
       "      <td>0.00</td>\n",
       "      <td>BC01SA2</td>\n",
       "    </tr>\n",
       "    <tr>\n",
       "      <th>4</th>\n",
       "      <td>0.0</td>\n",
       "      <td>0.0</td>\n",
       "      <td>THANE</td>\n",
       "      <td>0.0</td>\n",
       "      <td>0.0</td>\n",
       "      <td>0.0</td>\n",
       "      <td>0.0</td>\n",
       "      <td>THANE</td>\n",
       "      <td>NaN</td>\n",
       "      <td>NaN</td>\n",
       "      <td>Retail</td>\n",
       "      <td>18980</td>\n",
       "      <td>Maharashtra</td>\n",
       "      <td>NaN</td>\n",
       "      <td>NaN</td>\n",
       "      <td>00:00:00</td>\n",
       "      <td>0.0</td>\n",
       "      <td>0.0</td>\n",
       "      <td>0.0</td>\n",
       "      <td>0.0</td>\n",
       "      <td>NaN</td>\n",
       "      <td>2015-01-03</td>\n",
       "      <td>7005200006</td>\n",
       "      <td>12:07:17</td>\n",
       "      <td>173860</td>\n",
       "      <td>2015-01-02</td>\n",
       "      <td>10:45:42</td>\n",
       "      <td>50057</td>\n",
       "      <td>1202.97</td>\n",
       "      <td>HYUNDAI</td>\n",
       "      <td>100.00</td>\n",
       "      <td>SANTRO XING</td>\n",
       "      <td>7.005200e+09</td>\n",
       "      <td>499.99</td>\n",
       "      <td>Paid Service</td>\n",
       "      <td>0.0</td>\n",
       "      <td>944.16</td>\n",
       "      <td>400603</td>\n",
       "      <td>BC01</td>\n",
       "      <td>THANE</td>\n",
       "      <td>NaN</td>\n",
       "      <td>NO</td>\n",
       "      <td>0.0</td>\n",
       "      <td>MH04CD9768</td>\n",
       "      <td>0.0</td>\n",
       "      <td>0.0</td>\n",
       "      <td>0.0</td>\n",
       "      <td>0.0</td>\n",
       "      <td>NaN</td>\n",
       "      <td>0.0</td>\n",
       "      <td>DAYANAND</td>\n",
       "      <td>2747.12</td>\n",
       "      <td>0.0</td>\n",
       "      <td>0.0</td>\n",
       "      <td>0.0</td>\n",
       "      <td>0.0</td>\n",
       "      <td>2747.12</td>\n",
       "      <td>BC01SA2</td>\n",
       "    </tr>\n",
       "  </tbody>\n",
       "</table>\n",
       "</div>"
      ],
      "text/plain": [
       "   Amt Rcvd From Custom  Amt Rcvd From Ins Co Area / Locality  CGST(14%)  CGST(2.5%)  CGST(6%)  CGST(9%)      CITY Cash /Cashless Type Claim No. Cust Type Customer No.     District Expiry Date Gate Pass Date Gate Pass Time  IGST(12%)  IGST(18%)  IGST(28%)  IGST(5%) Insurance Company Invoice Date  Invoice No Invoice Time  Job Card No JobCard Date JobCard Time  KMs Reading  Labour Total            Make  Misc Total        Model       ODN No.  OSL Total         Order Type  Outstanding Amt  Parts Total  Pin code Plant Plant Name1 Policy no. Print Status  Recovrbl Exp     Regn No  SGST/UGST(14%)  SGST/UGST(2.5%)  SGST/UGST(6%)  SGST/UGST(9%)  Service Advisor Name  TDS amount Technician Name  Total Amt Wtd Tax.  Total CGST  Total GST  Total IGST  Total SGST/UGST  Total Value  User ID\n",
       "0                   0.0                   0.0        MAJIWADA        0.0         0.0       0.0       0.0     Thane                 NaN       NaN    Retail        67849  Maharashtra         NaN            NaN       00:00:00        0.0        0.0        0.0       0.0               NaN   2015-01-02  7005200002     11:30:36       168303   2014-12-13     14:29:43        49317       1203.14  GENERAL MOTORS        0.00        SPARK  7.005200e+09     500.06       Paid Service              0.0      2348.75    400601  BC01       THANE        NaN           NO           0.0  KA19MA1291             0.0              0.0            0.0            0.0                   NaN         0.0          RUPESH             4051.95         0.0        0.0         0.0              0.0      4051.95  BC01FS1\n",
       "1                   0.0                   0.0           THNAE        0.0         0.0       0.0       0.0     THNAE                 NaN       NaN    Retail        84419  Maharashtra         NaN            NaN       00:00:00        0.0        0.0        0.0       0.0               NaN   2015-01-03  7005200003     10:07:32       173997   2015-01-02     14:12:18        78584        804.26     TATA MOTORS      197.03       INDICA  7.005200e+09       0.00  SMC Value Package              0.0         0.00    400603  BC01       THANE        NaN           NO           0.0   MH43R3046             0.0              0.0            0.0            0.0                   NaN         0.0        PRASHANT             1001.29         0.0        0.0         0.0              0.0      1001.29  BC01SA2\n",
       "2                   0.0                   0.0           THANE        0.0         0.0       0.0       0.0  THANE[W]                 NaN       NaN    Retail        81055  Maharashtra         NaN            NaN       00:00:00        0.0        0.0        0.0       0.0               NaN   2015-01-03  7005200004     11:12:57       173889   2015-01-02     11:40:44        33985        180.19   MARUTI SUZUKI        0.00          ZEN  7.005200e+09       0.00    Running Repairs              0.0        52.95    400607  BC01       THANE        NaN           NO           0.0  AP09AX0582             0.0              0.0            0.0            0.0                   NaN         0.0           IMRAN              233.14         0.0        0.0         0.0              0.0       233.14  BC01SA2\n",
       "3                   0.0                   0.0           THNAE        0.0         0.0       0.0       0.0     THNAE                 NaN       NaN    Retail        84419  Maharashtra         NaN            NaN       00:00:00        0.0        0.0        0.0       0.0               NaN   2015-01-03  7005200005     11:40:44       174158   2015-01-03     10:12:32        78584          0.00     TATA MOTORS        0.00       INDICA  7.005200e+09       0.00     SMC Redemption              0.0         0.00    400603  BC01       THANE        NaN           NO           0.0   MH43R3046             0.0              0.0            0.0            0.0                   NaN         0.0        PRASHANT                0.00         0.0        0.0         0.0              0.0         0.00  BC01SA2\n",
       "4                   0.0                   0.0           THANE        0.0         0.0       0.0       0.0     THANE                 NaN       NaN    Retail        18980  Maharashtra         NaN            NaN       00:00:00        0.0        0.0        0.0       0.0               NaN   2015-01-03  7005200006     12:07:17       173860   2015-01-02     10:45:42        50057       1202.97         HYUNDAI      100.00  SANTRO XING  7.005200e+09     499.99       Paid Service              0.0       944.16    400603  BC01       THANE        NaN           NO           0.0  MH04CD9768             0.0              0.0            0.0            0.0                   NaN         0.0        DAYANAND             2747.12         0.0        0.0         0.0              0.0      2747.12  BC01SA2"
      ]
     },
     "execution_count": 69,
     "metadata": {},
     "output_type": "execute_result"
    }
   ],
   "source": [
    "invoice.head()"
   ]
  },
  {
   "cell_type": "code",
   "execution_count": 73,
   "metadata": {},
   "outputs": [
    {
     "data": {
      "text/html": [
       "<div>\n",
       "<style scoped>\n",
       "    .dataframe tbody tr th:only-of-type {\n",
       "        vertical-align: middle;\n",
       "    }\n",
       "\n",
       "    .dataframe tbody tr th {\n",
       "        vertical-align: top;\n",
       "    }\n",
       "\n",
       "    .dataframe thead th {\n",
       "        text-align: right;\n",
       "    }\n",
       "</style>\n",
       "<table border=\"1\" class=\"dataframe\">\n",
       "  <thead>\n",
       "    <tr style=\"text-align: right;\">\n",
       "      <th></th>\n",
       "      <th>Business Partner</th>\n",
       "      <th>Customer No.</th>\n",
       "      <th>Partner Type</th>\n",
       "      <th>Data Origin</th>\n",
       "      <th>Title</th>\n",
       "      <th>Marital Status</th>\n",
       "      <th>Occupation</th>\n",
       "      <th>Date of Birth</th>\n",
       "      <th>Death date</th>\n",
       "    </tr>\n",
       "  </thead>\n",
       "  <tbody>\n",
       "    <tr>\n",
       "      <th>0</th>\n",
       "      <td>31</td>\n",
       "      <td>1</td>\n",
       "      <td>1.0</td>\n",
       "      <td>Z001</td>\n",
       "      <td>NaN</td>\n",
       "      <td>NaN</td>\n",
       "      <td>NaN</td>\n",
       "      <td>NaN</td>\n",
       "      <td>NaT</td>\n",
       "    </tr>\n",
       "    <tr>\n",
       "      <th>1</th>\n",
       "      <td>32</td>\n",
       "      <td>2</td>\n",
       "      <td>1.0</td>\n",
       "      <td>Z005</td>\n",
       "      <td>NaN</td>\n",
       "      <td>NaN</td>\n",
       "      <td>NaN</td>\n",
       "      <td>NaN</td>\n",
       "      <td>NaT</td>\n",
       "    </tr>\n",
       "    <tr>\n",
       "      <th>2</th>\n",
       "      <td>34</td>\n",
       "      <td>4</td>\n",
       "      <td>1.0</td>\n",
       "      <td>Z005</td>\n",
       "      <td>NaN</td>\n",
       "      <td>2.0</td>\n",
       "      <td>NaN</td>\n",
       "      <td>NaN</td>\n",
       "      <td>NaT</td>\n",
       "    </tr>\n",
       "    <tr>\n",
       "      <th>3</th>\n",
       "      <td>35</td>\n",
       "      <td>5</td>\n",
       "      <td>1.0</td>\n",
       "      <td>Z005</td>\n",
       "      <td>NaN</td>\n",
       "      <td>NaN</td>\n",
       "      <td>NaN</td>\n",
       "      <td>NaN</td>\n",
       "      <td>NaT</td>\n",
       "    </tr>\n",
       "    <tr>\n",
       "      <th>4</th>\n",
       "      <td>42</td>\n",
       "      <td>7</td>\n",
       "      <td>1.0</td>\n",
       "      <td>Z008</td>\n",
       "      <td>NaN</td>\n",
       "      <td>NaN</td>\n",
       "      <td>NaN</td>\n",
       "      <td>NaN</td>\n",
       "      <td>NaT</td>\n",
       "    </tr>\n",
       "  </tbody>\n",
       "</table>\n",
       "</div>"
      ],
      "text/plain": [
       "  Business Partner Customer No.  Partner Type Data Origin  Title  Marital Status  Occupation Date of Birth Death date\n",
       "0               31            1           1.0        Z001    NaN             NaN         NaN           NaN        NaT\n",
       "1               32            2           1.0        Z005    NaN             NaN         NaN           NaN        NaT\n",
       "2               34            4           1.0        Z005    NaN             2.0         NaN           NaN        NaT\n",
       "3               35            5           1.0        Z005    NaN             NaN         NaN           NaN        NaT\n",
       "4               42            7           1.0        Z008    NaN             NaN         NaN           NaN        NaT"
      ]
     },
     "execution_count": 73,
     "metadata": {},
     "output_type": "execute_result"
    }
   ],
   "source": [
    "customer.head()"
   ]
  },
  {
   "cell_type": "code",
   "execution_count": 74,
   "metadata": {},
   "outputs": [
    {
     "data": {
      "text/plain": [
       "(492314, 58)"
      ]
     },
     "execution_count": 74,
     "metadata": {},
     "output_type": "execute_result"
    }
   ],
   "source": [
    "invoice.shape"
   ]
  },
  {
   "cell_type": "code",
   "execution_count": 75,
   "metadata": {},
   "outputs": [
    {
     "data": {
      "text/html": [
       "<div>\n",
       "<style scoped>\n",
       "    .dataframe tbody tr th:only-of-type {\n",
       "        vertical-align: middle;\n",
       "    }\n",
       "\n",
       "    .dataframe tbody tr th {\n",
       "        vertical-align: top;\n",
       "    }\n",
       "\n",
       "    .dataframe thead th {\n",
       "        text-align: right;\n",
       "    }\n",
       "</style>\n",
       "<table border=\"1\" class=\"dataframe\">\n",
       "  <thead>\n",
       "    <tr style=\"text-align: right;\">\n",
       "      <th></th>\n",
       "      <th>Amt Rcvd From Custom</th>\n",
       "      <th>Amt Rcvd From Ins Co</th>\n",
       "      <th>Area / Locality</th>\n",
       "      <th>CGST(14%)</th>\n",
       "      <th>CGST(2.5%)</th>\n",
       "      <th>CGST(6%)</th>\n",
       "      <th>CGST(9%)</th>\n",
       "      <th>CITY</th>\n",
       "      <th>Cash /Cashless Type</th>\n",
       "      <th>Claim No.</th>\n",
       "      <th>Cust Type</th>\n",
       "      <th>Customer No.</th>\n",
       "      <th>District</th>\n",
       "      <th>Expiry Date</th>\n",
       "      <th>Gate Pass Date</th>\n",
       "      <th>Gate Pass Time</th>\n",
       "      <th>IGST(12%)</th>\n",
       "      <th>IGST(18%)</th>\n",
       "      <th>IGST(28%)</th>\n",
       "      <th>IGST(5%)</th>\n",
       "      <th>Insurance Company</th>\n",
       "      <th>Invoice Date</th>\n",
       "      <th>Invoice No</th>\n",
       "      <th>Invoice Time</th>\n",
       "      <th>Job Card No</th>\n",
       "      <th>JobCard Date</th>\n",
       "      <th>JobCard Time</th>\n",
       "      <th>KMs Reading</th>\n",
       "      <th>Labour Total</th>\n",
       "      <th>Make</th>\n",
       "      <th>Misc Total</th>\n",
       "      <th>Model</th>\n",
       "      <th>ODN No.</th>\n",
       "      <th>OSL Total</th>\n",
       "      <th>Order Type</th>\n",
       "      <th>Outstanding Amt</th>\n",
       "      <th>Parts Total</th>\n",
       "      <th>Pin code</th>\n",
       "      <th>Plant</th>\n",
       "      <th>Plant Name1</th>\n",
       "      <th>Policy no.</th>\n",
       "      <th>Print Status</th>\n",
       "      <th>Recovrbl Exp</th>\n",
       "      <th>Regn No</th>\n",
       "      <th>SGST/UGST(14%)</th>\n",
       "      <th>SGST/UGST(2.5%)</th>\n",
       "      <th>SGST/UGST(6%)</th>\n",
       "      <th>SGST/UGST(9%)</th>\n",
       "      <th>Service Advisor Name</th>\n",
       "      <th>TDS amount</th>\n",
       "      <th>Technician Name</th>\n",
       "      <th>Total Amt Wtd Tax.</th>\n",
       "      <th>Total CGST</th>\n",
       "      <th>Total GST</th>\n",
       "      <th>Total IGST</th>\n",
       "      <th>Total SGST/UGST</th>\n",
       "      <th>Total Value</th>\n",
       "      <th>User ID</th>\n",
       "    </tr>\n",
       "  </thead>\n",
       "  <tbody>\n",
       "    <tr>\n",
       "      <th>984736</th>\n",
       "      <td>NaN</td>\n",
       "      <td>NaN</td>\n",
       "      <td>.</td>\n",
       "      <td>NaN</td>\n",
       "      <td>NaN</td>\n",
       "      <td>NaN</td>\n",
       "      <td>NaN</td>\n",
       "      <td>Chennai</td>\n",
       "      <td>NaN</td>\n",
       "      <td>NaN</td>\n",
       "      <td>Retail</td>\n",
       "      <td>203820</td>\n",
       "      <td>Tamil Nadu</td>\n",
       "      <td>NaN</td>\n",
       "      <td>NaN</td>\n",
       "      <td>00:00:00</td>\n",
       "      <td>NaN</td>\n",
       "      <td>NaN</td>\n",
       "      <td>NaN</td>\n",
       "      <td>NaN</td>\n",
       "      <td>NaN</td>\n",
       "      <td>2016-06-30</td>\n",
       "      <td>7231000017</td>\n",
       "      <td>14:56:58</td>\n",
       "      <td>400100</td>\n",
       "      <td>2016-06-30</td>\n",
       "      <td>09:15:12</td>\n",
       "      <td>72546</td>\n",
       "      <td>2495.90</td>\n",
       "      <td>MARUTI SUZUKI</td>\n",
       "      <td>374.97</td>\n",
       "      <td>ALTO</td>\n",
       "      <td>NaN</td>\n",
       "      <td>0.0</td>\n",
       "      <td>Paid Service</td>\n",
       "      <td>NaN</td>\n",
       "      <td>1587.28</td>\n",
       "      <td>600058</td>\n",
       "      <td>X405</td>\n",
       "      <td>X405 - NANGAN MOTORS PVT. LTD.</td>\n",
       "      <td>NaN</td>\n",
       "      <td>NO</td>\n",
       "      <td>0.0</td>\n",
       "      <td>TN38Y9343</td>\n",
       "      <td>NaN</td>\n",
       "      <td>NaN</td>\n",
       "      <td>NaN</td>\n",
       "      <td>NaN</td>\n",
       "      <td>NaN</td>\n",
       "      <td>NaN</td>\n",
       "      <td>NaN</td>\n",
       "      <td>4458.15</td>\n",
       "      <td>NaN</td>\n",
       "      <td>NaN</td>\n",
       "      <td>NaN</td>\n",
       "      <td>NaN</td>\n",
       "      <td>NaN</td>\n",
       "      <td>X405SA1</td>\n",
       "    </tr>\n",
       "    <tr>\n",
       "      <th>984737</th>\n",
       "      <td>NaN</td>\n",
       "      <td>NaN</td>\n",
       "      <td>.</td>\n",
       "      <td>NaN</td>\n",
       "      <td>NaN</td>\n",
       "      <td>NaN</td>\n",
       "      <td>NaN</td>\n",
       "      <td>ADAMBAKKAM</td>\n",
       "      <td>NaN</td>\n",
       "      <td>NaN</td>\n",
       "      <td>Retail</td>\n",
       "      <td>170411</td>\n",
       "      <td>Tamil Nadu</td>\n",
       "      <td>NaN</td>\n",
       "      <td>NaN</td>\n",
       "      <td>00:00:00</td>\n",
       "      <td>NaN</td>\n",
       "      <td>NaN</td>\n",
       "      <td>NaN</td>\n",
       "      <td>NaN</td>\n",
       "      <td>NaN</td>\n",
       "      <td>2016-06-30</td>\n",
       "      <td>7231000018</td>\n",
       "      <td>15:06:52</td>\n",
       "      <td>400092</td>\n",
       "      <td>2016-06-30</td>\n",
       "      <td>08:42:15</td>\n",
       "      <td>18968</td>\n",
       "      <td>2443.47</td>\n",
       "      <td>NISSAN</td>\n",
       "      <td>0.00</td>\n",
       "      <td>MICRA</td>\n",
       "      <td>NaN</td>\n",
       "      <td>0.0</td>\n",
       "      <td>Paid Service</td>\n",
       "      <td>NaN</td>\n",
       "      <td>4388.61</td>\n",
       "      <td>600088</td>\n",
       "      <td>X405</td>\n",
       "      <td>X405 - NANGAN MOTORS PVT. LTD.</td>\n",
       "      <td>NaN</td>\n",
       "      <td>NO</td>\n",
       "      <td>0.0</td>\n",
       "      <td>TN22CK0396</td>\n",
       "      <td>NaN</td>\n",
       "      <td>NaN</td>\n",
       "      <td>NaN</td>\n",
       "      <td>NaN</td>\n",
       "      <td>NaN</td>\n",
       "      <td>NaN</td>\n",
       "      <td>NaN</td>\n",
       "      <td>6832.08</td>\n",
       "      <td>NaN</td>\n",
       "      <td>NaN</td>\n",
       "      <td>NaN</td>\n",
       "      <td>NaN</td>\n",
       "      <td>NaN</td>\n",
       "      <td>X405SA1</td>\n",
       "    </tr>\n",
       "    <tr>\n",
       "      <th>984738</th>\n",
       "      <td>NaN</td>\n",
       "      <td>NaN</td>\n",
       "      <td>CHENNAI</td>\n",
       "      <td>NaN</td>\n",
       "      <td>NaN</td>\n",
       "      <td>NaN</td>\n",
       "      <td>NaN</td>\n",
       "      <td>CHENNAI</td>\n",
       "      <td>NaN</td>\n",
       "      <td>NaN</td>\n",
       "      <td>Retail</td>\n",
       "      <td>48811</td>\n",
       "      <td>Tamil Nadu</td>\n",
       "      <td>NaN</td>\n",
       "      <td>NaN</td>\n",
       "      <td>00:00:00</td>\n",
       "      <td>NaN</td>\n",
       "      <td>NaN</td>\n",
       "      <td>NaN</td>\n",
       "      <td>NaN</td>\n",
       "      <td>NaN</td>\n",
       "      <td>2016-06-30</td>\n",
       "      <td>7231000019</td>\n",
       "      <td>15:43:56</td>\n",
       "      <td>400082</td>\n",
       "      <td>2016-06-30</td>\n",
       "      <td>08:27:51</td>\n",
       "      <td>177433</td>\n",
       "      <td>2598.92</td>\n",
       "      <td>MAHINDRA &amp;  MAHINDRA</td>\n",
       "      <td>0.00</td>\n",
       "      <td>SCORPIO CRDE</td>\n",
       "      <td>NaN</td>\n",
       "      <td>0.0</td>\n",
       "      <td>Paid Service</td>\n",
       "      <td>NaN</td>\n",
       "      <td>6588.79</td>\n",
       "      <td>600044</td>\n",
       "      <td>X405</td>\n",
       "      <td>X405 - NANGAN MOTORS PVT. LTD.</td>\n",
       "      <td>NaN</td>\n",
       "      <td>NO</td>\n",
       "      <td>0.0</td>\n",
       "      <td>TN07BA0211</td>\n",
       "      <td>NaN</td>\n",
       "      <td>NaN</td>\n",
       "      <td>NaN</td>\n",
       "      <td>NaN</td>\n",
       "      <td>NaN</td>\n",
       "      <td>NaN</td>\n",
       "      <td>NaN</td>\n",
       "      <td>9187.71</td>\n",
       "      <td>NaN</td>\n",
       "      <td>NaN</td>\n",
       "      <td>NaN</td>\n",
       "      <td>NaN</td>\n",
       "      <td>NaN</td>\n",
       "      <td>X405SA1</td>\n",
       "    </tr>\n",
       "    <tr>\n",
       "      <th>984739</th>\n",
       "      <td>NaN</td>\n",
       "      <td>NaN</td>\n",
       "      <td>DK NAGAR EXTN,</td>\n",
       "      <td>NaN</td>\n",
       "      <td>NaN</td>\n",
       "      <td>NaN</td>\n",
       "      <td>NaN</td>\n",
       "      <td>Vijaya Nagar, 1 main road,Velacherr</td>\n",
       "      <td>NaN</td>\n",
       "      <td>NaN</td>\n",
       "      <td>Retail</td>\n",
       "      <td>204067</td>\n",
       "      <td>Tamil Nadu</td>\n",
       "      <td>NaN</td>\n",
       "      <td>NaN</td>\n",
       "      <td>00:00:00</td>\n",
       "      <td>NaN</td>\n",
       "      <td>NaN</td>\n",
       "      <td>NaN</td>\n",
       "      <td>NaN</td>\n",
       "      <td>NaN</td>\n",
       "      <td>2016-06-30</td>\n",
       "      <td>7231000020</td>\n",
       "      <td>15:58:59</td>\n",
       "      <td>400545</td>\n",
       "      <td>2016-06-30</td>\n",
       "      <td>12:53:48</td>\n",
       "      <td>22932</td>\n",
       "      <td>11000.00</td>\n",
       "      <td>HONDA</td>\n",
       "      <td>100.00</td>\n",
       "      <td>AMAZE</td>\n",
       "      <td>NaN</td>\n",
       "      <td>0.0</td>\n",
       "      <td>Accidental</td>\n",
       "      <td>NaN</td>\n",
       "      <td>0.00</td>\n",
       "      <td>600042</td>\n",
       "      <td>X405</td>\n",
       "      <td>X405 - NANGAN MOTORS PVT. LTD.</td>\n",
       "      <td>NaN</td>\n",
       "      <td>NO</td>\n",
       "      <td>0.0</td>\n",
       "      <td>TN07BV9290</td>\n",
       "      <td>NaN</td>\n",
       "      <td>NaN</td>\n",
       "      <td>NaN</td>\n",
       "      <td>NaN</td>\n",
       "      <td>NaN</td>\n",
       "      <td>NaN</td>\n",
       "      <td>NaN</td>\n",
       "      <td>11100.00</td>\n",
       "      <td>NaN</td>\n",
       "      <td>NaN</td>\n",
       "      <td>NaN</td>\n",
       "      <td>NaN</td>\n",
       "      <td>NaN</td>\n",
       "      <td>X405SA1</td>\n",
       "    </tr>\n",
       "    <tr>\n",
       "      <th>984740</th>\n",
       "      <td>NaN</td>\n",
       "      <td>NaN</td>\n",
       "      <td>2ND FLOOR</td>\n",
       "      <td>NaN</td>\n",
       "      <td>NaN</td>\n",
       "      <td>NaN</td>\n",
       "      <td>NaN</td>\n",
       "      <td>saidapet</td>\n",
       "      <td>NaN</td>\n",
       "      <td>NaN</td>\n",
       "      <td>Retail</td>\n",
       "      <td>204288</td>\n",
       "      <td>Tamil Nadu</td>\n",
       "      <td>NaN</td>\n",
       "      <td>NaN</td>\n",
       "      <td>00:00:00</td>\n",
       "      <td>NaN</td>\n",
       "      <td>NaN</td>\n",
       "      <td>NaN</td>\n",
       "      <td>NaN</td>\n",
       "      <td>NaN</td>\n",
       "      <td>2016-06-30</td>\n",
       "      <td>7231000021</td>\n",
       "      <td>17:09:19</td>\n",
       "      <td>400891</td>\n",
       "      <td>2016-06-30</td>\n",
       "      <td>16:54:06</td>\n",
       "      <td>149197</td>\n",
       "      <td>747.78</td>\n",
       "      <td>MARUTI SUZUKI</td>\n",
       "      <td>0.00</td>\n",
       "      <td>WAGONR</td>\n",
       "      <td>NaN</td>\n",
       "      <td>0.0</td>\n",
       "      <td>Running Repairs</td>\n",
       "      <td>NaN</td>\n",
       "      <td>0.00</td>\n",
       "      <td>600016</td>\n",
       "      <td>X405</td>\n",
       "      <td>X405 - NANGAN MOTORS PVT. LTD.</td>\n",
       "      <td>NaN</td>\n",
       "      <td>NO</td>\n",
       "      <td>0.0</td>\n",
       "      <td>TN10T3317</td>\n",
       "      <td>NaN</td>\n",
       "      <td>NaN</td>\n",
       "      <td>NaN</td>\n",
       "      <td>NaN</td>\n",
       "      <td>NaN</td>\n",
       "      <td>NaN</td>\n",
       "      <td>NaN</td>\n",
       "      <td>747.78</td>\n",
       "      <td>NaN</td>\n",
       "      <td>NaN</td>\n",
       "      <td>NaN</td>\n",
       "      <td>NaN</td>\n",
       "      <td>NaN</td>\n",
       "      <td>X405WM1</td>\n",
       "    </tr>\n",
       "  </tbody>\n",
       "</table>\n",
       "</div>"
      ],
      "text/plain": [
       "        Amt Rcvd From Custom  Amt Rcvd From Ins Co Area / Locality  CGST(14%)  CGST(2.5%)  CGST(6%)  CGST(9%)                                 CITY Cash /Cashless Type Claim No. Cust Type Customer No.    District Expiry Date Gate Pass Date Gate Pass Time  IGST(12%)  IGST(18%)  IGST(28%)  IGST(5%) Insurance Company Invoice Date  Invoice No Invoice Time  Job Card No JobCard Date JobCard Time  KMs Reading  Labour Total                  Make  Misc Total         Model  ODN No.  OSL Total       Order Type  Outstanding Amt  Parts Total  Pin code Plant                     Plant Name1 Policy no. Print Status  Recovrbl Exp     Regn No  SGST/UGST(14%)  SGST/UGST(2.5%)  SGST/UGST(6%)  SGST/UGST(9%)  Service Advisor Name  TDS amount Technician Name  Total Amt Wtd Tax.  Total CGST  Total GST  Total IGST  Total SGST/UGST  Total Value  User ID\n",
       "984736                   NaN                   NaN               .        NaN         NaN       NaN       NaN                              Chennai                 NaN       NaN    Retail       203820  Tamil Nadu         NaN            NaN       00:00:00        NaN        NaN        NaN       NaN               NaN   2016-06-30  7231000017     14:56:58       400100   2016-06-30     09:15:12        72546       2495.90         MARUTI SUZUKI      374.97          ALTO      NaN        0.0     Paid Service              NaN      1587.28    600058  X405  X405 - NANGAN MOTORS PVT. LTD.        NaN           NO           0.0   TN38Y9343             NaN              NaN            NaN            NaN                   NaN         NaN             NaN             4458.15         NaN        NaN         NaN              NaN          NaN  X405SA1\n",
       "984737                   NaN                   NaN               .        NaN         NaN       NaN       NaN                           ADAMBAKKAM                 NaN       NaN    Retail       170411  Tamil Nadu         NaN            NaN       00:00:00        NaN        NaN        NaN       NaN               NaN   2016-06-30  7231000018     15:06:52       400092   2016-06-30     08:42:15        18968       2443.47                NISSAN        0.00         MICRA      NaN        0.0     Paid Service              NaN      4388.61    600088  X405  X405 - NANGAN MOTORS PVT. LTD.        NaN           NO           0.0  TN22CK0396             NaN              NaN            NaN            NaN                   NaN         NaN             NaN             6832.08         NaN        NaN         NaN              NaN          NaN  X405SA1\n",
       "984738                   NaN                   NaN         CHENNAI        NaN         NaN       NaN       NaN                              CHENNAI                 NaN       NaN    Retail        48811  Tamil Nadu         NaN            NaN       00:00:00        NaN        NaN        NaN       NaN               NaN   2016-06-30  7231000019     15:43:56       400082   2016-06-30     08:27:51       177433       2598.92  MAHINDRA &  MAHINDRA        0.00  SCORPIO CRDE      NaN        0.0     Paid Service              NaN      6588.79    600044  X405  X405 - NANGAN MOTORS PVT. LTD.        NaN           NO           0.0  TN07BA0211             NaN              NaN            NaN            NaN                   NaN         NaN             NaN             9187.71         NaN        NaN         NaN              NaN          NaN  X405SA1\n",
       "984739                   NaN                   NaN  DK NAGAR EXTN,        NaN         NaN       NaN       NaN  Vijaya Nagar, 1 main road,Velacherr                 NaN       NaN    Retail       204067  Tamil Nadu         NaN            NaN       00:00:00        NaN        NaN        NaN       NaN               NaN   2016-06-30  7231000020     15:58:59       400545   2016-06-30     12:53:48        22932      11000.00                 HONDA      100.00         AMAZE      NaN        0.0       Accidental              NaN         0.00    600042  X405  X405 - NANGAN MOTORS PVT. LTD.        NaN           NO           0.0  TN07BV9290             NaN              NaN            NaN            NaN                   NaN         NaN             NaN            11100.00         NaN        NaN         NaN              NaN          NaN  X405SA1\n",
       "984740                   NaN                   NaN       2ND FLOOR        NaN         NaN       NaN       NaN                             saidapet                 NaN       NaN    Retail       204288  Tamil Nadu         NaN            NaN       00:00:00        NaN        NaN        NaN       NaN               NaN   2016-06-30  7231000021     17:09:19       400891   2016-06-30     16:54:06       149197        747.78         MARUTI SUZUKI        0.00        WAGONR      NaN        0.0  Running Repairs              NaN         0.00    600016  X405  X405 - NANGAN MOTORS PVT. LTD.        NaN           NO           0.0   TN10T3317             NaN              NaN            NaN            NaN                   NaN         NaN             NaN              747.78         NaN        NaN         NaN              NaN          NaN  X405WM1"
      ]
     },
     "execution_count": 75,
     "metadata": {},
     "output_type": "execute_result"
    }
   ],
   "source": [
    "invoice.tail() "
   ]
  },
  {
   "cell_type": "code",
   "execution_count": 76,
   "metadata": {},
   "outputs": [
    {
     "data": {
      "text/html": [
       "<div>\n",
       "<style scoped>\n",
       "    .dataframe tbody tr th:only-of-type {\n",
       "        vertical-align: middle;\n",
       "    }\n",
       "\n",
       "    .dataframe tbody tr th {\n",
       "        vertical-align: top;\n",
       "    }\n",
       "\n",
       "    .dataframe thead th {\n",
       "        text-align: right;\n",
       "    }\n",
       "</style>\n",
       "<table border=\"1\" class=\"dataframe\">\n",
       "  <thead>\n",
       "    <tr style=\"text-align: right;\">\n",
       "      <th></th>\n",
       "      <th>DBM Order</th>\n",
       "      <th>Order Item</th>\n",
       "      <th>Material</th>\n",
       "      <th>Labor Value Number</th>\n",
       "      <th>Description</th>\n",
       "      <th>Item Category</th>\n",
       "      <th>Order Quantity</th>\n",
       "      <th>Target quantity UoM</th>\n",
       "      <th>Net value</th>\n",
       "    </tr>\n",
       "  </thead>\n",
       "  <tbody>\n",
       "    <tr>\n",
       "      <th>0</th>\n",
       "      <td>22385</td>\n",
       "      <td>180</td>\n",
       "      <td>OSLCC_SRV31</td>\n",
       "      <td>NaN</td>\n",
       "      <td>MACHINING RR.SUSPENSION CHARGE  (MAJOR)</td>\n",
       "      <td>P010</td>\n",
       "      <td>1.2</td>\n",
       "      <td>MIN</td>\n",
       "      <td>1869.87</td>\n",
       "    </tr>\n",
       "    <tr>\n",
       "      <th>1</th>\n",
       "      <td>23910</td>\n",
       "      <td>10</td>\n",
       "      <td>1DM279018170117</td>\n",
       "      <td>NaN</td>\n",
       "      <td>ASSY.OIL COOLER (6-PLATE) (VOR</td>\n",
       "      <td>P002</td>\n",
       "      <td>1.0</td>\n",
       "      <td>EA</td>\n",
       "      <td>2151.13</td>\n",
       "    </tr>\n",
       "    <tr>\n",
       "      <th>2</th>\n",
       "      <td>23910</td>\n",
       "      <td>40</td>\n",
       "      <td>1IS150203BE01</td>\n",
       "      <td>NaN</td>\n",
       "      <td>FRONT WHEEL BEARING/ LUBRICATE</td>\n",
       "      <td>P002</td>\n",
       "      <td>1.0</td>\n",
       "      <td>EA</td>\n",
       "      <td>2552.92</td>\n",
       "    </tr>\n",
       "    <tr>\n",
       "      <th>3</th>\n",
       "      <td>23910</td>\n",
       "      <td>60</td>\n",
       "      <td>1DM279001990173</td>\n",
       "      <td>NaN</td>\n",
       "      <td>ASSY.CYL.HEAD W /O INJ.(NA W /O</td>\n",
       "      <td>P002</td>\n",
       "      <td>1.0</td>\n",
       "      <td>EA</td>\n",
       "      <td>20360.14</td>\n",
       "    </tr>\n",
       "    <tr>\n",
       "      <th>4</th>\n",
       "      <td>23910</td>\n",
       "      <td>70</td>\n",
       "      <td>1DM88552790S001SA</td>\n",
       "      <td>NaN</td>\n",
       "      <td>Engine Overhaul Kit -Indica Di</td>\n",
       "      <td>P002</td>\n",
       "      <td>1.0</td>\n",
       "      <td>EA</td>\n",
       "      <td>10691.63</td>\n",
       "    </tr>\n",
       "  </tbody>\n",
       "</table>\n",
       "</div>"
      ],
      "text/plain": [
       "   DBM Order  Order Item           Material Labor Value Number                              Description Item Category  Order Quantity Target quantity UoM  Net value\n",
       "0      22385         180        OSLCC_SRV31                NaN  MACHINING RR.SUSPENSION CHARGE  (MAJOR)          P010             1.2                 MIN    1869.87\n",
       "1      23910          10    1DM279018170117                NaN           ASSY.OIL COOLER (6-PLATE) (VOR          P002             1.0                  EA    2151.13\n",
       "2      23910          40      1IS150203BE01                NaN           FRONT WHEEL BEARING/ LUBRICATE          P002             1.0                  EA    2552.92\n",
       "3      23910          60    1DM279001990173                NaN          ASSY.CYL.HEAD W /O INJ.(NA W /O          P002             1.0                  EA   20360.14\n",
       "4      23910          70  1DM88552790S001SA                NaN           Engine Overhaul Kit -Indica Di          P002             1.0                  EA   10691.63"
      ]
     },
     "execution_count": 76,
     "metadata": {},
     "output_type": "execute_result"
    }
   ],
   "source": [
    "jtd.head()"
   ]
  },
  {
   "cell_type": "code",
   "execution_count": 77,
   "metadata": {},
   "outputs": [],
   "source": [
    "customer_merge_invoice_merge_jtd = pd.merge(customer_merge_invoice, jtd, left_on='Job Card No', right_on='DBM Order')"
   ]
  },
  {
   "cell_type": "markdown",
   "metadata": {},
   "source": [
    "# Exploratory Data Analysis"
   ]
  },
  {
   "cell_type": "code",
   "execution_count": 78,
   "metadata": {},
   "outputs": [
    {
     "data": {
      "text/plain": [
       "(154068, 75)"
      ]
     },
     "execution_count": 78,
     "metadata": {},
     "output_type": "execute_result"
    }
   ],
   "source": [
    "customer_merge_invoice_merge_jtd.shape"
   ]
  },
  {
   "cell_type": "code",
   "execution_count": 79,
   "metadata": {},
   "outputs": [
    {
     "name": "stdout",
     "output_type": "stream",
     "text": [
      "Business Partner             0\n",
      "Customer No.                 0\n",
      "Partner Type             13596\n",
      "Data Origin              29182\n",
      "Title                   134818\n",
      "Marital Status          154068\n",
      "Occupation              154068\n",
      "Date of Birth           154068\n",
      "Death date              154068\n",
      "Amt Rcvd From Custom      9461\n",
      "Amt Rcvd From Ins Co      9461\n",
      "Area / Locality         150799\n",
      "CGST(14%)                 9461\n",
      "CGST(2.5%)                9461\n",
      "CGST(6%)                  9461\n",
      "CGST(9%)                  9461\n",
      "CITY                         0\n",
      "Cash /Cashless Type     146584\n",
      "Claim No.               152462\n",
      "Cust Type                    0\n",
      "District                     0\n",
      "Expiry Date             153117\n",
      "Gate Pass Date          142356\n",
      "Gate Pass Time               0\n",
      "IGST(12%)                 9461\n",
      "IGST(18%)                 9461\n",
      "IGST(28%)                 9461\n",
      "IGST(5%)                  9461\n",
      "Insurance Company       153079\n",
      "Invoice Date                 0\n",
      "Invoice No                   0\n",
      "Invoice Time                 0\n",
      "Job Card No                  0\n",
      "JobCard Date                 0\n",
      "JobCard Time                 0\n",
      "KMs Reading                  0\n",
      "Labour Total                 0\n",
      "Make                         0\n",
      "Misc Total                   0\n",
      "Model                      131\n",
      "ODN No.                   9461\n",
      "OSL Total                    0\n",
      "Order Type                   0\n",
      "Outstanding Amt           9461\n",
      "Parts Total                  0\n",
      "Pin code                     0\n",
      "Plant                        0\n",
      "Plant Name1                  0\n",
      "Policy no.              153119\n",
      "Print Status                 0\n",
      "Recovrbl Exp                 0\n",
      "Regn No                      0\n",
      "SGST/UGST(14%)            9461\n",
      "SGST/UGST(2.5%)           9461\n",
      "SGST/UGST(6%)             9461\n",
      "SGST/UGST(9%)             9461\n",
      "Service Advisor Name    154068\n",
      "TDS amount                9461\n",
      "Technician Name          84902\n",
      "Total Amt Wtd Tax.           0\n",
      "Total CGST                9461\n",
      "Total GST                 9461\n",
      "Total IGST                9461\n",
      "Total SGST/UGST           9461\n",
      "Total Value               9461\n",
      "User ID                      0\n",
      "DBM Order                    0\n",
      "Order Item                   0\n",
      "Material                   384\n",
      "Labor Value Number      103954\n",
      "Description                384\n",
      "Item Category                0\n",
      "Order Quantity               0\n",
      "Target quantity UoM        384\n",
      "Net value                    0\n",
      "dtype: int64\n"
     ]
    }
   ],
   "source": [
    "print(customer_merge_invoice_merge_jtd.isna().sum())"
   ]
  },
  {
   "cell_type": "code",
   "execution_count": 80,
   "metadata": {},
   "outputs": [
    {
     "data": {
      "text/plain": [
       "Business Partner          0.000000\n",
       "Customer No.              0.000000\n",
       "Partner Type              8.824675\n",
       "Data Origin              18.940987\n",
       "Title                    87.505517\n",
       "Marital Status          100.000000\n",
       "Occupation              100.000000\n",
       "Date of Birth           100.000000\n",
       "Death date              100.000000\n",
       "Amt Rcvd From Custom      6.140795\n",
       "Amt Rcvd From Ins Co      6.140795\n",
       "Area / Locality          97.878210\n",
       "CGST(14%)                 6.140795\n",
       "CGST(2.5%)                6.140795\n",
       "CGST(6%)                  6.140795\n",
       "CGST(9%)                  6.140795\n",
       "CITY                      0.000000\n",
       "Cash /Cashless Type      95.142405\n",
       "Claim No.                98.957603\n",
       "Cust Type                 0.000000\n",
       "District                  0.000000\n",
       "Expiry Date              99.382740\n",
       "Gate Pass Date           92.398162\n",
       "Gate Pass Time            0.000000\n",
       "IGST(12%)                 6.140795\n",
       "IGST(18%)                 6.140795\n",
       "IGST(28%)                 6.140795\n",
       "IGST(5%)                  6.140795\n",
       "Insurance Company        99.358076\n",
       "Invoice Date              0.000000\n",
       "Invoice No                0.000000\n",
       "Invoice Time              0.000000\n",
       "Job Card No               0.000000\n",
       "JobCard Date              0.000000\n",
       "JobCard Time              0.000000\n",
       "KMs Reading               0.000000\n",
       "Labour Total              0.000000\n",
       "Make                      0.000000\n",
       "Misc Total                0.000000\n",
       "Model                     0.085027\n",
       "ODN No.                   6.140795\n",
       "OSL Total                 0.000000\n",
       "Order Type                0.000000\n",
       "Outstanding Amt           6.140795\n",
       "Parts Total               0.000000\n",
       "Pin code                  0.000000\n",
       "Plant                     0.000000\n",
       "Plant Name1               0.000000\n",
       "Policy no.               99.384038\n",
       "Print Status              0.000000\n",
       "Recovrbl Exp              0.000000\n",
       "Regn No                   0.000000\n",
       "SGST/UGST(14%)            6.140795\n",
       "SGST/UGST(2.5%)           6.140795\n",
       "SGST/UGST(6%)             6.140795\n",
       "SGST/UGST(9%)             6.140795\n",
       "Service Advisor Name    100.000000\n",
       "TDS amount                6.140795\n",
       "Technician Name          55.106836\n",
       "Total Amt Wtd Tax.        0.000000\n",
       "Total CGST                6.140795\n",
       "Total GST                 6.140795\n",
       "Total IGST                6.140795\n",
       "Total SGST/UGST           6.140795\n",
       "Total Value               6.140795\n",
       "User ID                   0.000000\n",
       "DBM Order                 0.000000\n",
       "Order Item                0.000000\n",
       "Material                  0.249241\n",
       "Labor Value Number       67.472804\n",
       "Description               0.249241\n",
       "Item Category             0.000000\n",
       "Order Quantity            0.000000\n",
       "Target quantity UoM       0.249241\n",
       "Net value                 0.000000\n",
       "dtype: float64"
      ]
     },
     "execution_count": 80,
     "metadata": {},
     "output_type": "execute_result"
    }
   ],
   "source": [
    "customer_merge_invoice_merge_jtd.isnull().sum() / customer_merge_invoice_merge_jtd.shape[0] * 100.00"
   ]
  },
  {
   "cell_type": "code",
   "execution_count": 81,
   "metadata": {},
   "outputs": [],
   "source": [
    "def missing_values_percent(df: pd.DataFrame) -> pd.Series:\n",
    "    \"\"\"Returns percentage of missing values in each column\"\"\"\n",
    "    percent_null = (df.isnull().sum() / df.shape[0]) * 100\n",
    "    return pd.Series(percent_null, index=df.columns)"
   ]
  },
  {
   "cell_type": "code",
   "execution_count": 82,
   "metadata": {},
   "outputs": [
    {
     "data": {
      "text/plain": [
       "Business Partner          0.000000\n",
       "Customer No.              0.000000\n",
       "Partner Type              8.824675\n",
       "Data Origin              18.940987\n",
       "Title                    87.505517\n",
       "Marital Status          100.000000\n",
       "Occupation              100.000000\n",
       "Date of Birth           100.000000\n",
       "Death date              100.000000\n",
       "Amt Rcvd From Custom      6.140795\n",
       "Amt Rcvd From Ins Co      6.140795\n",
       "Area / Locality          97.878210\n",
       "CGST(14%)                 6.140795\n",
       "CGST(2.5%)                6.140795\n",
       "CGST(6%)                  6.140795\n",
       "CGST(9%)                  6.140795\n",
       "CITY                      0.000000\n",
       "Cash /Cashless Type      95.142405\n",
       "Claim No.                98.957603\n",
       "Cust Type                 0.000000\n",
       "District                  0.000000\n",
       "Expiry Date              99.382740\n",
       "Gate Pass Date           92.398162\n",
       "Gate Pass Time            0.000000\n",
       "IGST(12%)                 6.140795\n",
       "IGST(18%)                 6.140795\n",
       "IGST(28%)                 6.140795\n",
       "IGST(5%)                  6.140795\n",
       "Insurance Company        99.358076\n",
       "Invoice Date              0.000000\n",
       "Invoice No                0.000000\n",
       "Invoice Time              0.000000\n",
       "Job Card No               0.000000\n",
       "JobCard Date              0.000000\n",
       "JobCard Time              0.000000\n",
       "KMs Reading               0.000000\n",
       "Labour Total              0.000000\n",
       "Make                      0.000000\n",
       "Misc Total                0.000000\n",
       "Model                     0.085027\n",
       "ODN No.                   6.140795\n",
       "OSL Total                 0.000000\n",
       "Order Type                0.000000\n",
       "Outstanding Amt           6.140795\n",
       "Parts Total               0.000000\n",
       "Pin code                  0.000000\n",
       "Plant                     0.000000\n",
       "Plant Name1               0.000000\n",
       "Policy no.               99.384038\n",
       "Print Status              0.000000\n",
       "Recovrbl Exp              0.000000\n",
       "Regn No                   0.000000\n",
       "SGST/UGST(14%)            6.140795\n",
       "SGST/UGST(2.5%)           6.140795\n",
       "SGST/UGST(6%)             6.140795\n",
       "SGST/UGST(9%)             6.140795\n",
       "Service Advisor Name    100.000000\n",
       "TDS amount                6.140795\n",
       "Technician Name          55.106836\n",
       "Total Amt Wtd Tax.        0.000000\n",
       "Total CGST                6.140795\n",
       "Total GST                 6.140795\n",
       "Total IGST                6.140795\n",
       "Total SGST/UGST           6.140795\n",
       "Total Value               6.140795\n",
       "User ID                   0.000000\n",
       "DBM Order                 0.000000\n",
       "Order Item                0.000000\n",
       "Material                  0.249241\n",
       "Labor Value Number       67.472804\n",
       "Description               0.249241\n",
       "Item Category             0.000000\n",
       "Order Quantity            0.000000\n",
       "Target quantity UoM       0.249241\n",
       "Net value                 0.000000\n",
       "dtype: float64"
      ]
     },
     "execution_count": 82,
     "metadata": {},
     "output_type": "execute_result"
    }
   ],
   "source": [
    "missing_values_percent(customer_merge_invoice_merge_jtd)"
   ]
  },
  {
   "cell_type": "code",
   "execution_count": 83,
   "metadata": {},
   "outputs": [
    {
     "data": {
      "text/plain": [
       "Index(['Business Partner', 'Customer No.', 'Partner Type', 'Data Origin', 'Title', 'Marital Status', 'Occupation', 'Date of Birth', 'Death date', 'Amt Rcvd From Custom', 'Amt Rcvd From Ins Co', 'Area / Locality', 'CGST(14%)', 'CGST(2.5%)', 'CGST(6%)', 'CGST(9%)', 'CITY', 'Cash /Cashless Type', 'Claim No.', 'Cust Type', 'District', 'Expiry Date', 'Gate Pass Date', 'Gate Pass Time', 'IGST(12%)', 'IGST(18%)', 'IGST(28%)', 'IGST(5%)', 'Insurance Company', 'Invoice Date', 'Invoice No', 'Invoice Time', 'Job Card No', 'JobCard Date', 'JobCard Time', 'KMs Reading', 'Labour Total', 'Make', 'Misc Total', 'Model', 'ODN No.', 'OSL Total', 'Order Type', 'Outstanding Amt', 'Parts Total', 'Pin code', 'Plant', 'Plant Name1', 'Policy no.', 'Print Status', 'Recovrbl Exp', 'Regn No', 'SGST/UGST(14%)', 'SGST/UGST(2.5%)', 'SGST/UGST(6%)', 'SGST/UGST(9%)', 'Service Advisor Name', 'TDS amount', 'Technician Name', 'Total Amt Wtd Tax.', 'Total CGST', 'Total GST', 'Total IGST', 'Total SGST/UGST',\n",
       "       'Total Value', 'User ID', 'DBM Order', 'Order Item', 'Material', 'Labor Value Number', 'Description', 'Item Category', 'Order Quantity', 'Target quantity UoM', 'Net value'],\n",
       "      dtype='object')"
      ]
     },
     "execution_count": 83,
     "metadata": {},
     "output_type": "execute_result"
    }
   ],
   "source": [
    "customer_merge_invoice_merge_jtd.columns"
   ]
  },
  {
   "cell_type": "code",
   "execution_count": 89,
   "metadata": {},
   "outputs": [
    {
     "data": {
      "text/plain": [
       "business_partner                object\n",
       "customer_no                     object\n",
       "partner_type                   float64\n",
       "data_origin                     object\n",
       "title                          float64\n",
       "marital_status                 float64\n",
       "occupation                     float64\n",
       "date_of_birth                   object\n",
       "death_date              datetime64[ns]\n",
       "amt_rcvd_from_custom           float64\n",
       "amt_rcvd_from_ins_co           float64\n",
       "area__locality                  object\n",
       "cgst14                         float64\n",
       "cgst25                         float64\n",
       "cgst6                          float64\n",
       "cgst9                          float64\n",
       "city                            object\n",
       "cash_cashless_type              object\n",
       "claim_no                        object\n",
       "cust_type                       object\n",
       "district                        object\n",
       "expiry_date                     object\n",
       "gate_pass_date                  object\n",
       "gate_pass_time                  object\n",
       "igst12                         float64\n",
       "igst18                         float64\n",
       "igst28                         float64\n",
       "igst5                          float64\n",
       "insurance_company               object\n",
       "invoice_date                    object\n",
       "invoice_no                       int64\n",
       "invoice_time                    object\n",
       "job_card_no                      int64\n",
       "jobcard_date                    object\n",
       "jobcard_time                    object\n",
       "kms_reading                      int64\n",
       "labour_total                   float64\n",
       "make                            object\n",
       "misc_total                     float64\n",
       "model                           object\n",
       "odn_no                         float64\n",
       "osl_total                      float64\n",
       "order_type                      object\n",
       "outstanding_amt                float64\n",
       "parts_total                    float64\n",
       "pin_code                         int64\n",
       "plant                           object\n",
       "plant_name1                     object\n",
       "policy_no                       object\n",
       "print_status                    object\n",
       "recovrbl_exp                   float64\n",
       "regn_no                         object\n",
       "sgstugst14                     float64\n",
       "sgstugst25                     float64\n",
       "sgstugst6                      float64\n",
       "sgstugst9                      float64\n",
       "service_advisor_name           float64\n",
       "tds_amount                     float64\n",
       "technician_name                 object\n",
       "total_amt_wtd_tax              float64\n",
       "total_cgst                     float64\n",
       "total_gst                      float64\n",
       "total_igst                     float64\n",
       "total_sgstugst                 float64\n",
       "total_value                    float64\n",
       "user_id                         object\n",
       "dbm_order                        int64\n",
       "order_item                       int64\n",
       "material                        object\n",
       "labor_value_number              object\n",
       "description                     object\n",
       "item_category                   object\n",
       "order_quantity                 float64\n",
       "target_quantity_uom             object\n",
       "net_value                      float64\n",
       "dtype: object"
      ]
     },
     "execution_count": 89,
     "metadata": {},
     "output_type": "execute_result"
    }
   ],
   "source": [
    "customer_merge_invoice_merge_jtd.dtypes"
   ]
  },
  {
   "cell_type": "code",
   "execution_count": 85,
   "metadata": {},
   "outputs": [],
   "source": []
  },
  {
   "cell_type": "code",
   "execution_count": 86,
   "metadata": {},
   "outputs": [],
   "source": [
    "cleaned_df = data_cleaning(customer_merge_invoice_merge_jtd)"
   ]
  },
  {
   "cell_type": "code",
   "execution_count": 87,
   "metadata": {},
   "outputs": [
    {
     "data": {
      "text/plain": [
       "business_partner          0.000000\n",
       "customer_no               0.000000\n",
       "partner_type              8.824675\n",
       "data_origin              18.940987\n",
       "title                    87.505517\n",
       "marital_status          100.000000\n",
       "occupation              100.000000\n",
       "date_of_birth           100.000000\n",
       "death_date              100.000000\n",
       "amt_rcvd_from_custom      6.140795\n",
       "amt_rcvd_from_ins_co      6.140795\n",
       "area__locality           97.878210\n",
       "cgst14                    6.140795\n",
       "cgst25                    6.140795\n",
       "cgst6                     6.140795\n",
       "cgst9                     6.140795\n",
       "city                      0.000000\n",
       "cash_cashless_type       95.142405\n",
       "claim_no                 98.957603\n",
       "cust_type                 0.000000\n",
       "district                  0.000000\n",
       "expiry_date              99.382740\n",
       "gate_pass_date           92.398162\n",
       "gate_pass_time            0.000000\n",
       "igst12                    6.140795\n",
       "igst18                    6.140795\n",
       "igst28                    6.140795\n",
       "igst5                     6.140795\n",
       "insurance_company        99.358076\n",
       "invoice_date              0.000000\n",
       "invoice_no                0.000000\n",
       "invoice_time              0.000000\n",
       "job_card_no               0.000000\n",
       "jobcard_date              0.000000\n",
       "jobcard_time              0.000000\n",
       "kms_reading               0.000000\n",
       "labour_total              0.000000\n",
       "make                      0.000000\n",
       "misc_total                0.000000\n",
       "model                     0.085027\n",
       "odn_no                    6.140795\n",
       "osl_total                 0.000000\n",
       "order_type                0.000000\n",
       "outstanding_amt           6.140795\n",
       "parts_total               0.000000\n",
       "pin_code                  0.000000\n",
       "plant                     0.000000\n",
       "plant_name1               0.000000\n",
       "policy_no                99.384038\n",
       "print_status              0.000000\n",
       "recovrbl_exp              0.000000\n",
       "regn_no                   0.000000\n",
       "sgstugst14                6.140795\n",
       "sgstugst25                6.140795\n",
       "sgstugst6                 6.140795\n",
       "sgstugst9                 6.140795\n",
       "service_advisor_name    100.000000\n",
       "tds_amount                6.140795\n",
       "technician_name          55.106836\n",
       "total_amt_wtd_tax         0.000000\n",
       "total_cgst                6.140795\n",
       "total_gst                 6.140795\n",
       "total_igst                6.140795\n",
       "total_sgstugst            6.140795\n",
       "total_value               6.140795\n",
       "user_id                   0.000000\n",
       "dbm_order                 0.000000\n",
       "order_item                0.000000\n",
       "material                  0.249241\n",
       "labor_value_number       67.472804\n",
       "description               0.249241\n",
       "item_category             0.000000\n",
       "order_quantity            0.000000\n",
       "target_quantity_uom       0.249241\n",
       "net_value                 0.000000\n",
       "dtype: float64"
      ]
     },
     "execution_count": 87,
     "metadata": {},
     "output_type": "execute_result"
    }
   ],
   "source": [
    "missing_values_percent(cleaned_df)\n",
    "#cleaned_df.columns"
   ]
  },
  {
   "cell_type": "code",
   "execution_count": 37,
   "metadata": {},
   "outputs": [
    {
     "data": {
      "text/plain": [
       "0         787293\n",
       "1         693968\n",
       "2         693968\n",
       "3         693968\n",
       "4         725171\n",
       "           ...  \n",
       "154063    839305\n",
       "154064    839305\n",
       "154065    881446\n",
       "154066    881446\n",
       "154067    878396\n",
       "Name: unnamed:_0_x, Length: 154068, dtype: int64"
      ]
     },
     "execution_count": 37,
     "metadata": {},
     "output_type": "execute_result"
    }
   ],
   "source": [
    "cleaned_df['unnamed:_0_x']"
   ]
  },
  {
   "cell_type": "code",
   "execution_count": 39,
   "metadata": {},
   "outputs": [
    {
     "data": {
      "text/plain": [
       "((154068,),\n",
       " array([787293, 693968, 725171, ..., 839305, 881446, 878396], dtype=int64))"
      ]
     },
     "execution_count": 39,
     "metadata": {},
     "output_type": "execute_result"
    }
   ],
   "source": [
    "cleaned_df['unnamed:_0_x'].shape  , cleaned_df['unnamed:_0_x'].unique()"
   ]
  },
  {
   "cell_type": "code",
   "execution_count": null,
   "metadata": {},
   "outputs": [],
   "source": []
  }
 ],
 "metadata": {
  "kernelspec": {
   "display_name": "Python 3.7.4 64-bit ('ProgramData': virtualenv)",
   "language": "python",
   "name": "python37464bitprogramdatavirtualenv2f5dd8a4644a47eca8624813dcf23a92"
  },
  "language_info": {
   "codemirror_mode": {
    "name": "ipython",
    "version": 3
   },
   "file_extension": ".py",
   "mimetype": "text/x-python",
   "name": "python",
   "nbconvert_exporter": "python",
   "pygments_lexer": "ipython3",
   "version": "3.7.4"
  }
 },
 "nbformat": 4,
 "nbformat_minor": 4
}
