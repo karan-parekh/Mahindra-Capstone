{
 "cells": [
  {
   "cell_type": "code",
   "execution_count": 7,
   "metadata": {},
   "outputs": [],
   "source": [
    "import warnings\n",
    "warnings.simplefilter('ignore')\n",
    "import pandas as pd\n",
    "import numpy as np \n",
    "import matplotlib.pyplot as plt\n",
    "import seaborn as sns\n",
    "import pgeocode\n",
    "import os\n",
    "nomi = pgeocode.Nominatim('IN')\n",
    "from sklearn.preprocessing import LabelEncoder,StandardScaler\n",
    "from sklearn.model_selection import train_test_split as tts,cross_val_score,ShuffleSplit\n",
    "from imblearn.over_sampling import SMOTE\n",
    "from sklearn.tree import DecisionTreeClassifier\n",
    "from sklearn.ensemble import RandomForestClassifier\n",
    "from xgboost import XGBClassifier\n",
    "from sklearn.cluster import KMeans\n",
    "from sklearn.decomposition import PCA\n",
    "from sklearn.metrics import accuracy_score,f1_score,classification_report,roc_auc_score\n",
    "pd.set_option('display.max_columns', None)\n",
    "pd.set_option('display.max_rows',None)"
   ]
  },
  {
   "cell_type": "code",
   "execution_count": 8,
   "metadata": {},
   "outputs": [],
   "source": [
    " # Some tweaks for displaying large rows\n",
    "pd.set_option('display.max_rows', 500)\n",
    "pd.set_option('display.max_columns', 500)\n",
    "pd.set_option('display.width', 1000)"
   ]
  },
  {
   "cell_type": "code",
   "execution_count": 9,
   "metadata": {},
   "outputs": [],
   "source": [
    "# If DataSet lies in another Directory\n",
    "#os.getcwd()\n",
    "os.chdir(\"C:\\\\Users\\\\Dashang\\\\Documents\\\\GreyAtom_Capstone_MahindraFirst\\\\\") "
   ]
  },
  {
   "cell_type": "code",
   "execution_count": 11,
   "metadata": {},
   "outputs": [],
   "source": [
    "invoice = pd.read_csv(\"invoice_final.csv\")   ## Pre-Cleaned DataSet"
   ]
  },
  {
   "cell_type": "code",
   "execution_count": 12,
   "metadata": {},
   "outputs": [
    {
     "data": {
      "text/html": [
       "<div>\n",
       "<style scoped>\n",
       "    .dataframe tbody tr th:only-of-type {\n",
       "        vertical-align: middle;\n",
       "    }\n",
       "\n",
       "    .dataframe tbody tr th {\n",
       "        vertical-align: top;\n",
       "    }\n",
       "\n",
       "    .dataframe thead th {\n",
       "        text-align: right;\n",
       "    }\n",
       "</style>\n",
       "<table border=\"1\" class=\"dataframe\">\n",
       "  <thead>\n",
       "    <tr style=\"text-align: right;\">\n",
       "      <th></th>\n",
       "      <th>model</th>\n",
       "      <th>customer_type</th>\n",
       "      <th>customer_no</th>\n",
       "      <th>gate_pass_time</th>\n",
       "      <th>invoice_no</th>\n",
       "      <th>job_card_no</th>\n",
       "      <th>km_reading</th>\n",
       "      <th>labour_total</th>\n",
       "      <th>make</th>\n",
       "      <th>order_type</th>\n",
       "      <th>pin_code</th>\n",
       "      <th>plant_code</th>\n",
       "      <th>plant_name</th>\n",
       "      <th>regn_no</th>\n",
       "      <th>total_amt</th>\n",
       "      <th>user_id</th>\n",
       "      <th>pin_city</th>\n",
       "      <th>pin_district</th>\n",
       "      <th>pin_location</th>\n",
       "      <th>latitude</th>\n",
       "      <th>longitude</th>\n",
       "      <th>state</th>\n",
       "      <th>zones</th>\n",
       "      <th>invoice_datetime</th>\n",
       "      <th>jobcard_datetime</th>\n",
       "      <th>Service_Time</th>\n",
       "      <th>model_type</th>\n",
       "    </tr>\n",
       "  </thead>\n",
       "  <tbody>\n",
       "    <tr>\n",
       "      <th>0</th>\n",
       "      <td>spark</td>\n",
       "      <td>retail</td>\n",
       "      <td>67849</td>\n",
       "      <td>0:00:00</td>\n",
       "      <td>7005200002</td>\n",
       "      <td>168303</td>\n",
       "      <td>49317</td>\n",
       "      <td>1203.14</td>\n",
       "      <td>general motors</td>\n",
       "      <td>paid service</td>\n",
       "      <td>400601</td>\n",
       "      <td>bc01</td>\n",
       "      <td>thane</td>\n",
       "      <td>ka19ma1291</td>\n",
       "      <td>4051.95</td>\n",
       "      <td>bc01fs1</td>\n",
       "      <td>Thane</td>\n",
       "      <td>Maharashtra</td>\n",
       "      <td>Thane Bazar, Thane H.O, Thane R.S.</td>\n",
       "      <td>19.1941</td>\n",
       "      <td>73.0002</td>\n",
       "      <td>maharashtra</td>\n",
       "      <td>west zone</td>\n",
       "      <td>01/02/15 11:30</td>\n",
       "      <td>12/13/2014 14:29</td>\n",
       "      <td>19 days 21:00:53.000000000</td>\n",
       "      <td>hatchback</td>\n",
       "    </tr>\n",
       "    <tr>\n",
       "      <th>1</th>\n",
       "      <td>indica</td>\n",
       "      <td>retail</td>\n",
       "      <td>84419</td>\n",
       "      <td>0:00:00</td>\n",
       "      <td>7005200003</td>\n",
       "      <td>173997</td>\n",
       "      <td>78584</td>\n",
       "      <td>804.26</td>\n",
       "      <td>tata motors</td>\n",
       "      <td>smc value package</td>\n",
       "      <td>400603</td>\n",
       "      <td>bc01</td>\n",
       "      <td>thane</td>\n",
       "      <td>mh43r3046</td>\n",
       "      <td>1001.29</td>\n",
       "      <td>bc01sa2</td>\n",
       "      <td>Thane</td>\n",
       "      <td>Maharashtra</td>\n",
       "      <td>Thane East, Kopri Colony</td>\n",
       "      <td>19.1941</td>\n",
       "      <td>73.0002</td>\n",
       "      <td>maharashtra</td>\n",
       "      <td>west zone</td>\n",
       "      <td>01/03/15 10:07</td>\n",
       "      <td>01/02/15 14:12</td>\n",
       "      <td>0 days 19:55:14.000000000</td>\n",
       "      <td>hatchback</td>\n",
       "    </tr>\n",
       "    <tr>\n",
       "      <th>2</th>\n",
       "      <td>zen</td>\n",
       "      <td>retail</td>\n",
       "      <td>81055</td>\n",
       "      <td>0:00:00</td>\n",
       "      <td>7005200004</td>\n",
       "      <td>173889</td>\n",
       "      <td>33985</td>\n",
       "      <td>180.19</td>\n",
       "      <td>maruti suzuki</td>\n",
       "      <td>running repairs</td>\n",
       "      <td>400607</td>\n",
       "      <td>bc01</td>\n",
       "      <td>thane</td>\n",
       "      <td>ap09ax0582</td>\n",
       "      <td>233.14</td>\n",
       "      <td>bc01sa2</td>\n",
       "      <td>Thane</td>\n",
       "      <td>Maharashtra</td>\n",
       "      <td>Chitalsar Manpada, Sandozbaugh</td>\n",
       "      <td>19.1941</td>\n",
       "      <td>73.0002</td>\n",
       "      <td>maharashtra</td>\n",
       "      <td>west zone</td>\n",
       "      <td>01/03/15 11:12</td>\n",
       "      <td>01/02/15 11:40</td>\n",
       "      <td>0 days 23:32:13.000000000</td>\n",
       "      <td>hatchback</td>\n",
       "    </tr>\n",
       "    <tr>\n",
       "      <th>3</th>\n",
       "      <td>indica</td>\n",
       "      <td>retail</td>\n",
       "      <td>84419</td>\n",
       "      <td>0:00:00</td>\n",
       "      <td>7005200005</td>\n",
       "      <td>174158</td>\n",
       "      <td>78584</td>\n",
       "      <td>0.00</td>\n",
       "      <td>tata motors</td>\n",
       "      <td>smc redemption</td>\n",
       "      <td>400603</td>\n",
       "      <td>bc01</td>\n",
       "      <td>thane</td>\n",
       "      <td>mh43r3046</td>\n",
       "      <td>0.00</td>\n",
       "      <td>bc01sa2</td>\n",
       "      <td>Thane</td>\n",
       "      <td>Maharashtra</td>\n",
       "      <td>Thane East, Kopri Colony</td>\n",
       "      <td>19.1941</td>\n",
       "      <td>73.0002</td>\n",
       "      <td>maharashtra</td>\n",
       "      <td>west zone</td>\n",
       "      <td>01/03/15 11:40</td>\n",
       "      <td>01/03/15 10:12</td>\n",
       "      <td>0 days 01:28:12.000000000</td>\n",
       "      <td>hatchback</td>\n",
       "    </tr>\n",
       "    <tr>\n",
       "      <th>4</th>\n",
       "      <td>santro xing</td>\n",
       "      <td>retail</td>\n",
       "      <td>18980</td>\n",
       "      <td>0:00:00</td>\n",
       "      <td>7005200006</td>\n",
       "      <td>173860</td>\n",
       "      <td>50057</td>\n",
       "      <td>1202.97</td>\n",
       "      <td>hyundai</td>\n",
       "      <td>paid service</td>\n",
       "      <td>400603</td>\n",
       "      <td>bc01</td>\n",
       "      <td>thane</td>\n",
       "      <td>mh04cd9768</td>\n",
       "      <td>2747.12</td>\n",
       "      <td>bc01sa2</td>\n",
       "      <td>Thane</td>\n",
       "      <td>Maharashtra</td>\n",
       "      <td>Thane East, Kopri Colony</td>\n",
       "      <td>19.1941</td>\n",
       "      <td>73.0002</td>\n",
       "      <td>maharashtra</td>\n",
       "      <td>west zone</td>\n",
       "      <td>01/03/15 12:07</td>\n",
       "      <td>01/02/15 10:45</td>\n",
       "      <td>1 days 01:21:35.000000000</td>\n",
       "      <td>hatchback</td>\n",
       "    </tr>\n",
       "  </tbody>\n",
       "</table>\n",
       "</div>"
      ],
      "text/plain": [
       "         model customer_type customer_no gate_pass_time  invoice_no  job_card_no  km_reading  labour_total            make         order_type  pin_code plant_code plant_name     regn_no  total_amt  user_id pin_city pin_district                        pin_location  latitude  longitude        state      zones invoice_datetime  jobcard_datetime                Service_Time model_type\n",
       "0        spark        retail       67849        0:00:00  7005200002       168303       49317       1203.14  general motors       paid service    400601       bc01      thane  ka19ma1291    4051.95  bc01fs1    Thane  Maharashtra  Thane Bazar, Thane H.O, Thane R.S.   19.1941    73.0002  maharashtra  west zone   01/02/15 11:30  12/13/2014 14:29  19 days 21:00:53.000000000  hatchback\n",
       "1       indica        retail       84419        0:00:00  7005200003       173997       78584        804.26     tata motors  smc value package    400603       bc01      thane   mh43r3046    1001.29  bc01sa2    Thane  Maharashtra            Thane East, Kopri Colony   19.1941    73.0002  maharashtra  west zone   01/03/15 10:07    01/02/15 14:12   0 days 19:55:14.000000000  hatchback\n",
       "2          zen        retail       81055        0:00:00  7005200004       173889       33985        180.19   maruti suzuki    running repairs    400607       bc01      thane  ap09ax0582     233.14  bc01sa2    Thane  Maharashtra      Chitalsar Manpada, Sandozbaugh   19.1941    73.0002  maharashtra  west zone   01/03/15 11:12    01/02/15 11:40   0 days 23:32:13.000000000  hatchback\n",
       "3       indica        retail       84419        0:00:00  7005200005       174158       78584          0.00     tata motors     smc redemption    400603       bc01      thane   mh43r3046       0.00  bc01sa2    Thane  Maharashtra            Thane East, Kopri Colony   19.1941    73.0002  maharashtra  west zone   01/03/15 11:40    01/03/15 10:12   0 days 01:28:12.000000000  hatchback\n",
       "4  santro xing        retail       18980        0:00:00  7005200006       173860       50057       1202.97         hyundai       paid service    400603       bc01      thane  mh04cd9768    2747.12  bc01sa2    Thane  Maharashtra            Thane East, Kopri Colony   19.1941    73.0002  maharashtra  west zone   01/03/15 12:07    01/02/15 10:45   1 days 01:21:35.000000000  hatchback"
      ]
     },
     "execution_count": 12,
     "metadata": {},
     "output_type": "execute_result"
    }
   ],
   "source": [
    "invoice.head()"
   ]
  },
  {
   "cell_type": "code",
   "execution_count": 14,
   "metadata": {},
   "outputs": [
    {
     "data": {
      "text/plain": [
       "count    492314.000000\n",
       "mean        131.710114\n",
       "std        1367.364722\n",
       "min       -8019.666667\n",
       "25%           1.683333\n",
       "50%           6.550000\n",
       "75%          76.633333\n",
       "max       18869.066667\n",
       "Name: service_time_hrs, dtype: float64"
      ]
     },
     "execution_count": 14,
     "metadata": {},
     "output_type": "execute_result"
    }
   ],
   "source": [
    "\n",
    "invoice['year'] = pd.to_datetime(invoice['invoice_datetime']).dt.year\n",
    "invoice['month'] = pd.to_datetime(invoice['invoice_datetime']).dt.month\n",
    "invoice[\"invoice_datetime\"]=pd.to_datetime(invoice[\"invoice_datetime\"],dayfirst=True)\n",
    "invoice[\"jobcard_datetime\"]=pd.to_datetime(invoice[\"jobcard_datetime\"],dayfirst=True)\n",
    "invoice['Service_Time'] = invoice['invoice_datetime'] - invoice['jobcard_datetime']\n",
    "invoice['service_time_hrs'] = invoice['Service_Time']/np.timedelta64(1,'h')\n",
    "invoice['service_time_hrs'].describe()"
   ]
  },
  {
   "cell_type": "code",
   "execution_count": 16,
   "metadata": {},
   "outputs": [
    {
     "data": {
      "text/html": [
       "<div>\n",
       "<style scoped>\n",
       "    .dataframe tbody tr th:only-of-type {\n",
       "        vertical-align: middle;\n",
       "    }\n",
       "\n",
       "    .dataframe tbody tr th {\n",
       "        vertical-align: top;\n",
       "    }\n",
       "\n",
       "    .dataframe thead th {\n",
       "        text-align: right;\n",
       "    }\n",
       "</style>\n",
       "<table border=\"1\" class=\"dataframe\">\n",
       "  <thead>\n",
       "    <tr style=\"text-align: right;\">\n",
       "      <th></th>\n",
       "      <th>model</th>\n",
       "      <th>customer_type</th>\n",
       "      <th>customer_no</th>\n",
       "      <th>gate_pass_time</th>\n",
       "      <th>invoice_no</th>\n",
       "      <th>job_card_no</th>\n",
       "      <th>km_reading</th>\n",
       "      <th>labour_total</th>\n",
       "      <th>make</th>\n",
       "      <th>order_type</th>\n",
       "      <th>pin_code</th>\n",
       "      <th>plant_code</th>\n",
       "      <th>plant_name</th>\n",
       "      <th>regn_no</th>\n",
       "      <th>total_amt</th>\n",
       "      <th>user_id</th>\n",
       "      <th>pin_city</th>\n",
       "      <th>pin_district</th>\n",
       "      <th>pin_location</th>\n",
       "      <th>latitude</th>\n",
       "      <th>longitude</th>\n",
       "      <th>state</th>\n",
       "      <th>zones</th>\n",
       "      <th>invoice_datetime</th>\n",
       "      <th>jobcard_datetime</th>\n",
       "      <th>Service_Time</th>\n",
       "      <th>model_type</th>\n",
       "      <th>year</th>\n",
       "      <th>month</th>\n",
       "      <th>service_time_hrs</th>\n",
       "    </tr>\n",
       "  </thead>\n",
       "  <tbody>\n",
       "    <tr>\n",
       "      <th>90</th>\n",
       "      <td>verito</td>\n",
       "      <td>retail</td>\n",
       "      <td>85739</td>\n",
       "      <td>0:00:00</td>\n",
       "      <td>7005200092</td>\n",
       "      <td>176658</td>\n",
       "      <td>36542</td>\n",
       "      <td>2067.06</td>\n",
       "      <td>mahindra &amp;  mahindra</td>\n",
       "      <td>running repairs</td>\n",
       "      <td>400603</td>\n",
       "      <td>bc01</td>\n",
       "      <td>thane</td>\n",
       "      <td>mh04ff2490</td>\n",
       "      <td>7907.01</td>\n",
       "      <td>bc01sa2</td>\n",
       "      <td>Thane</td>\n",
       "      <td>Maharashtra</td>\n",
       "      <td>Thane East, Kopri Colony</td>\n",
       "      <td>19.1941</td>\n",
       "      <td>73.0002</td>\n",
       "      <td>maharashtra</td>\n",
       "      <td>west zone</td>\n",
       "      <td>2015-01-14 10:43:00</td>\n",
       "      <td>2015-11-01 12:58:00</td>\n",
       "      <td>-292 days +21:45:00</td>\n",
       "      <td>sedan</td>\n",
       "      <td>2015</td>\n",
       "      <td>1</td>\n",
       "      <td>-6986.250000</td>\n",
       "    </tr>\n",
       "    <tr>\n",
       "      <th>93</th>\n",
       "      <td>spark</td>\n",
       "      <td>retail</td>\n",
       "      <td>24772</td>\n",
       "      <td>0:00:00</td>\n",
       "      <td>7005200095</td>\n",
       "      <td>176674</td>\n",
       "      <td>48724</td>\n",
       "      <td>4072.96</td>\n",
       "      <td>general motors</td>\n",
       "      <td>paid service</td>\n",
       "      <td>400610</td>\n",
       "      <td>bc01</td>\n",
       "      <td>thane</td>\n",
       "      <td>mh04dw4163</td>\n",
       "      <td>11663.68</td>\n",
       "      <td>bc01sa1</td>\n",
       "      <td>Thane</td>\n",
       "      <td>Maharashtra</td>\n",
       "      <td>Apna Bazar</td>\n",
       "      <td>19.1941</td>\n",
       "      <td>73.0002</td>\n",
       "      <td>maharashtra</td>\n",
       "      <td>west zone</td>\n",
       "      <td>2015-01-14 18:28:00</td>\n",
       "      <td>2015-11-01 13:50:00</td>\n",
       "      <td>-291 days +04:38:00</td>\n",
       "      <td>hatchback</td>\n",
       "      <td>2015</td>\n",
       "      <td>1</td>\n",
       "      <td>-6979.366667</td>\n",
       "    </tr>\n",
       "    <tr>\n",
       "      <th>97</th>\n",
       "      <td>indigo</td>\n",
       "      <td>retail</td>\n",
       "      <td>84536</td>\n",
       "      <td>0:00:00</td>\n",
       "      <td>7005200099</td>\n",
       "      <td>174213</td>\n",
       "      <td>85000</td>\n",
       "      <td>7578.06</td>\n",
       "      <td>tata motors</td>\n",
       "      <td>paid service</td>\n",
       "      <td>600406</td>\n",
       "      <td>bc01</td>\n",
       "      <td>thane</td>\n",
       "      <td>mh12et826</td>\n",
       "      <td>30803.86</td>\n",
       "      <td>bc01sa2</td>\n",
       "      <td>Thane</td>\n",
       "      <td>Maharashtra</td>\n",
       "      <td>Kalyan Rs, Kalyan City H.O, Subhash Road (Than...</td>\n",
       "      <td>19.2166</td>\n",
       "      <td>73.2176</td>\n",
       "      <td>maharashtra</td>\n",
       "      <td>west zone</td>\n",
       "      <td>2015-01-15 11:25:00</td>\n",
       "      <td>2015-03-01 11:15:00</td>\n",
       "      <td>-45 days +00:10:00</td>\n",
       "      <td>compact sedan</td>\n",
       "      <td>2015</td>\n",
       "      <td>1</td>\n",
       "      <td>-1079.833333</td>\n",
       "    </tr>\n",
       "    <tr>\n",
       "      <th>98</th>\n",
       "      <td>getz</td>\n",
       "      <td>retail</td>\n",
       "      <td>10606</td>\n",
       "      <td>0:00:00</td>\n",
       "      <td>7005200100</td>\n",
       "      <td>176960</td>\n",
       "      <td>94332</td>\n",
       "      <td>2354.89</td>\n",
       "      <td>hyundai</td>\n",
       "      <td>paid service</td>\n",
       "      <td>400607</td>\n",
       "      <td>bc01</td>\n",
       "      <td>thane</td>\n",
       "      <td>ka03me2047</td>\n",
       "      <td>7537.85</td>\n",
       "      <td>bc01sa2</td>\n",
       "      <td>Thane</td>\n",
       "      <td>Maharashtra</td>\n",
       "      <td>Chitalsar Manpada, Sandozbaugh</td>\n",
       "      <td>19.1941</td>\n",
       "      <td>73.0002</td>\n",
       "      <td>maharashtra</td>\n",
       "      <td>west zone</td>\n",
       "      <td>2015-01-15 13:52:00</td>\n",
       "      <td>2015-12-01 13:57:00</td>\n",
       "      <td>-321 days +23:55:00</td>\n",
       "      <td>hatchback</td>\n",
       "      <td>2015</td>\n",
       "      <td>1</td>\n",
       "      <td>-7680.083333</td>\n",
       "    </tr>\n",
       "    <tr>\n",
       "      <th>101</th>\n",
       "      <td>swift</td>\n",
       "      <td>retail</td>\n",
       "      <td>85933</td>\n",
       "      <td>0:00:00</td>\n",
       "      <td>7005200103</td>\n",
       "      <td>177046</td>\n",
       "      <td>37093</td>\n",
       "      <td>175.01</td>\n",
       "      <td>maruti suzuki</td>\n",
       "      <td>accidental</td>\n",
       "      <td>400614</td>\n",
       "      <td>bc01</td>\n",
       "      <td>thane</td>\n",
       "      <td>mh43aj9033</td>\n",
       "      <td>5825.87</td>\n",
       "      <td>bc01fs1</td>\n",
       "      <td>Thane</td>\n",
       "      <td>Maharashtra</td>\n",
       "      <td>Belapur Node-- III, Konkan Bhavan, Belapur Nod...</td>\n",
       "      <td>19.1941</td>\n",
       "      <td>73.0002</td>\n",
       "      <td>maharashtra</td>\n",
       "      <td>west zone</td>\n",
       "      <td>2015-01-15 16:07:00</td>\n",
       "      <td>2015-12-01 16:28:00</td>\n",
       "      <td>-321 days +23:39:00</td>\n",
       "      <td>hatchback</td>\n",
       "      <td>2015</td>\n",
       "      <td>1</td>\n",
       "      <td>-7680.350000</td>\n",
       "    </tr>\n",
       "    <tr>\n",
       "      <th>...</th>\n",
       "      <td>...</td>\n",
       "      <td>...</td>\n",
       "      <td>...</td>\n",
       "      <td>...</td>\n",
       "      <td>...</td>\n",
       "      <td>...</td>\n",
       "      <td>...</td>\n",
       "      <td>...</td>\n",
       "      <td>...</td>\n",
       "      <td>...</td>\n",
       "      <td>...</td>\n",
       "      <td>...</td>\n",
       "      <td>...</td>\n",
       "      <td>...</td>\n",
       "      <td>...</td>\n",
       "      <td>...</td>\n",
       "      <td>...</td>\n",
       "      <td>...</td>\n",
       "      <td>...</td>\n",
       "      <td>...</td>\n",
       "      <td>...</td>\n",
       "      <td>...</td>\n",
       "      <td>...</td>\n",
       "      <td>...</td>\n",
       "      <td>...</td>\n",
       "      <td>...</td>\n",
       "      <td>...</td>\n",
       "      <td>...</td>\n",
       "      <td>...</td>\n",
       "      <td>...</td>\n",
       "    </tr>\n",
       "    <tr>\n",
       "      <th>492186</th>\n",
       "      <td>wagonr</td>\n",
       "      <td>retail</td>\n",
       "      <td>185128</td>\n",
       "      <td>0:00:00</td>\n",
       "      <td>7215600177</td>\n",
       "      <td>368459</td>\n",
       "      <td>88871</td>\n",
       "      <td>1200.00</td>\n",
       "      <td>maruti suzuki</td>\n",
       "      <td>paid service</td>\n",
       "      <td>384002</td>\n",
       "      <td>x328</td>\n",
       "      <td>x328 - pramukh auto</td>\n",
       "      <td>gj02bd708</td>\n",
       "      <td>1200.00</td>\n",
       "      <td>x328wm1</td>\n",
       "      <td>Mahesana</td>\n",
       "      <td>Gujarat</td>\n",
       "      <td>Mahesana I E, Mahesana Railway Colony</td>\n",
       "      <td>23.8153</td>\n",
       "      <td>73.1628</td>\n",
       "      <td>gujarat</td>\n",
       "      <td>west zone</td>\n",
       "      <td>2016-06-29 17:45:00</td>\n",
       "      <td>2016-10-05 16:47:00</td>\n",
       "      <td>-98 days +00:58:00</td>\n",
       "      <td>hatchback</td>\n",
       "      <td>2016</td>\n",
       "      <td>6</td>\n",
       "      <td>-2351.033333</td>\n",
       "    </tr>\n",
       "    <tr>\n",
       "      <th>492187</th>\n",
       "      <td>santro</td>\n",
       "      <td>retail</td>\n",
       "      <td>184674</td>\n",
       "      <td>0:00:00</td>\n",
       "      <td>7215600178</td>\n",
       "      <td>367718</td>\n",
       "      <td>85352</td>\n",
       "      <td>2865.24</td>\n",
       "      <td>hyundai</td>\n",
       "      <td>paid service</td>\n",
       "      <td>384002</td>\n",
       "      <td>x328</td>\n",
       "      <td>x328 - pramukh auto</td>\n",
       "      <td>gj18ah2397</td>\n",
       "      <td>2865.24</td>\n",
       "      <td>x328sa1</td>\n",
       "      <td>Mahesana</td>\n",
       "      <td>Gujarat</td>\n",
       "      <td>Mahesana I E, Mahesana Railway Colony</td>\n",
       "      <td>23.8153</td>\n",
       "      <td>73.1628</td>\n",
       "      <td>gujarat</td>\n",
       "      <td>west zone</td>\n",
       "      <td>2016-06-29 17:48:00</td>\n",
       "      <td>2016-09-05 15:34:00</td>\n",
       "      <td>-68 days +02:14:00</td>\n",
       "      <td>hatchback</td>\n",
       "      <td>2016</td>\n",
       "      <td>6</td>\n",
       "      <td>-1629.766667</td>\n",
       "    </tr>\n",
       "    <tr>\n",
       "      <th>492188</th>\n",
       "      <td>indigo manza</td>\n",
       "      <td>retail</td>\n",
       "      <td>185608</td>\n",
       "      <td>0:00:00</td>\n",
       "      <td>7215600179</td>\n",
       "      <td>369373</td>\n",
       "      <td>64098</td>\n",
       "      <td>1200.00</td>\n",
       "      <td>tata motors</td>\n",
       "      <td>paid service</td>\n",
       "      <td>384002</td>\n",
       "      <td>x328</td>\n",
       "      <td>x328 - pramukh auto</td>\n",
       "      <td>gj02bh1881</td>\n",
       "      <td>1200.00</td>\n",
       "      <td>x328wm1</td>\n",
       "      <td>Mahesana</td>\n",
       "      <td>Gujarat</td>\n",
       "      <td>Mahesana I E, Mahesana Railway Colony</td>\n",
       "      <td>23.8153</td>\n",
       "      <td>73.1628</td>\n",
       "      <td>gujarat</td>\n",
       "      <td>west zone</td>\n",
       "      <td>2016-06-29 17:52:00</td>\n",
       "      <td>2016-12-05 10:51:00</td>\n",
       "      <td>-159 days +07:01:00</td>\n",
       "      <td>sedan</td>\n",
       "      <td>2016</td>\n",
       "      <td>6</td>\n",
       "      <td>-3808.983333</td>\n",
       "    </tr>\n",
       "    <tr>\n",
       "      <th>492189</th>\n",
       "      <td>eeco</td>\n",
       "      <td>retail</td>\n",
       "      <td>185674</td>\n",
       "      <td>0:00:00</td>\n",
       "      <td>7215600180</td>\n",
       "      <td>369482</td>\n",
       "      <td>67428</td>\n",
       "      <td>1404.40</td>\n",
       "      <td>maruti suzuki</td>\n",
       "      <td>paid service</td>\n",
       "      <td>384002</td>\n",
       "      <td>x328</td>\n",
       "      <td>x328 - pramukh auto</td>\n",
       "      <td>gj02ap4634</td>\n",
       "      <td>1404.40</td>\n",
       "      <td>x328wm1</td>\n",
       "      <td>Mahesana</td>\n",
       "      <td>Gujarat</td>\n",
       "      <td>Mahesana I E, Mahesana Railway Colony</td>\n",
       "      <td>23.8153</td>\n",
       "      <td>73.1628</td>\n",
       "      <td>gujarat</td>\n",
       "      <td>west zone</td>\n",
       "      <td>2016-06-29 17:55:00</td>\n",
       "      <td>2016-12-05 11:49:00</td>\n",
       "      <td>-159 days +06:06:00</td>\n",
       "      <td>minivan</td>\n",
       "      <td>2016</td>\n",
       "      <td>6</td>\n",
       "      <td>-3809.900000</td>\n",
       "    </tr>\n",
       "    <tr>\n",
       "      <th>492191</th>\n",
       "      <td>i10</td>\n",
       "      <td>retail</td>\n",
       "      <td>185328</td>\n",
       "      <td>0:00:00</td>\n",
       "      <td>7215600182</td>\n",
       "      <td>368872</td>\n",
       "      <td>90998</td>\n",
       "      <td>1800.00</td>\n",
       "      <td>hyundai</td>\n",
       "      <td>paid service</td>\n",
       "      <td>384002</td>\n",
       "      <td>x328</td>\n",
       "      <td>x328 - pramukh auto</td>\n",
       "      <td>gj01kh809</td>\n",
       "      <td>1800.00</td>\n",
       "      <td>x328wm1</td>\n",
       "      <td>Mahesana</td>\n",
       "      <td>Gujarat</td>\n",
       "      <td>Mahesana I E, Mahesana Railway Colony</td>\n",
       "      <td>23.8153</td>\n",
       "      <td>73.1628</td>\n",
       "      <td>gujarat</td>\n",
       "      <td>west zone</td>\n",
       "      <td>2016-06-29 18:10:00</td>\n",
       "      <td>2016-11-05 12:20:00</td>\n",
       "      <td>-129 days +05:50:00</td>\n",
       "      <td>hatchback</td>\n",
       "      <td>2016</td>\n",
       "      <td>6</td>\n",
       "      <td>-3090.166667</td>\n",
       "    </tr>\n",
       "  </tbody>\n",
       "</table>\n",
       "<p>31451 rows × 30 columns</p>\n",
       "</div>"
      ],
      "text/plain": [
       "               model customer_type customer_no gate_pass_time  invoice_no  job_card_no  km_reading  labour_total                  make       order_type  pin_code plant_code           plant_name     regn_no  total_amt  user_id  pin_city pin_district                                       pin_location  latitude  longitude        state      zones    invoice_datetime    jobcard_datetime        Service_Time     model_type  year  month  service_time_hrs\n",
       "90            verito        retail       85739        0:00:00  7005200092       176658       36542       2067.06  mahindra &  mahindra  running repairs    400603       bc01                thane  mh04ff2490    7907.01  bc01sa2     Thane  Maharashtra                           Thane East, Kopri Colony   19.1941    73.0002  maharashtra  west zone 2015-01-14 10:43:00 2015-11-01 12:58:00 -292 days +21:45:00          sedan  2015      1      -6986.250000\n",
       "93             spark        retail       24772        0:00:00  7005200095       176674       48724       4072.96        general motors     paid service    400610       bc01                thane  mh04dw4163   11663.68  bc01sa1     Thane  Maharashtra                                         Apna Bazar   19.1941    73.0002  maharashtra  west zone 2015-01-14 18:28:00 2015-11-01 13:50:00 -291 days +04:38:00      hatchback  2015      1      -6979.366667\n",
       "97            indigo        retail       84536        0:00:00  7005200099       174213       85000       7578.06           tata motors     paid service    600406       bc01                thane   mh12et826   30803.86  bc01sa2     Thane  Maharashtra  Kalyan Rs, Kalyan City H.O, Subhash Road (Than...   19.2166    73.2176  maharashtra  west zone 2015-01-15 11:25:00 2015-03-01 11:15:00  -45 days +00:10:00  compact sedan  2015      1      -1079.833333\n",
       "98              getz        retail       10606        0:00:00  7005200100       176960       94332       2354.89               hyundai     paid service    400607       bc01                thane  ka03me2047    7537.85  bc01sa2     Thane  Maharashtra                     Chitalsar Manpada, Sandozbaugh   19.1941    73.0002  maharashtra  west zone 2015-01-15 13:52:00 2015-12-01 13:57:00 -321 days +23:55:00      hatchback  2015      1      -7680.083333\n",
       "101            swift        retail       85933        0:00:00  7005200103       177046       37093        175.01         maruti suzuki       accidental    400614       bc01                thane  mh43aj9033    5825.87  bc01fs1     Thane  Maharashtra  Belapur Node-- III, Konkan Bhavan, Belapur Nod...   19.1941    73.0002  maharashtra  west zone 2015-01-15 16:07:00 2015-12-01 16:28:00 -321 days +23:39:00      hatchback  2015      1      -7680.350000\n",
       "...              ...           ...         ...            ...         ...          ...         ...           ...                   ...              ...       ...        ...                  ...         ...        ...      ...       ...          ...                                                ...       ...        ...          ...        ...                 ...                 ...                 ...            ...   ...    ...               ...\n",
       "492186        wagonr        retail      185128        0:00:00  7215600177       368459       88871       1200.00         maruti suzuki     paid service    384002       x328  x328 - pramukh auto   gj02bd708    1200.00  x328wm1  Mahesana      Gujarat              Mahesana I E, Mahesana Railway Colony   23.8153    73.1628      gujarat  west zone 2016-06-29 17:45:00 2016-10-05 16:47:00  -98 days +00:58:00      hatchback  2016      6      -2351.033333\n",
       "492187        santro        retail      184674        0:00:00  7215600178       367718       85352       2865.24               hyundai     paid service    384002       x328  x328 - pramukh auto  gj18ah2397    2865.24  x328sa1  Mahesana      Gujarat              Mahesana I E, Mahesana Railway Colony   23.8153    73.1628      gujarat  west zone 2016-06-29 17:48:00 2016-09-05 15:34:00  -68 days +02:14:00      hatchback  2016      6      -1629.766667\n",
       "492188  indigo manza        retail      185608        0:00:00  7215600179       369373       64098       1200.00           tata motors     paid service    384002       x328  x328 - pramukh auto  gj02bh1881    1200.00  x328wm1  Mahesana      Gujarat              Mahesana I E, Mahesana Railway Colony   23.8153    73.1628      gujarat  west zone 2016-06-29 17:52:00 2016-12-05 10:51:00 -159 days +07:01:00          sedan  2016      6      -3808.983333\n",
       "492189          eeco        retail      185674        0:00:00  7215600180       369482       67428       1404.40         maruti suzuki     paid service    384002       x328  x328 - pramukh auto  gj02ap4634    1404.40  x328wm1  Mahesana      Gujarat              Mahesana I E, Mahesana Railway Colony   23.8153    73.1628      gujarat  west zone 2016-06-29 17:55:00 2016-12-05 11:49:00 -159 days +06:06:00        minivan  2016      6      -3809.900000\n",
       "492191           i10        retail      185328        0:00:00  7215600182       368872       90998       1800.00               hyundai     paid service    384002       x328  x328 - pramukh auto   gj01kh809    1800.00  x328wm1  Mahesana      Gujarat              Mahesana I E, Mahesana Railway Colony   23.8153    73.1628      gujarat  west zone 2016-06-29 18:10:00 2016-11-05 12:20:00 -129 days +05:50:00      hatchback  2016      6      -3090.166667\n",
       "\n",
       "[31451 rows x 30 columns]"
      ]
     },
     "execution_count": 16,
     "metadata": {},
     "output_type": "execute_result"
    }
   ],
   "source": [
    "invoice[invoice['service_time_hrs']<0]"
   ]
  },
  {
   "cell_type": "code",
   "execution_count": 17,
   "metadata": {},
   "outputs": [],
   "source": [
    "new_invoice=invoice[invoice['service_time_hrs']>0]"
   ]
  },
  {
   "cell_type": "markdown",
   "metadata": {},
   "source": [
    "### Calculation of Life Time Value for the year 2015"
   ]
  },
  {
   "cell_type": "code",
   "execution_count": 18,
   "metadata": {},
   "outputs": [],
   "source": [
    "invoice_2015=invoice[invoice[\"year\"]==2015]"
   ]
  },
  {
   "cell_type": "code",
   "execution_count": 20,
   "metadata": {},
   "outputs": [
    {
     "data": {
      "text/html": [
       "<div>\n",
       "<style scoped>\n",
       "    .dataframe tbody tr th:only-of-type {\n",
       "        vertical-align: middle;\n",
       "    }\n",
       "\n",
       "    .dataframe tbody tr th {\n",
       "        vertical-align: top;\n",
       "    }\n",
       "\n",
       "    .dataframe thead th {\n",
       "        text-align: right;\n",
       "    }\n",
       "</style>\n",
       "<table border=\"1\" class=\"dataframe\">\n",
       "  <thead>\n",
       "    <tr style=\"text-align: right;\">\n",
       "      <th></th>\n",
       "      <th>make</th>\n",
       "      <th>model</th>\n",
       "      <th>pin_location</th>\n",
       "      <th>customer_no</th>\n",
       "      <th>invoice_no</th>\n",
       "      <th>total_amt</th>\n",
       "      <th>service_time_hrs</th>\n",
       "      <th>LTV</th>\n",
       "    </tr>\n",
       "  </thead>\n",
       "  <tbody>\n",
       "    <tr>\n",
       "      <th>0</th>\n",
       "      <td>audi</td>\n",
       "      <td>a4</td>\n",
       "      <td>Anandibazar, Ahmednagar City, Ahmednagar H.O, ...</td>\n",
       "      <td>118262</td>\n",
       "      <td>1</td>\n",
       "      <td>1754.440</td>\n",
       "      <td>0.266667</td>\n",
       "      <td>1754.44</td>\n",
       "    </tr>\n",
       "    <tr>\n",
       "      <th>1</th>\n",
       "      <td>audi</td>\n",
       "      <td>a4</td>\n",
       "      <td>Anandibazar, Ahmednagar City, Ahmednagar H.O, ...</td>\n",
       "      <td>129425</td>\n",
       "      <td>1</td>\n",
       "      <td>263.160</td>\n",
       "      <td>1.800000</td>\n",
       "      <td>263.16</td>\n",
       "    </tr>\n",
       "    <tr>\n",
       "      <th>2</th>\n",
       "      <td>audi</td>\n",
       "      <td>a4</td>\n",
       "      <td>Block 5,Neyveli, Block 26,Neyveli, Block 18,Ne...</td>\n",
       "      <td>121383</td>\n",
       "      <td>2</td>\n",
       "      <td>6126.835</td>\n",
       "      <td>55.500000</td>\n",
       "      <td>12253.67</td>\n",
       "    </tr>\n",
       "    <tr>\n",
       "      <th>3</th>\n",
       "      <td>audi</td>\n",
       "      <td>a4</td>\n",
       "      <td>Deccan Gymkhana, Film Institute, A.R. Shala</td>\n",
       "      <td>98005</td>\n",
       "      <td>1</td>\n",
       "      <td>14549.910</td>\n",
       "      <td>2959.950000</td>\n",
       "      <td>14549.91</td>\n",
       "    </tr>\n",
       "    <tr>\n",
       "      <th>4</th>\n",
       "      <td>audi</td>\n",
       "      <td>a4</td>\n",
       "      <td>Dharmapuri Collectorate, Vennampatti, Venkaten...</td>\n",
       "      <td>99532</td>\n",
       "      <td>4</td>\n",
       "      <td>934.705</td>\n",
       "      <td>985.020833</td>\n",
       "      <td>3738.82</td>\n",
       "    </tr>\n",
       "  </tbody>\n",
       "</table>\n",
       "</div>"
      ],
      "text/plain": [
       "   make model                                       pin_location customer_no  invoice_no  total_amt  service_time_hrs       LTV\n",
       "0  audi    a4  Anandibazar, Ahmednagar City, Ahmednagar H.O, ...      118262           1   1754.440          0.266667   1754.44\n",
       "1  audi    a4  Anandibazar, Ahmednagar City, Ahmednagar H.O, ...      129425           1    263.160          1.800000    263.16\n",
       "2  audi    a4  Block 5,Neyveli, Block 26,Neyveli, Block 18,Ne...      121383           2   6126.835         55.500000  12253.67\n",
       "3  audi    a4        Deccan Gymkhana, Film Institute, A.R. Shala       98005           1  14549.910       2959.950000  14549.91\n",
       "4  audi    a4  Dharmapuri Collectorate, Vennampatti, Venkaten...       99532           4    934.705        985.020833   3738.82"
      ]
     },
     "execution_count": 20,
     "metadata": {},
     "output_type": "execute_result"
    }
   ],
   "source": [
    "# Calculating frequency of visits & total revenue of a customer for calculation of ltv\n",
    "\n",
    "customer_freq=invoice_2015.groupby([\"make\",\"model\",\"pin_location\",\"customer_no\"]).agg({\"invoice_no\":'nunique',\"total_amt\":'mean',\"service_time_hrs\":'mean'})\n",
    "customer_freq=customer_freq.reset_index()\n",
    "\n",
    "customer_freq.head()\n",
    "\n",
    "ltv_make_model_r=customer_freq.copy()\n",
    "ltv_make_model_r[\"LTV\"] = ltv_make_model_r[\"invoice_no\"] * ltv_make_model_r[\"total_amt\"]\n",
    "ltv_make_model_r.head()"
   ]
  },
  {
   "cell_type": "markdown",
   "metadata": {},
   "source": [
    "### Filtering customer having LTV > 0 "
   ]
  },
  {
   "cell_type": "code",
   "execution_count": 21,
   "metadata": {},
   "outputs": [],
   "source": [
    "ltv_make_model_r = ltv_make_model_r[ltv_make_model_r['LTV'] > 0]"
   ]
  },
  {
   "cell_type": "code",
   "execution_count": 22,
   "metadata": {},
   "outputs": [
    {
     "name": "stdout",
     "output_type": "stream",
     "text": [
      "0.05 quantile :- 195.144\n",
      "0.25 quantile :- 748.56\n",
      "0.50 quantile :- 2921.11\n",
      "0.75 quantile :- 8045.9\n",
      "0.95 quantile :- 30092.43399999998\n",
      "minimum LTV :- 0.85\n",
      "maximum LTV :- 1635707.79\n",
      "mean LTV :- 7855.861692815374\n"
     ]
    }
   ],
   "source": [
    "print(\"0.05 quantile :-\",ltv_make_model_r['LTV'].quantile(0.05))\n",
    "print(\"0.25 quantile :-\",ltv_make_model_r['LTV'].quantile(0.25))\n",
    "print(\"0.50 quantile :-\",ltv_make_model_r['LTV'].quantile(0.50))\n",
    "print(\"0.75 quantile :-\",ltv_make_model_r['LTV'].quantile(0.75))\n",
    "print(\"0.95 quantile :-\",ltv_make_model_r['LTV'].quantile(0.95))\n",
    "print(\"minimum LTV :-\",ltv_make_model_r['LTV'].min())\n",
    "print(\"maximum LTV :-\",ltv_make_model_r['LTV'].max())\n",
    "print(\"mean LTV :-\",ltv_make_model_r['LTV'].mean())"
   ]
  },
  {
   "cell_type": "code",
   "execution_count": null,
   "metadata": {},
   "outputs": [],
   "source": [
    "print(ltv_make_model_r[ltv_make_model_r[\"LTV\"]<=2921.11].shape)\n",
    "print(ltv_make_model_r[(ltv_make_model_r[\"LTV\"]>2921.11)&(ltv_make_model_r[\"LTV\"]<=8045.9)].shape)\n",
    "print(ltv_make_model_r[ltv_make_model_r[\"LTV\"]>8045.9].shape)"
   ]
  },
  {
   "cell_type": "code",
   "execution_count": 23,
   "metadata": {},
   "outputs": [],
   "source": [
    "bins=[-1,2921.11,8045.9,1635707.79]\n",
    "labels=[\"Low\",\"Medium\",\"High\"]\n",
    "ltv_make_model_r[\"LTV Binned\"]=pd.cut(ltv_make_model_r[\"LTV\"], bins=bins, labels=labels)"
   ]
  },
  {
   "cell_type": "code",
   "execution_count": 24,
   "metadata": {},
   "outputs": [
    {
     "data": {
      "text/plain": [
       "Low       37255\n",
       "High      18627\n",
       "Medium    18627\n",
       "Name: LTV Binned, dtype: int64"
      ]
     },
     "execution_count": 24,
     "metadata": {},
     "output_type": "execute_result"
    }
   ],
   "source": [
    "ltv_make_model_r[\"LTV Binned\"].value_counts(dropna=False)"
   ]
  },
  {
   "cell_type": "code",
   "execution_count": 25,
   "metadata": {},
   "outputs": [],
   "source": [
    "ltv_make_model_r.dropna(inplace=True)"
   ]
  },
  {
   "cell_type": "code",
   "execution_count": 26,
   "metadata": {},
   "outputs": [],
   "source": [
    "temp_ltv_make_model_r=ltv_make_model_r.copy()"
   ]
  },
  {
   "cell_type": "code",
   "execution_count": 27,
   "metadata": {},
   "outputs": [],
   "source": [
    "le=LabelEncoder()\n",
    "temp_ltv_make_model_r[\"make\"]=le.fit_transform(temp_ltv_make_model_r[\"make\"])\n",
    "temp_ltv_make_model_r[\"model\"]=le.fit_transform(temp_ltv_make_model_r[\"model\"])\n",
    "temp_ltv_make_model_r[\"LTV Binned\"]=le.fit_transform(temp_ltv_make_model_r[\"LTV Binned\"])\n",
    "temp_ltv_make_model_r[\"pin_location\"]=le.fit_transform(temp_ltv_make_model_r[\"pin_location\"])"
   ]
  },
  {
   "cell_type": "code",
   "execution_count": 28,
   "metadata": {},
   "outputs": [
    {
     "data": {
      "text/html": [
       "<div>\n",
       "<style scoped>\n",
       "    .dataframe tbody tr th:only-of-type {\n",
       "        vertical-align: middle;\n",
       "    }\n",
       "\n",
       "    .dataframe tbody tr th {\n",
       "        vertical-align: top;\n",
       "    }\n",
       "\n",
       "    .dataframe thead th {\n",
       "        text-align: right;\n",
       "    }\n",
       "</style>\n",
       "<table border=\"1\" class=\"dataframe\">\n",
       "  <thead>\n",
       "    <tr style=\"text-align: right;\">\n",
       "      <th></th>\n",
       "      <th>make</th>\n",
       "      <th>model</th>\n",
       "      <th>pin_location</th>\n",
       "      <th>customer_no</th>\n",
       "      <th>invoice_no</th>\n",
       "      <th>total_amt</th>\n",
       "      <th>service_time_hrs</th>\n",
       "      <th>LTV</th>\n",
       "      <th>LTV Binned</th>\n",
       "    </tr>\n",
       "  </thead>\n",
       "  <tbody>\n",
       "    <tr>\n",
       "      <th>0</th>\n",
       "      <td>0</td>\n",
       "      <td>7</td>\n",
       "      <td>123</td>\n",
       "      <td>118262</td>\n",
       "      <td>1</td>\n",
       "      <td>1754.440</td>\n",
       "      <td>0.266667</td>\n",
       "      <td>1754.44</td>\n",
       "      <td>1</td>\n",
       "    </tr>\n",
       "    <tr>\n",
       "      <th>1</th>\n",
       "      <td>0</td>\n",
       "      <td>7</td>\n",
       "      <td>123</td>\n",
       "      <td>129425</td>\n",
       "      <td>1</td>\n",
       "      <td>263.160</td>\n",
       "      <td>1.800000</td>\n",
       "      <td>263.16</td>\n",
       "      <td>1</td>\n",
       "    </tr>\n",
       "    <tr>\n",
       "      <th>2</th>\n",
       "      <td>0</td>\n",
       "      <td>7</td>\n",
       "      <td>371</td>\n",
       "      <td>121383</td>\n",
       "      <td>2</td>\n",
       "      <td>6126.835</td>\n",
       "      <td>55.500000</td>\n",
       "      <td>12253.67</td>\n",
       "      <td>0</td>\n",
       "    </tr>\n",
       "    <tr>\n",
       "      <th>3</th>\n",
       "      <td>0</td>\n",
       "      <td>7</td>\n",
       "      <td>582</td>\n",
       "      <td>98005</td>\n",
       "      <td>1</td>\n",
       "      <td>14549.910</td>\n",
       "      <td>2959.950000</td>\n",
       "      <td>14549.91</td>\n",
       "      <td>0</td>\n",
       "    </tr>\n",
       "    <tr>\n",
       "      <th>4</th>\n",
       "      <td>0</td>\n",
       "      <td>7</td>\n",
       "      <td>631</td>\n",
       "      <td>99532</td>\n",
       "      <td>4</td>\n",
       "      <td>934.705</td>\n",
       "      <td>985.020833</td>\n",
       "      <td>3738.82</td>\n",
       "      <td>2</td>\n",
       "    </tr>\n",
       "  </tbody>\n",
       "</table>\n",
       "</div>"
      ],
      "text/plain": [
       "   make  model  pin_location customer_no  invoice_no  total_amt  service_time_hrs       LTV  LTV Binned\n",
       "0     0      7           123      118262           1   1754.440          0.266667   1754.44           1\n",
       "1     0      7           123      129425           1    263.160          1.800000    263.16           1\n",
       "2     0      7           371      121383           2   6126.835         55.500000  12253.67           0\n",
       "3     0      7           582       98005           1  14549.910       2959.950000  14549.91           0\n",
       "4     0      7           631       99532           4    934.705        985.020833   3738.82           2"
      ]
     },
     "execution_count": 28,
     "metadata": {},
     "output_type": "execute_result"
    }
   ],
   "source": [
    "temp_ltv_make_model_r.head()"
   ]
  },
  {
   "cell_type": "code",
   "execution_count": 29,
   "metadata": {},
   "outputs": [],
   "source": [
    "X=temp_ltv_make_model_r.drop([\"customer_no\",\"LTV\",\"LTV Binned\",\"invoice_no\"],1)\n",
    "y=temp_ltv_make_model_r[\"LTV Binned\"]"
   ]
  },
  {
   "cell_type": "code",
   "execution_count": 30,
   "metadata": {},
   "outputs": [],
   "source": [
    "X_train,X_test,y_train,y_test=tts(X,y,test_size=0.3,random_state=0)"
   ]
  },
  {
   "cell_type": "markdown",
   "metadata": {},
   "source": [
    "### Decision Tree Classifier"
   ]
  },
  {
   "cell_type": "code",
   "execution_count": 31,
   "metadata": {},
   "outputs": [
    {
     "name": "stdout",
     "output_type": "stream",
     "text": [
      "              precision    recall  f1-score   support\n",
      "\n",
      "           0       0.93      0.77      0.84      5561\n",
      "           1       0.88      0.99      0.93     11205\n",
      "           2       0.77      0.72      0.74      5587\n",
      "\n",
      "    accuracy                           0.86     22353\n",
      "   macro avg       0.86      0.82      0.84     22353\n",
      "weighted avg       0.87      0.86      0.86     22353\n",
      "\n"
     ]
    }
   ],
   "source": [
    "dt = DecisionTreeClassifier(criterion='entropy',max_depth=8,random_state=0)\n",
    "\n",
    "dt.fit(X_train,y_train)\n",
    "\n",
    "y_pred_dt = dt.predict(X_test)\n",
    "y_pred_dt_train = dt.predict(X_train)\n",
    "\n",
    "print(classification_report(y_test,y_pred_dt))"
   ]
  },
  {
   "cell_type": "code",
   "execution_count": 32,
   "metadata": {},
   "outputs": [
    {
     "name": "stdout",
     "output_type": "stream",
     "text": [
      "Training Accuracy :- 0.8647161454838277\n",
      "Testing Accuracy :- 0.8715200552189585\n"
     ]
    }
   ],
   "source": [
    "print(\"test Accuracy :-\" , accuracy_score(y_test,y_pred_dt))\n",
    "print(\"train Accuracy :-\" ,accuracy_score(y_train,y_pred_dt_train))"
   ]
  },
  {
   "cell_type": "code",
   "execution_count": 33,
   "metadata": {},
   "outputs": [
    {
     "data": {
      "text/plain": [
       "<BarContainer object of 5 artists>"
      ]
     },
     "execution_count": 33,
     "metadata": {},
     "output_type": "execute_result"
    },
    {
     "data": {
      "image/png": "[encoded data removed]",
      "text/plain": [
       "<Figure size 432x288 with 1 Axes>"
      ]
     },
     "metadata": {
      "needs_background": "light"
     },
     "output_type": "display_data"
    }
   ],
   "source": [
    "plt.barh(list(X),list(dt.feature_importances_))"
   ]
  },
  {
   "cell_type": "code",
   "execution_count": 34,
   "metadata": {},
   "outputs": [
    {
     "name": "stdout",
     "output_type": "stream",
     "text": [
      "0.8585273190927524\n"
     ]
    }
   ],
   "source": [
    "### Cross Validation Score\n",
    "\n",
    "dt_cv_score=cross_val_score(estimator=dt,X=X,y=y,cv=5)\n",
    "\n",
    "print(dt_cv_score.mean())"
   ]
  },
  {
   "cell_type": "markdown",
   "metadata": {},
   "source": [
    "### Random Forest Classifier"
   ]
  },
  {
   "cell_type": "code",
   "execution_count": 36,
   "metadata": {},
   "outputs": [
    {
     "data": {
      "text/plain": [
       "RandomForestClassifier(criterion='entropy', max_depth=8, random_state=0)"
      ]
     },
     "execution_count": 36,
     "metadata": {},
     "output_type": "execute_result"
    }
   ],
   "source": [
    "rfc=RandomForestClassifier(criterion='entropy',max_depth=8,random_state=0)\n",
    "rfc.fit(X_train,y_train)"
   ]
  },
  {
   "cell_type": "code",
   "execution_count": 37,
   "metadata": {},
   "outputs": [],
   "source": [
    "y_pred_rfc=rfc.predict(X_test)"
   ]
  },
  {
   "cell_type": "code",
   "execution_count": 38,
   "metadata": {},
   "outputs": [
    {
     "name": "stdout",
     "output_type": "stream",
     "text": [
      "              precision    recall  f1-score   support\n",
      "\n",
      "           0       0.96      0.72      0.82      5561\n",
      "           1       0.86      1.00      0.92     11205\n",
      "           2       0.75      0.70      0.72      5587\n",
      "\n",
      "    accuracy                           0.85     22353\n",
      "   macro avg       0.86      0.81      0.82     22353\n",
      "weighted avg       0.86      0.85      0.85     22353\n",
      "\n"
     ]
    }
   ],
   "source": [
    "print(classification_report(y_test,y_pred_rfc))"
   ]
  },
  {
   "cell_type": "code",
   "execution_count": 39,
   "metadata": {},
   "outputs": [
    {
     "data": {
      "text/plain": [
       "0.8537556480114527"
      ]
     },
     "execution_count": 39,
     "metadata": {},
     "output_type": "execute_result"
    }
   ],
   "source": [
    "accuracy_score(y_test,y_pred_rfc)"
   ]
  },
  {
   "cell_type": "code",
   "execution_count": 41,
   "metadata": {},
   "outputs": [
    {
     "name": "stdout",
     "output_type": "stream",
     "text": [
      "test Accuracy :- 0.8537556480114527\n",
      "train Accuracy :- 0.8608213820078227\n"
     ]
    }
   ],
   "source": [
    "print(\"test Accuracy :-\" , accuracy_score(y_test,y_pred_rfc))\n",
    "print(\"train Accuracy :-\" ,accuracy_score(y_train,rfc.predict(X_train)))"
   ]
  },
  {
   "cell_type": "code",
   "execution_count": 40,
   "metadata": {},
   "outputs": [
    {
     "data": {
      "text/plain": [
       "<BarContainer object of 5 artists>"
      ]
     },
     "execution_count": 40,
     "metadata": {},
     "output_type": "execute_result"
    },
    {
     "data": {
      "image/png": "[encoded data removed]",
      "text/plain": [
       "<Figure size 432x288 with 1 Axes>"
      ]
     },
     "metadata": {
      "needs_background": "light"
     },
     "output_type": "display_data"
    }
   ],
   "source": [
    "plt.barh(list(X),list(rfc.feature_importances_))"
   ]
  },
  {
   "cell_type": "markdown",
   "metadata": {},
   "source": [
    "### XgBoost Classifier"
   ]
  },
  {
   "cell_type": "code",
   "execution_count": 42,
   "metadata": {},
   "outputs": [],
   "source": [
    "xgb=XGBClassifier()"
   ]
  },
  {
   "cell_type": "code",
   "execution_count": 43,
   "metadata": {},
   "outputs": [
    {
     "data": {
      "text/plain": [
       "XGBClassifier(objective='multi:softprob')"
      ]
     },
     "execution_count": 43,
     "metadata": {},
     "output_type": "execute_result"
    }
   ],
   "source": [
    "xgb.fit(X_train,y_train)"
   ]
  },
  {
   "cell_type": "code",
   "execution_count": 44,
   "metadata": {},
   "outputs": [],
   "source": [
    "y_pred_xgb=xgb.predict(X_test)"
   ]
  },
  {
   "cell_type": "code",
   "execution_count": 45,
   "metadata": {},
   "outputs": [
    {
     "name": "stdout",
     "output_type": "stream",
     "text": [
      "test Accuracy :- 0.8631950968550083\n",
      "train Accuracy :- 0.8668993020937188\n"
     ]
    }
   ],
   "source": [
    "print(\"test Accuracy :-\" , accuracy_score(y_test,xgb.predict(X_test)))\n",
    "print(\"train Accuracy :-\" ,accuracy_score(y_train,xgb.predict(X_train)))"
   ]
  },
  {
   "cell_type": "code",
   "execution_count": 46,
   "metadata": {},
   "outputs": [
    {
     "name": "stdout",
     "output_type": "stream",
     "text": [
      "              precision    recall  f1-score   support\n",
      "\n",
      "           0       0.94      0.75      0.84      5561\n",
      "           1       0.88      0.99      0.93     11205\n",
      "           2       0.76      0.72      0.74      5587\n",
      "\n",
      "    accuracy                           0.86     22353\n",
      "   macro avg       0.86      0.82      0.84     22353\n",
      "weighted avg       0.86      0.86      0.86     22353\n",
      "\n"
     ]
    }
   ],
   "source": [
    "print(classification_report(y_test,y_pred_xgb))"
   ]
  },
  {
   "cell_type": "code",
   "execution_count": null,
   "metadata": {},
   "outputs": [],
   "source": []
  }
 ],
 "metadata": {
  "kernelspec": {
   "display_name": "Python 3.7.4 64-bit ('ProgramData': virtualenv)",
   "language": "python",
   "name": "python37464bitprogramdatavirtualenv2f5dd8a4644a47eca8624813dcf23a92"
  },
  "language_info": {
   "codemirror_mode": {
    "name": "ipython",
    "version": 3
   },
   "file_extension": ".py",
   "mimetype": "text/x-python",
   "name": "python",
   "nbconvert_exporter": "python",
   "pygments_lexer": "ipython3",
   "version": "3.7.4"
  }
 },
 "nbformat": 4,
 "nbformat_minor": 2
}
