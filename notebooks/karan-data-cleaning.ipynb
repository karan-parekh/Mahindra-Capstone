{
 "cells": [
  {
   "cell_type": "markdown",
   "metadata": {},
   "source": [
    "## Imports"
   ]
  },
  {
   "cell_type": "code",
   "execution_count": 1,
   "metadata": {},
   "outputs": [],
   "source": [
    "import pandas as pd"
   ]
  },
  {
   "cell_type": "markdown",
   "metadata": {},
   "source": [
    "## Helper methods"
   ]
  },
  {
   "cell_type": "code",
   "execution_count": 2,
   "metadata": {},
   "outputs": [],
   "source": [
    "def missing_values_counts(df: pd.DataFrame) -> pd.Series:\n",
    "    \"\"\"Returns number of missing values in each column\"\"\"\n",
    "    return df.isnull().sum()\n",
    "\n",
    "def missing_values_percent(df: pd.DataFrame) -> pd.Series:\n",
    "    \"\"\"Returns percentage of missing values in each column\"\"\"\n",
    "    percent_null = (df.isnull().sum() / df.shape[0]) * 100\n",
    "    return pd.Series(percent_null, index=df.columns)\n",
    "\n",
    "def remove_null_columns(df: pd.DataFrame, limit=50, zero_is_null=True) -> pd.DataFrame:\n",
    "    \"\"\"Drops all columns with more than limit percent null values\"\"\"\n",
    "    rows  = df.shape[0]\n",
    "    cols  = df.columns\n",
    "    drops = []\n",
    "    \n",
    "    percent_null = lambda c: (df[c].isnull().sum() / rows) * 100\n",
    "    is_zero      = lambda v: True if v == 0 else False\n",
    "    percent_zero = lambda c: (df[c].apply(is_zero).sum() / rows) * 100\n",
    "    \n",
    "    for col in cols:\n",
    "        if percent_null(col) > limit:\n",
    "            drops.append(col)\n",
    "    \n",
    "        if (zero_is_null) and (percent_zero(col) > limit):\n",
    "            drops.append(col)\n",
    "\n",
    "    return df.drop(drops, 1)\n"
   ]
  },
  {
   "cell_type": "markdown",
   "metadata": {},
   "source": [
    "## Reading Data"
   ]
  },
  {
   "cell_type": "code",
   "execution_count": 3,
   "metadata": {},
   "outputs": [
    {
     "output_type": "stream",
     "name": "stdout",
     "text": "(555338, 9)\n(1048575, 10)\n(492314, 59)\n"
    }
   ],
   "source": [
    "customer_path = \"data/customer.csv\"\n",
    "inventory_path = \"data/inventory.csv\"\n",
    "invoice_path = \"data/invoice.csv\"\n",
    "\n",
    "customer = pd.read_csv(customer_path)\n",
    "inventory = pd.read_csv(inventory_path)\n",
    "invoice = pd.read_csv(invoice_path)\n",
    "\n",
    "print(customer.shape)\n",
    "print(inventory.shape)\n",
    "print(invoice.shape)"
   ]
  },
  {
   "cell_type": "markdown",
   "metadata": {},
   "source": [
    "## Dropping colums with more than 50% null values"
   ]
  },
  {
   "cell_type": "code",
   "execution_count": 4,
   "metadata": {},
   "outputs": [
    {
     "output_type": "stream",
     "name": "stdout",
     "text": "(555338, 5)\n(1048575, 9)\n(492314, 29)\n"
    }
   ],
   "source": [
    "customer = remove_null_columns(customer)\n",
    "inventory = remove_null_columns(inventory)\n",
    "invoice = remove_null_columns(invoice)\n",
    "\n",
    "print(customer.shape)\n",
    "print(inventory.shape)\n",
    "print(invoice.shape)"
   ]
  },
  {
   "cell_type": "markdown",
   "metadata": {},
   "source": [
    "## Dropping unnecessary columns"
   ]
  },
  {
   "cell_type": "code",
   "execution_count": 5,
   "metadata": {},
   "outputs": [],
   "source": [
    "inventory = inventory.drop(['Unnamed: 0'], 1)\n",
    "invoice = invoice.drop(['Unnamed: 0'], 1)\n"
   ]
  },
  {
   "cell_type": "markdown",
   "metadata": {},
   "source": [
    "## Renaming columns to python friendly names"
   ]
  },
  {
   "cell_type": "code",
   "execution_count": 6,
   "metadata": {},
   "outputs": [
    {
     "output_type": "execute_result",
     "data": {
      "text/plain": "Index(['business_partner', 'customer_no', 'partner_type', 'data_origin',\n       'title'],\n      dtype='object')"
     },
     "metadata": {},
     "execution_count": 6
    }
   ],
   "source": [
    "columns = {\n",
    "    'Business Partner': 'business_partner', \n",
    "    'Customer No.': 'customer_no',\n",
    "    'Partner Type': 'partner_type',\n",
    "    'Data Origin': 'data_origin',\n",
    "    'Title': 'title'\n",
    "    }\n",
    "\n",
    "customer = customer.rename(columns=columns)\n",
    "customer.columns"
   ]
  },
  {
   "cell_type": "code",
   "execution_count": 7,
   "metadata": {},
   "outputs": [
    {
     "output_type": "execute_result",
     "data": {
      "text/plain": "Index(['job_card_no', 'order_item', 'material', 'description', 'item_category',\n       'order_quantity', 'target_quantity_unit', 'net_value'],\n      dtype='object')"
     },
     "metadata": {},
     "execution_count": 7
    }
   ],
   "source": [
    "columns = {\n",
    "    'DBM Order': 'job_card_no', \n",
    "    'Order Item': 'order_item',\n",
    "    'Material': 'material',\n",
    "    'Description': 'description',\n",
    "    'Item Category': 'item_category',\n",
    "    'Order Quantity': 'order_quantity',\n",
    "    'Target quantity UoM': 'target_quantity_unit',\n",
    "    'Net value': 'net_value'\n",
    "    }\n",
    "\n",
    "inventory = inventory.rename(columns=columns)\n",
    "inventory.columns"
   ]
  },
  {
   "cell_type": "code",
   "execution_count": 8,
   "metadata": {},
   "outputs": [
    {
     "output_type": "execute_result",
     "data": {
      "text/plain": "Index(['locality', 'city', 'customer_type', 'customer_no', 'district',\n       'gate_pass_time', 'invoice_date', 'invoice_no', 'invoice_time',\n       'job_card_no', 'job_card_date', 'job_card_time', 'km_reading',\n       'labour_total', 'make', 'model', 'odn_no', 'order_type', 'parts_total',\n       'pin_code', 'plant_code', 'plant_name', 'print_status', 'regn_no',\n       'technician_name', 'total_amt', 'total_value', 'user_id'],\n      dtype='object')"
     },
     "metadata": {},
     "execution_count": 8
    }
   ],
   "source": [
    "columns = {\n",
    "    'Area / Locality': 'locality',\n",
    "    'CITY': 'city',\n",
    "    'Cust Type': 'customer_type',\n",
    "    'Customer No.': 'customer_no',\n",
    "    'District': 'district',\n",
    "    'Gate Pass Time': 'gate_pass_time', \n",
    "    'Invoice Date': 'invoice_date',\n",
    "    'Invoice No': 'invoice_no' ,\n",
    "    'Invoice Time': 'invoice_time',\n",
    "    'Job Card No': 'job_card_no',\n",
    "    'JobCard Date': 'job_card_date',\n",
    "    'JobCard Time': 'job_card_time',\n",
    "    'KMs Reading': 'km_reading',\n",
    "    'Labour Total': 'labour_total',\n",
    "    'Make': 'make',\n",
    "    'Model': 'model',\n",
    "    'ODN No.': 'odn_no',\n",
    "    'Order Type': 'order_type',\n",
    "    'Parts Total': 'parts_total',\n",
    "    'Pin code': 'pin_code',\n",
    "    'Plant': 'plant_code',\n",
    "    'Plant Name1': 'plant_name',\n",
    "    'Print Status': 'print_status',\n",
    "    'Regn No': 'regn_no',\n",
    "    'Technician Name': 'technician_name',\n",
    "    'Total Amt Wtd Tax.': 'total_amt',\n",
    "    'Total Value': 'total_value',\n",
    "    'User ID': 'user_id'\n",
    "    }\n",
    "\n",
    "invoice = invoice.rename(columns=columns)\n",
    "invoice.columns"
   ]
  },
  {
   "cell_type": "markdown",
   "metadata": {},
   "source": [
    "## Merging customer df with invoice df"
   ]
  },
  {
   "cell_type": "code",
   "execution_count": 9,
   "metadata": {},
   "outputs": [],
   "source": [
    "customer_invoice = pd.merge(customer, invoice, how='left', on='customer_no')"
   ]
  },
  {
   "cell_type": "code",
   "execution_count": 10,
   "metadata": {},
   "outputs": [
    {
     "output_type": "execute_result",
     "data": {
      "text/plain": "(571416, 32)"
     },
     "metadata": {},
     "execution_count": 10
    }
   ],
   "source": [
    "customer_invoice.shape"
   ]
  },
  {
   "cell_type": "markdown",
   "metadata": {},
   "source": [
    "## Merging customer&invoice df with inventory df"
   ]
  },
  {
   "cell_type": "code",
   "execution_count": 11,
   "metadata": {},
   "outputs": [],
   "source": [
    "clean_df = pd.merge(customer_invoice, inventory, how='left', on='job_card_no')"
   ]
  },
  {
   "cell_type": "code",
   "execution_count": 12,
   "metadata": {},
   "outputs": [
    {
     "output_type": "execute_result",
     "data": {
      "text/plain": "(593935, 39)"
     },
     "metadata": {},
     "execution_count": 12
    }
   ],
   "source": [
    "clean_df.shape"
   ]
  },
  {
   "cell_type": "code",
   "execution_count": 14,
   "metadata": {},
   "outputs": [
    {
     "output_type": "execute_result",
     "data": {
      "text/plain": "business_partner         0.000000\ncustomer_no              0.000000\npartner_type             0.620270\ndata_origin              1.555726\ntitle                   13.240506\nlocality                99.892918\ncity                    92.887100\ncustomer_type           92.887100\ndistrict                92.887100\ngate_pass_time          92.887100\ninvoice_date            92.887100\ninvoice_no              92.887100\ninvoice_time            92.887100\njob_card_no             92.887100\njob_card_date           92.887100\njob_card_time           92.887100\nkm_reading              92.887100\nlabour_total            92.887100\nmake                    92.887100\nmodel                   92.892320\nodn_no                  93.109515\norder_type              92.887100\nparts_total             92.887100\npin_code                92.887100\nplant_code              92.887100\nplant_name              92.887100\nprint_status            92.887100\nregn_no                 92.887100\ntechnician_name         94.852635\ntotal_amt               92.887100\ntotal_value             93.109515\nuser_id                 92.887100\norder_item              95.628983\nmaterial                95.644978\ndescription             95.644978\nitem_category           95.628983\norder_quantity          95.628983\ntarget_quantity_unit    95.644978\nnet_value               95.628983\ndtype: float64"
     },
     "metadata": {},
     "execution_count": 14
    }
   ],
   "source": [
    "\n",
    "missing_values_percent(clean_df)"
   ]
  },
  {
   "cell_type": "code",
   "execution_count": null,
   "metadata": {},
   "outputs": [],
   "source": []
  }
 ],
 "metadata": {
  "language_info": {
   "codemirror_mode": {
    "name": "ipython",
    "version": 3
   },
   "file_extension": ".py",
   "mimetype": "text/x-python",
   "name": "python",
   "nbconvert_exporter": "python",
   "pygments_lexer": "ipython3",
   "version": "3.7.4-final"
  },
  "orig_nbformat": 2,
  "kernelspec": {
   "name": "python37432bitc1904522e8ce46829924bddcb110fc44",
   "display_name": "Python 3.7.4 32-bit"
  }
 },
 "nbformat": 4,
 "nbformat_minor": 2
}